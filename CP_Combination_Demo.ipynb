{
 "cells": [
  {
   "cell_type": "markdown",
   "metadata": {},
   "source": [
    "# CP combination demo"
   ]
  },
  {
   "cell_type": "code",
   "execution_count": null,
   "metadata": {
    "ExecuteTime": {
     "end_time": "2020-08-03T10:10:24.578544Z",
     "start_time": "2020-08-03T10:10:24.067569Z"
    }
   },
   "outputs": [],
   "source": [
    "import numpy as np\n",
    "import scipy.stats as ss\n",
    "from sklearn.model_selection import train_test_split\n",
    "import pandas as pd"
   ]
  },
  {
   "cell_type": "code",
   "execution_count": null,
   "metadata": {
    "ExecuteTime": {
     "end_time": "2020-08-03T10:10:24.587017Z",
     "start_time": "2020-08-03T10:10:24.580868Z"
    }
   },
   "outputs": [],
   "source": [
    "from IPython.display import display, HTML\n",
    "\n",
    "display(HTML(\"<style>.container {width: 90% !important;} </style>\"))"
   ]
  },
  {
   "cell_type": "code",
   "execution_count": null,
   "metadata": {
    "ExecuteTime": {
     "end_time": "2020-08-03T10:10:24.980802Z",
     "start_time": "2020-08-03T10:10:24.588674Z"
    }
   },
   "outputs": [],
   "source": [
    "import panel as pn\n",
    "\n",
    "pn.extension(comm='ipywidgets')"
   ]
  },
  {
   "cell_type": "code",
   "execution_count": null,
   "metadata": {
    "ExecuteTime": {
     "end_time": "2020-08-03T10:10:25.126179Z",
     "start_time": "2020-08-03T10:10:24.984916Z"
    }
   },
   "outputs": [],
   "source": [
    "%matplotlib inline\n",
    "from matplotlib.figure import Figure"
   ]
  },
  {
   "cell_type": "code",
   "execution_count": null,
   "metadata": {
    "ExecuteTime": {
     "end_time": "2020-08-03T10:10:25.130158Z",
     "start_time": "2020-08-03T10:10:25.128117Z"
    }
   },
   "outputs": [],
   "source": [
    "import param"
   ]
  },
  {
   "cell_type": "code",
   "execution_count": null,
   "metadata": {
    "ExecuteTime": {
     "end_time": "2020-08-03T10:10:25.135981Z",
     "start_time": "2020-08-03T10:10:25.132074Z"
    }
   },
   "outputs": [],
   "source": [
    "from CP import *"
   ]
  },
  {
   "cell_type": "code",
   "execution_count": null,
   "metadata": {
    "ExecuteTime": {
     "end_time": "2020-08-03T10:10:25.189034Z",
     "start_time": "2020-08-03T10:10:25.138493Z"
    }
   },
   "outputs": [],
   "source": [
    "def plot_score_hist(alpha_0_a, alpha_0_b, alpha_1_a, alpha_1_b):\n",
    "    f = Figure(figsize=(18, 6))\n",
    "    ax_a = f.add_subplot(1, 3, 1)\n",
    "    ax_a.hist([alpha_0_a, alpha_1_a], bins=np.linspace(-10, 10, 51))\n",
    "    ax_b = f.add_subplot(1, 3, 2, sharey=ax_a)\n",
    "    ax_b.hist([alpha_0_b, alpha_1_b], bins=np.linspace(-10, 10, 51))\n",
    "\n",
    "    ax_c = f.add_subplot(1, 3, 3)\n",
    "    ax_c.plot(alpha_0_a, alpha_0_b, \"g.\", alpha=0.05);\n",
    "    ax_c.plot(alpha_1_a, alpha_1_b, \"r.\", alpha=0.05);\n",
    "    f.suptitle(\"Histograms of simulated scores (blue and orange)\\n\",\n",
    "               fontsize=16);\n",
    "    return f\n",
    "\n",
    "\n",
    "class SynthDataSet(param.Parameterized):\n",
    "    N = param.Integer(default=2000, bounds=(100, 10000))\n",
    "    percentage_of_positives = param.Number(default=50.0, bounds=(0.1, 100.0))\n",
    "    seed = param.Integer(default=0, bounds=(0, 32767))\n",
    "    cc = param.Number(default=0.0, bounds=(-1.0, 1.0))\n",
    "    var = param.Number(default=1.0, bounds=(0.5, 2.0))\n",
    "\n",
    "    micp_calibration_fraction = param.Number(default=0.5, bounds=(0.01, 0.5))\n",
    "    comb_calibration_fraction = param.Number(default=0.3, bounds=(0.01, 0.5))\n",
    "\n",
    "    # Outputs\n",
    "    output = param.Dict(default=dict(),\n",
    "                        precedence=-1)  # To have all updates in one go\n",
    "\n",
    "    n = 2\n",
    "\n",
    "    def __init__(self, **params):\n",
    "        super(SynthDataSet, self).__init__(**params)\n",
    "        self.update()\n",
    "\n",
    "    def update(self):\n",
    "        output = dict()\n",
    "\n",
    "        cov = self.cc * np.ones(shape=(self.n, self.n))\n",
    "        cov[np.diag_indices(self.n)] = self.var\n",
    "\n",
    "        np.random.seed(self.seed)\n",
    "\n",
    "        positives_number = int(self.N * self.percentage_of_positives / 100)\n",
    "        negatives_number = self.N - positives_number\n",
    "        \n",
    "        try:\n",
    "            alpha_neg = ss.multivariate_normal(mean=[-1, -1], cov=cov).rvs(\n",
    "                size=(negatives_number,))\n",
    "            alpha_pos = ss.multivariate_normal(mean=[1, 1], cov=cov).rvs(\n",
    "                size=(positives_number,))\n",
    "        except:\n",
    "            placeholder = np.array([0.0])\n",
    "            output['scores_cal_a'] = placeholder\n",
    "            output['scores_pcal_a'] = placeholder\n",
    "            output['scores_cal_b'] = placeholder\n",
    "            output['scores_pcal_b'] = placeholder\n",
    "            output['y_cal'] = placeholder\n",
    "            output['y_pcal'] = placeholder\n",
    "            output['scores_test_a'] = placeholder\n",
    "            output['scores_test_b'] = placeholder\n",
    "            self.output = output\n",
    "            return\n",
    "            \n",
    "\n",
    "        alpha_neg_a = alpha_neg[:, 0]\n",
    "        alpha_neg_b = alpha_neg[:, 1]\n",
    "        alpha_pos_a = alpha_pos[:, 0]\n",
    "        alpha_pos_b = alpha_pos[:, 1]\n",
    "\n",
    "        scores_a = np.concatenate((alpha_neg_a, alpha_pos_a))\n",
    "        scores_b = np.concatenate((alpha_neg_b, alpha_pos_b))\n",
    "        y = np.concatenate((np.zeros(negatives_number, dtype=np.int8),\n",
    "                            np.ones(positives_number, dtype=np.int8)))\n",
    "\n",
    "        micp_calibration_size = int(self.micp_calibration_fraction * self.N)\n",
    "        comb_calibration_size = int(self.comb_calibration_fraction * self.N)\n",
    "        scores_tr_a, output['scores_test_a'], \\\n",
    "        scores_tr_b, output['scores_test_b'], \\\n",
    "        y_tr, output['y_test'] = train_test_split(scores_a, scores_b, y,\n",
    "                                                  train_size=micp_calibration_size + comb_calibration_size,\n",
    "                                                  stratify=y)\n",
    "\n",
    "        output['scores_cal_a'], output['scores_pcal_a'], \\\n",
    "        output['scores_cal_b'], output['scores_pcal_b'], \\\n",
    "        output['y_cal'], output['y_pcal'] = train_test_split(scores_tr_a,\n",
    "                                                             scores_tr_b, y_tr,\n",
    "                                                             train_size=micp_calibration_size,\n",
    "                                                             stratify=y_tr)\n",
    "\n",
    "        self.output = output\n",
    "\n",
    "    @pn.depends(\"N\", \"percentage_of_positives\", \"seed\", \"cc\", \"var\",\n",
    "                \"micp_calibration_fraction\", \"comb_calibration_fraction\")\n",
    "    def view(self):\n",
    "        self.update()\n",
    "        f = plot_score_hist(\n",
    "            self.output['scores_cal_a'][self.output['y_cal'] == 0],\n",
    "            self.output['scores_cal_b'][self.output['y_cal'] == 0],\n",
    "            self.output['scores_cal_a'][self.output['y_cal'] == 1],\n",
    "            self.output['scores_cal_b'][self.output['y_cal'] == 1])\n",
    "\n",
    "        return f\n",
    "\n",
    "    def view2(self):\n",
    "        return \"# %d\" % self.N\n",
    "\n",
    "\n",
    "sd = SynthDataSet()"
   ]
  },
  {
   "cell_type": "code",
   "execution_count": null,
   "metadata": {
    "ExecuteTime": {
     "end_time": "2020-08-03T10:10:25.196289Z",
     "start_time": "2020-08-03T10:10:25.190823Z"
    }
   },
   "outputs": [],
   "source": [
    "def p_plane_plot(p_0, p_1, y, title_part, pics_title_part):\n",
    "    def alpha_y(y):\n",
    "        \"\"\"Tune the transparency\"\"\"\n",
    "        a = 1 - np.sum(y) / 10000\n",
    "        if a < 0.05:\n",
    "            a = 0.05\n",
    "        return a\n",
    "\n",
    "    f, (ax1, ax2) = plt.subplots(1, 2, figsize=(20, 10))\n",
    "    ax1.plot(p_0[y == 0], p_1[y == 0], 'g.', label='Negative',\n",
    "             alpha=alpha_y(y == 0));\n",
    "    ax2.plot(p_0[y == 1], p_1[y == 1], 'r.', label='Positive',\n",
    "             alpha=alpha_y(y == 1));\n",
    "    ax1.set_title(\"Inactives $(p_0,p_1)$ for \" + title_part, fontsize=16)\n",
    "    ax2.set_title(\"Actives $(p_0,p_1)$ for \" + title_part, fontsize=16)\n",
    "    ax1.set_xlabel('$p_0$', fontsize=14)\n",
    "    ax1.set_ylabel('$p_1$', fontsize=14)\n",
    "\n",
    "    ax2.set_xlabel('$p_0$', fontsize=14)\n",
    "\n",
    "    ax1.grid()\n",
    "    ax2.grid()"
   ]
  },
  {
   "cell_type": "code",
   "execution_count": null,
   "metadata": {
    "ExecuteTime": {
     "end_time": "2020-08-03T10:10:25.203729Z",
     "start_time": "2020-08-03T10:10:25.198399Z"
    }
   },
   "outputs": [],
   "source": [
    "from scipy.interpolate import UnivariateSpline, InterpolatedUnivariateSpline, \\\n",
    "    interp1d\n",
    "\n",
    "\n",
    "def ecdf(x):\n",
    "    v, c = np.unique(x, return_counts='true')\n",
    "    q = np.cumsum(c) / np.sum(c)\n",
    "    return v, q\n",
    "\n",
    "\n",
    "def ECDF_cal_p(p_test, p_cal):\n",
    "    v, q = ecdf(p_cal)\n",
    "    v = np.concatenate(([0], v))\n",
    "    q = np.concatenate(([0], q))\n",
    "    us = interp1d(v, q, bounds_error=False, fill_value=(0, 1))\n",
    "    return us(p_test)"
   ]
  },
  {
   "cell_type": "markdown",
   "metadata": {},
   "source": [
    "# Let's apply MICP as usual"
   ]
  },
  {
   "cell_type": "markdown",
   "metadata": {},
   "source": [
    "Let's now redo things computing $p_0$ and $p_1$.\n",
    "\n",
    "Let's assume that the 'alphas' are actually the decision function values out of an SVM."
   ]
  },
  {
   "cell_type": "code",
   "execution_count": null,
   "metadata": {
    "ExecuteTime": {
     "end_time": "2020-08-03T10:10:25.208596Z",
     "start_time": "2020-08-03T10:10:25.206739Z"
    }
   },
   "outputs": [],
   "source": [
    "from CP import pValues"
   ]
  },
  {
   "cell_type": "code",
   "execution_count": null,
   "metadata": {
    "ExecuteTime": {
     "end_time": "2020-08-03T10:10:25.217076Z",
     "start_time": "2020-08-03T10:10:25.210310Z"
    }
   },
   "outputs": [],
   "source": [
    "def pValue_hist(p_0, p_1, y, pic_title=None,\n",
    "                labels_names=[\"Negative\", \"Positive\"]):\n",
    "    u_l = unique_labels(y)\n",
    "    if len(u_l) != 2:\n",
    "        return\n",
    "\n",
    "    f = Figure(figsize=(18, 6))\n",
    "    ax_0 = f.add_subplot(1, 2, 1)\n",
    "\n",
    "    ax_0.hist((p_0[y == u_l[0]], p_0[y == u_l[1]]),\n",
    "              bins=np.linspace(0, 1, 101),\n",
    "              label=labels_names);\n",
    "    ax_0.set_title(\"$p_{%s}$\" % str(u_l[0]), fontsize=14)\n",
    "    if not (labels_names is None):\n",
    "        ax_0.legend()\n",
    "\n",
    "    ax_1 = f.add_subplot(1, 2, 2)\n",
    "    ax_1.hist((p_1[y == u_l[0]], p_1[y == u_l[1]]),\n",
    "              bins=np.linspace(0, 1, 101),\n",
    "              label=labels_names);\n",
    "    ax_1.set_title(\"$p_{%s}$\" % str(u_l[1]), fontsize=14)\n",
    "    if not (labels_names is None):\n",
    "        ax_1.legend()\n",
    "\n",
    "    if not (pic_title is None):\n",
    "        f.suptitle(\"p-value histograms for %s\" % pic_title, fontsize=16)\n",
    "\n",
    "    return f"
   ]
  },
  {
   "cell_type": "code",
   "execution_count": null,
   "metadata": {
    "ExecuteTime": {
     "end_time": "2020-08-03T10:10:25.268642Z",
     "start_time": "2020-08-03T10:10:25.218872Z"
    }
   },
   "outputs": [],
   "source": [
    "\n",
    "def ncm(scores, label):\n",
    "    if label == 1:\n",
    "        return -scores\n",
    "    else:\n",
    "        return scores\n",
    "\n",
    "\n",
    "class MICP(param.Parameterized):\n",
    "    sd = param.Parameter(precedence=-1)\n",
    "    p_0_a = param.Array(precedence=-1)\n",
    "    p_1_a = param.Array(precedence=-1)\n",
    "    p_0_b = param.Array(precedence=-1)\n",
    "    p_1_b = param.Array(precedence=-1)\n",
    "    p_0_a_cal = param.Array(precedence=-1)\n",
    "    p_1_a_cal = param.Array(precedence=-1)\n",
    "    p_0_b_cal = param.Array(precedence=-1)\n",
    "    p_1_b_cal = param.Array(precedence=-1)\n",
    "\n",
    "    def __init__(self, sd, **params):\n",
    "        self.sd = sd\n",
    "        super(MICP, self).__init__(**params)\n",
    "        self.update()\n",
    "\n",
    "    def aux_update_(self, scores_cal_a, scores_cal_b, scores_pcal_a,\n",
    "                    scores_pcal_b, scores_test_a, scores_test_b, y_cal, y_pcal,\n",
    "                    y_test):\n",
    "        randomize = False\n",
    "\n",
    "        with param.batch_watch(self):\n",
    "            self.p_0_a = pValues(\n",
    "                calibrationAlphas=ncm(scores_cal_a[y_cal == 0], 0),\n",
    "                testAlphas=ncm(scores_test_a, 0),\n",
    "                randomized=randomize)\n",
    "            self.p_1_a = pValues(\n",
    "                calibrationAlphas=ncm(scores_cal_a[y_cal == 1], 1),\n",
    "                testAlphas=ncm(scores_test_a, 1),\n",
    "                randomized=randomize)\n",
    "\n",
    "            self.p_0_b = pValues(\n",
    "                calibrationAlphas=ncm(scores_cal_b[y_cal == 0], 0),\n",
    "                testAlphas=ncm(scores_test_b, 0),\n",
    "                randomized=randomize)\n",
    "            self.p_1_b = pValues(\n",
    "                calibrationAlphas=ncm(scores_cal_b[y_cal == 1], 1),\n",
    "                testAlphas=ncm(scores_test_b, 1),\n",
    "                randomized=randomize)\n",
    "            self.p_0_a_cal = pValues(calibrationAlphas=ncm(scores_cal_a[y_cal == 0], 0),\n",
    "                                     testAlphas=ncm(scores_pcal_a, 0),\n",
    "                                     randomized=randomize)\n",
    "            self.p_1_a_cal = pValues(calibrationAlphas=ncm(scores_cal_a[y_cal == 1], 1),\n",
    "                                     testAlphas=ncm(scores_pcal_a, 1),\n",
    "                                     randomized=randomize)\n",
    "\n",
    "            self.p_0_b_cal = pValues(calibrationAlphas=ncm(scores_cal_b[y_cal == 0], 0),\n",
    "                                     testAlphas=ncm(scores_pcal_b, 0),\n",
    "                                     randomized=randomize)\n",
    "            self.p_1_b_cal = pValues(calibrationAlphas=ncm(scores_cal_b[y_cal == 1], 1),\n",
    "                                     testAlphas=ncm(scores_pcal_b, 1),\n",
    "                                     randomized=randomize)\n",
    "\n",
    "    @pn.depends(\"sd.output\", watch=True)\n",
    "    def update(self):\n",
    "        self.aux_update_(**self.sd.output)\n",
    "\n",
    "    @pn.depends(\"p_0_a\", \"p_1_a\", \"p_0_b\", \"p_1_b\")\n",
    "    def view(self):\n",
    "        return pn.Column(\n",
    "            pValue_hist(self.p_0_a, self.p_1_a, self.sd.output['y_test']),\n",
    "            pValue_hist(self.p_0_b, self.p_1_b, self.sd.output['y_test']))\n",
    "\n",
    "    @pn.depends(\"p_0_a\", \"p_1_a\", \"p_0_b\", \"p_1_b\")\n",
    "    def view_tables(self):\n",
    "        c_a_f = cp_cm_widget(self.p_0_a, self.p_1_a, self.sd.output['y_test'])\n",
    "        c_b_f = cp_cm_widget(self.p_0_b, self.p_1_b, self.sd.output['y_test'])\n",
    "\n",
    "        return pn.Row(c_a_f, c_b_f)\n",
    "\n",
    "    @pn.depends(\"p_0_a\", \"p_1_a\", \"p_0_b\", \"p_1_b\")\n",
    "    def view_p_plane(self):\n",
    "        f = Figure(figsize=(18, 6))\n",
    "        ax = f.add_subplot(1, 1, 1)\n",
    "        ax.plot(self.p_0_a, self.p_0_b, \"g.\", alpha=0.05, label=\"$p_0$\")\n",
    "        ax.plot(self.p_1_a, self.p_1_b, \"r.\", alpha=0.05, label=\"$p_1$\")\n",
    "        ax.set_xlabel(\"p-value for set 'a'\")\n",
    "        ax.set_ylabel(\"p-value for set 'b'\")\n",
    "        ax.legend()\n",
    "        ax.set_aspect(1.0)\n",
    "        return f"
   ]
  },
  {
   "cell_type": "markdown",
   "metadata": {},
   "source": [
    "Now we compute the p-values with Mondrian Inductive"
   ]
  },
  {
   "cell_type": "code",
   "execution_count": null,
   "metadata": {
    "ExecuteTime": {
     "end_time": "2020-08-03T10:10:25.276260Z",
     "start_time": "2020-08-03T10:10:25.270654Z"
    }
   },
   "outputs": [],
   "source": [
    "micp = MICP(sd)"
   ]
  },
  {
   "cell_type": "code",
   "execution_count": null,
   "metadata": {
    "ExecuteTime": {
     "end_time": "2020-08-03T10:10:25.280158Z",
     "start_time": "2020-08-03T10:10:25.277849Z"
    },
    "scrolled": false
   },
   "outputs": [],
   "source": [
    "# micp_panel = pn.Column(pn.Row(micp.sd.param, micp.sd.view),\n",
    "#                       micp.view)"
   ]
  },
  {
   "cell_type": "code",
   "execution_count": null,
   "metadata": {},
   "outputs": [],
   "source": []
  },
  {
   "cell_type": "code",
   "execution_count": null,
   "metadata": {
    "ExecuteTime": {
     "end_time": "2020-08-03T10:10:25.284965Z",
     "start_time": "2020-08-03T10:10:25.282401Z"
    }
   },
   "outputs": [],
   "source": [
    "# micp_panel"
   ]
  },
  {
   "cell_type": "code",
   "execution_count": null,
   "metadata": {},
   "outputs": [],
   "source": []
  },
  {
   "cell_type": "code",
   "execution_count": null,
   "metadata": {},
   "outputs": [],
   "source": []
  },
  {
   "cell_type": "code",
   "execution_count": null,
   "metadata": {
    "ExecuteTime": {
     "end_time": "2020-08-03T10:10:25.290001Z",
     "start_time": "2020-08-03T10:10:25.287877Z"
    }
   },
   "outputs": [],
   "source": [
    "def ECDF_comb(comb_func, ps, ps_cal):\n",
    "    \"\"\"Note: ps_cal are the p-values of the calibration examples with the same label as the p-value.\n",
    "    Example: ECDF_comb(minimum, ps_test_0, ps_cal_0[y_cal==0])\"\"\"\n",
    "    p_comb = comb_func(ps)\n",
    "    ps_cal_comb = comb_func(ps_cal)\n",
    "    return ECDF_cal_p(p_comb, ps_cal_comb)"
   ]
  },
  {
   "cell_type": "code",
   "execution_count": null,
   "metadata": {
    "ExecuteTime": {
     "end_time": "2020-08-03T10:10:25.295157Z",
     "start_time": "2020-08-03T10:10:25.291470Z"
    }
   },
   "outputs": [],
   "source": [
    "def KolmogorovAveraging(p_vals, phi, phi_inv):\n",
    "    return phi_inv(np.sum(phi(p_vals), axis=1) / p_vals.shape[1])"
   ]
  },
  {
   "cell_type": "markdown",
   "metadata": {},
   "source": [
    "## Arithmetic mean"
   ]
  },
  {
   "cell_type": "code",
   "execution_count": null,
   "metadata": {
    "ExecuteTime": {
     "end_time": "2020-08-03T10:10:25.302282Z",
     "start_time": "2020-08-03T10:10:25.296679Z"
    }
   },
   "outputs": [],
   "source": [
    "def comb_arithmetic(ps, _=None):\n",
    "    return np.mean(ps, axis=1)\n",
    "\n",
    "def comb_arithmetic_ECDF(ps, ps_cal):\n",
    "    return ECDF_comb(comb_arithmetic, ps, ps_cal)"
   ]
  },
  {
   "cell_type": "code",
   "execution_count": null,
   "metadata": {
    "ExecuteTime": {
     "end_time": "2020-08-03T10:10:25.307590Z",
     "start_time": "2020-08-03T10:10:25.303833Z"
    }
   },
   "outputs": [],
   "source": [
    "# Unoptimized Irwin-Hall CDF\n",
    "# Bates is the distribution of the mean of N independent uniform RVs\n",
    "# Irwin-Hall is the distribution of the sum\n",
    "from scipy.special import factorial, comb\n",
    "\n",
    "def Irwin_Hall_CDF_base(x, n):\n",
    "    acc = 0\n",
    "    sign = 1\n",
    "    for k in np.arange(0, np.floor(x) + 1):\n",
    "        acc += sign * comb(n, k) * (x - k) ** n\n",
    "        sign *= -1\n",
    "    return acc / factorial(n)\n",
    "\n",
    "\n",
    "Irwin_Hall_CDF = np.vectorize(Irwin_Hall_CDF_base, excluded=(1, \"n\"))"
   ]
  },
  {
   "cell_type": "code",
   "execution_count": null,
   "metadata": {
    "ExecuteTime": {
     "end_time": "2020-08-03T10:10:25.312719Z",
     "start_time": "2020-08-03T10:10:25.309237Z"
    }
   },
   "outputs": [],
   "source": [
    "from functools import partial\n",
    "\n",
    "\n",
    "def comb_arithmetic_q(ps, _=None):\n",
    "    phi = lambda x: x.shape[1] * x\n",
    "    phi_inv = partial(Irwin_Hall_CDF, n=ps.shape[1])\n",
    "    return KolmogorovAveraging(ps, phi, phi_inv)"
   ]
  },
  {
   "cell_type": "markdown",
   "metadata": {},
   "source": [
    "## Geometric mean"
   ]
  },
  {
   "cell_type": "code",
   "execution_count": null,
   "metadata": {
    "ExecuteTime": {
     "end_time": "2020-08-03T10:10:25.317729Z",
     "start_time": "2020-08-03T10:10:25.314503Z"
    },
    "lines_to_next_cell": 1
   },
   "outputs": [],
   "source": [
    "import scipy.stats as ss"
   ]
  },
  {
   "cell_type": "code",
   "execution_count": null,
   "metadata": {
    "lines_to_next_cell": 0
   },
   "outputs": [],
   "source": []
  },
  {
   "cell_type": "code",
   "execution_count": null,
   "metadata": {
    "ExecuteTime": {
     "end_time": "2020-08-03T10:10:25.323057Z",
     "start_time": "2020-08-03T10:10:25.320308Z"
    },
    "lines_to_next_cell": 1
   },
   "outputs": [],
   "source": [
    "def comb_geometric(ps, _=None):\n",
    "    return ss.gmean(ps, axis=1)"
   ]
  },
  {
   "cell_type": "markdown",
   "metadata": {},
   "source": [
    "## Fisher combination"
   ]
  },
  {
   "cell_type": "code",
   "execution_count": null,
   "metadata": {
    "ExecuteTime": {
     "end_time": "2020-08-03T10:10:25.328238Z",
     "start_time": "2020-08-03T10:10:25.324828Z"
    }
   },
   "outputs": [],
   "source": [
    "def fisher(p, _=None):\n",
    "    k = np.sum(np.log(p), axis=1).reshape(-1, 1)\n",
    "    fs = -k / np.arange(1, p.shape[1]).reshape(1, -1)\n",
    "    return np.sum(np.exp(\n",
    "        k + np.cumsum(np.c_[np.zeros(shape=(p.shape[0])), np.log(fs)], axis=1)),\n",
    "        axis=1)"
   ]
  },
  {
   "cell_type": "code",
   "execution_count": null,
   "metadata": {
    "ExecuteTime": {
     "end_time": "2020-08-03T10:10:25.333363Z",
     "start_time": "2020-08-03T10:10:25.330280Z"
    }
   },
   "outputs": [],
   "source": [
    "\n",
    "def comb_geometric_ECDF(ps, ps_cal):\n",
    "    return ECDF_comb(comb_geometric, ps, ps_cal)"
   ]
  },
  {
   "cell_type": "code",
   "execution_count": null,
   "metadata": {
    "lines_to_next_cell": 2
   },
   "outputs": [],
   "source": []
  },
  {
   "cell_type": "markdown",
   "metadata": {},
   "source": [
    "## Max p"
   ]
  },
  {
   "cell_type": "code",
   "execution_count": null,
   "metadata": {
    "ExecuteTime": {
     "end_time": "2020-08-03T10:10:25.339672Z",
     "start_time": "2020-08-03T10:10:25.337648Z"
    }
   },
   "outputs": [],
   "source": [
    "def comb_maximum(ps, _=None):\n",
    "    return np.max(ps, axis=1)"
   ]
  },
  {
   "cell_type": "code",
   "execution_count": null,
   "metadata": {
    "ExecuteTime": {
     "end_time": "2020-08-03T10:10:25.344690Z",
     "start_time": "2020-08-03T10:10:25.341708Z"
    },
    "lines_to_next_cell": 0
   },
   "outputs": [],
   "source": [
    "def comb_maximum_ECDF(ps, ps_cal):\n",
    "    return ECDF_comb(comb_minimum, ps, ps_cal)"
   ]
  },
  {
   "cell_type": "code",
   "execution_count": null,
   "metadata": {
    "ExecuteTime": {
     "end_time": "2020-08-03T10:10:25.350118Z",
     "start_time": "2020-08-03T10:10:25.346483Z"
    },
    "lines_to_next_cell": 1
   },
   "outputs": [],
   "source": [
    "def comb_maximum_q(ps, _=None):\n",
    "    max_ps = comb_maximum(ps)\n",
    "    phi_inv = ss.beta(a=ps.shape[1], b=1).cdf\n",
    "\n",
    "    return phi_inv(max_ps)"
   ]
  },
  {
   "cell_type": "markdown",
   "metadata": {},
   "source": [
    "## Minimum and Bonferroni"
   ]
  },
  {
   "cell_type": "code",
   "execution_count": null,
   "metadata": {
    "ExecuteTime": {
     "end_time": "2020-08-03T10:10:25.355197Z",
     "start_time": "2020-08-03T10:10:25.351757Z"
    }
   },
   "outputs": [],
   "source": [
    "def comb_minimum(ps, _=None):\n",
    "    return np.min(ps, axis=1)"
   ]
  },
  {
   "cell_type": "code",
   "execution_count": null,
   "metadata": {
    "ExecuteTime": {
     "end_time": "2020-08-03T10:10:25.360008Z",
     "start_time": "2020-08-03T10:10:25.356728Z"
    }
   },
   "outputs": [],
   "source": [
    "def comb_minimum_ECDF(ps, ps_cal):\n",
    "    return ECDF_comb(comb_minimum, ps, ps_cal)"
   ]
  },
  {
   "cell_type": "markdown",
   "metadata": {},
   "source": [
    "The k-order statistic of n uniformly distributed variates is distributed as Beta(k,n+1-k)."
   ]
  },
  {
   "cell_type": "code",
   "execution_count": null,
   "metadata": {
    "ExecuteTime": {
     "end_time": "2020-08-03T10:10:25.365110Z",
     "start_time": "2020-08-03T10:10:25.361848Z"
    },
    "lines_to_next_cell": 1
   },
   "outputs": [],
   "source": [
    "def comb_minimum_q(ps, _=None):\n",
    "    min_ps = comb_minimum(ps)\n",
    "    phi_inv = ss.beta(a=1, b=ps.shape[1]).cdf\n",
    "\n",
    "    return phi_inv(min_ps)"
   ]
  },
  {
   "cell_type": "code",
   "execution_count": null,
   "metadata": {
    "ExecuteTime": {
     "end_time": "2020-08-03T10:10:25.370440Z",
     "start_time": "2020-08-03T10:10:25.367141Z"
    }
   },
   "outputs": [],
   "source": [
    "def comb_bonferroni(ps, _=None):\n",
    "    return np.clip(ps.shape[1] * np.min(ps, axis=1), 0, 1)"
   ]
  },
  {
   "cell_type": "code",
   "execution_count": null,
   "metadata": {
    "ExecuteTime": {
     "end_time": "2020-08-03T10:10:25.377987Z",
     "start_time": "2020-08-03T10:10:25.372362Z"
    }
   },
   "outputs": [],
   "source": [
    "def comb_bonferroni_q(ps, _=None):\n",
    "    b_ps= p.shape[1] * np.min(ps, axis=1)\n",
    "    phi_inv = ss.beta(a=1, b=ps.shape[1]).cdf\n",
    "\n",
    "    return np.where(b_ps < 1.0 / ps.shape[1],\n",
    "                    phi_inv(b_ps / ps.shape[1]),\n",
    "                    1.0)"
   ]
  },
  {
   "cell_type": "code",
   "execution_count": null,
   "metadata": {
    "ExecuteTime": {
     "end_time": "2020-08-03T10:10:25.383372Z",
     "start_time": "2020-08-03T10:10:25.380016Z"
    }
   },
   "outputs": [],
   "source": [
    "methodFunc = {\"Arithmetic Mean\": comb_arithmetic,\n",
    "              \"Arithmetic Mean (quantile)\": comb_arithmetic_q,\n",
    "              \"Arithmetic Mean (ECDF)\": comb_arithmetic_ECDF,\n",
    "              \"Geometric Mean\": comb_geometric,\n",
    "              \"Geometric Mean (quantile)\": fisher, # comb_geometric_q,\n",
    "              \"Geometric Mean (ECDF)\": comb_geometric_ECDF,\n",
    "              \"Minimum\": comb_minimum,\n",
    "              \"Bonferroni\": comb_bonferroni,\n",
    "              \"Minimum (quantile)\": comb_minimum_q,\n",
    "              \"Minimum (ECDF)\": comb_minimum_ECDF,\n",
    "              }"
   ]
  },
  {
   "cell_type": "code",
   "execution_count": null,
   "metadata": {},
   "outputs": [],
   "source": []
  },
  {
   "cell_type": "code",
   "execution_count": null,
   "metadata": {
    "ExecuteTime": {
     "end_time": "2020-08-03T10:10:25.390935Z",
     "start_time": "2020-08-03T10:10:25.385930Z"
    }
   },
   "outputs": [],
   "source": [
    "def cp_cm_widget(p_0, p_1, y):\n",
    "    c_cm = cpConfusionMatrix_df(p_0, p_1, y).groupby('epsilon').agg('mean')\n",
    "    c_cm['Actual error rate'] = c_cm[[\"Positive predicted Negative\",\"Negative predicted Positive\",\n",
    "                                      \"Positive predicted Empty\",\"Negative predicted Empty\"]].sum(axis=1) / c_cm.sum(axis=1)\n",
    "    c_cm['Avg set size'] = (c_cm[[\"Positive predicted Negative\", \"Negative predicted Positive\", \n",
    "                                  \"Positive predicted Positive\", \"Negative predicted Negative\"]].sum(axis=1) + \\\n",
    "                           2*(c_cm[[\"Positive predicted Uncertain\",\"Negative predicted Uncertain\"]].sum(axis=1))) / c_cm.sum(axis=1)\n",
    "    cw = 50\n",
    "    col_widths = {'epsilon': 50,\n",
    "                  'Actual error rate': cw,\n",
    "                  'Avg set size': cw,\n",
    "                  \"Positive predicted Positive\": cw,\n",
    "                  \"Positive predicted Negative\": cw,\n",
    "                  \"Negative predicted Negative\": cw,\n",
    "                  \"Negative predicted Positive\": cw,\n",
    "                  \"Positive predicted Empty\": cw,\n",
    "                  \"Negative predicted Empty\": cw,\n",
    "                  \"Positive predicted Uncertain\": cw,\n",
    "                  \"Negative predicted Uncertain\": cw}\n",
    "#    return pn.widgets.DataFrame(c_cm, fit_columns=False, widths=col_widths,\n",
    "#                                disabled=True)\n",
    "    return pn.Pane(c_cm.to_html(notebook=True))"
   ]
  },
  {
   "cell_type": "code",
   "execution_count": null,
   "metadata": {
    "ExecuteTime": {
     "end_time": "2020-08-03T10:10:25.402399Z",
     "start_time": "2020-08-03T10:10:25.392635Z"
    }
   },
   "outputs": [],
   "source": [
    "class SimpleCombination(param.Parameterized):\n",
    "    sd = param.Parameter(precedence=-1)\n",
    "    micp = param.Parameter(precedence=-1)\n",
    "    p_comb_0 = param.Array(precedence=-1)\n",
    "    p_comb_1 = param.Array(precedence=-1)\n",
    "\n",
    "    method = param.Selector(list(methodFunc.keys()))\n",
    "\n",
    "    def __init__(self, sd, micp, **params):\n",
    "        self.sd = sd\n",
    "        self.micp = micp\n",
    "        super(SimpleCombination, self).__init__(**params)\n",
    "        self.update()\n",
    "\n",
    "    @pn.depends(\"micp.p_0_a\", \"micp.p_1_a\", \"micp.p_0_b\", \"micp.p_1_b\",\n",
    "                \"method\", watch=True)\n",
    "    def update(self):\n",
    "        comb_method = methodFunc[self.method]\n",
    "        y_pcal = self.sd.output['y_pcal']\n",
    "        ps_0 = np.c_[self.micp.p_0_a, self.micp.p_0_b]\n",
    "        ps_pcal_0 = np.c_[self.micp.p_0_a_cal[y_pcal == 0], self.micp.p_0_b_cal[y_pcal == 0]]\n",
    "        ps_1 = np.c_[self.micp.p_1_a, self.micp.p_1_b]\n",
    "        ps_pcal_1 = np.c_[self.micp.p_1_a_cal[y_pcal == 1], self.micp.p_1_b_cal[y_pcal == 1]]\n",
    "\n",
    "        with param.batch_watch(self):\n",
    "            self.p_comb_0 = comb_method(ps_0, ps_pcal_0)\n",
    "            self.p_comb_1 = comb_method(ps_1, ps_pcal_1)\n",
    "    \n",
    "    @pn.depends(\"p_comb_0\", \"p_comb_1\")\n",
    "    def view_table(self):\n",
    "        return cp_cm_widget(self.p_comb_0, self.p_comb_1,\n",
    "                            self.sd.output['y_test'])\n",
    "\n",
    "    @pn.depends(\"p_comb_0\", \"p_comb_1\")\n",
    "    def view_validity(self):\n",
    "        f = Figure()\n",
    "        ax = f.add_subplot(1, 1, 1)\n",
    "        ax.plot(*ecdf(self.p_comb_0[self.sd.output['y_test'] == 0]))\n",
    "        ax.plot(*ecdf(self.p_comb_1[self.sd.output['y_test'] == 1]))\n",
    "        ax.plot((0, 1), (0, 1), \"k--\")\n",
    "        ax.set_aspect(1.0)\n",
    "        ax.set_xlabel(\"Target error rate\")\n",
    "        ax.set_ylabel(\"Actual error rate\")\n",
    "\n",
    "        return f\n",
    "\n",
    "        "
   ]
  },
  {
   "cell_type": "code",
   "execution_count": null,
   "metadata": {
    "ExecuteTime": {
     "end_time": "2020-08-03T10:10:25.410200Z",
     "start_time": "2020-08-03T10:10:25.404065Z"
    }
   },
   "outputs": [],
   "source": [
    "sc = SimpleCombination(sd, micp)"
   ]
  },
  {
   "cell_type": "code",
   "execution_count": null,
   "metadata": {},
   "outputs": [],
   "source": []
  },
  {
   "cell_type": "code",
   "execution_count": null,
   "metadata": {
    "ExecuteTime": {
     "end_time": "2020-08-03T10:10:25.417337Z",
     "start_time": "2020-08-03T10:10:25.412744Z"
    }
   },
   "outputs": [],
   "source": [
    "class App(param.Parameterized):\n",
    "    sd = param.Parameter()\n",
    "    micp = param.Parameter()\n",
    "    sc = param.Parameter()\n",
    "\n",
    "    def __init__(self, sd, micp, fisher, **params):\n",
    "        self.sd = sd\n",
    "        self.micp = micp\n",
    "        self.sc = sc\n",
    "\n",
    "    @pn.depends(\"sc.p_comb_0\", \"sc.p_comb_1\", watch=True)\n",
    "    def view(self):\n",
    "        return pn.Column(pn.Row(sd.param, sd.view),\n",
    "                         pn.Row(micp.view_tables, micp.view_p_plane),\n",
    "                         pn.Row(sc.param, sc.view_table, sc.view_validity))"
   ]
  },
  {
   "cell_type": "code",
   "execution_count": null,
   "metadata": {},
   "outputs": [],
   "source": []
  },
  {
   "cell_type": "code",
   "execution_count": null,
   "metadata": {
    "ExecuteTime": {
     "end_time": "2020-08-03T10:10:25.424627Z",
     "start_time": "2020-08-03T10:10:25.420690Z"
    },
    "scrolled": false
   },
   "outputs": [],
   "source": [
    "if 0:\n",
    "    app = App(sd, micp, sc)\n",
    "    app.view()"
   ]
  },
  {
   "cell_type": "code",
   "execution_count": null,
   "metadata": {},
   "outputs": [],
   "source": []
  },
  {
   "cell_type": "code",
   "execution_count": null,
   "metadata": {
    "ExecuteTime": {
     "end_time": "2020-08-03T10:10:25.429839Z",
     "start_time": "2020-08-03T10:10:25.427874Z"
    }
   },
   "outputs": [],
   "source": [
    "# ss.pearsonr(p_0_a,p_0_b),ss.pearsonr(p_1_a,p_1_b)"
   ]
  },
  {
   "cell_type": "code",
   "execution_count": null,
   "metadata": {},
   "outputs": [],
   "source": []
  },
  {
   "cell_type": "code",
   "execution_count": null,
   "metadata": {
    "ExecuteTime": {
     "end_time": "2020-08-03T10:10:25.456428Z",
     "start_time": "2020-08-03T10:10:25.433149Z"
    }
   },
   "outputs": [],
   "source": [
    "class MultiCombination(param.Parameterized):\n",
    "    sd = param.Parameter(precedence=-1)\n",
    "    micp = param.Parameter(precedence=-1)\n",
    "    p_comb_0 = param.Array(precedence=-1)\n",
    "    p_comb_1 = param.Array(precedence=-1)\n",
    "\n",
    "    methods_names = [\"Base A\", \"Base B\",] +  list(methodFunc.keys())\n",
    "    methods = param.ListSelector(default=[methods_names[0]],objects=methods_names)\n",
    "\n",
    "    def __init__(self, sd, micp, **params):\n",
    "        self.sd = sd\n",
    "        self.micp = micp\n",
    "        super().__init__(**params)\n",
    "        self.update()\n",
    "\n",
    "    @pn.depends(\"micp.p_0_a\", \"micp.p_1_a\", \"micp.p_0_b\", \"micp.p_1_b\",\n",
    "                \"methods\", watch=True)\n",
    "    def update(self):\n",
    "        k = len(self.methods)\n",
    "        p_comb_0 = np.zeros(shape=(k, micp.p_0_a.shape[0]))\n",
    "        p_comb_1 = np.zeros(shape=(k, micp.p_0_a.shape[0]))\n",
    "        ps_0 = np.c_[self.micp.p_0_a, self.micp.p_0_b]\n",
    "        ps_1 = np.c_[self.micp.p_1_a, self.micp.p_1_b]\n",
    "        y_pcal = self.sd.output['y_pcal']\n",
    "        for i,m in enumerate(self.methods):\n",
    "            if m==\"Base A\":\n",
    "                p_comb_0[i] = self.micp.p_0_a\n",
    "                p_comb_1[i] = self.micp.p_1_a\n",
    "                continue\n",
    "            elif m==\"Base B\":\n",
    "                p_comb_0[i] = self.micp.p_0_b\n",
    "                p_comb_1[i] = self.micp.p_1_b\n",
    "                continue\n",
    "            # If not a base CP, do the combination\n",
    "            try:\n",
    "                comb_method = methodFunc[m]\n",
    "            except TypeError:\n",
    "                comb_method = methodFunc[m[0]]\n",
    "            ps_pcal_0 = np.c_[self.micp.p_0_a_cal[y_pcal == 0], self.micp.p_0_b_cal[y_pcal == 0]]\n",
    "            ps_pcal_1 = np.c_[self.micp.p_1_a_cal[y_pcal == 1], self.micp.p_1_b_cal[y_pcal == 1]]\n",
    "            p_comb_0[i] = comb_method(ps_0, ps_pcal_0)\n",
    "            p_comb_1[i] = comb_method(ps_1, ps_pcal_1)\n",
    "        with param.batch_watch(self):\n",
    "            self.p_comb_0 = p_comb_0\n",
    "            self.p_comb_1 = p_comb_1\n",
    "    \n",
    "    @pn.depends(\"p_comb_0\", \"p_comb_1\")\n",
    "    def view_table(self):\n",
    "        return cp_cm_widget(self.p_comb_0, self.p_comb_1,\n",
    "                            self.sd.output['y_test'])\n",
    "\n",
    "    @pn.depends(\"p_comb_0\", \"p_comb_1\")\n",
    "    def view_validity(self):\n",
    "        f = Figure(figsize=(12,12))\n",
    "        ax = f.add_subplot(2, 2, 1)\n",
    "        for i,m in enumerate(self.methods):\n",
    "            ax.plot(*ecdf(self.p_comb_0[i][self.sd.output['y_test'] == 0]), label=m)\n",
    "        ax.set_aspect(1.0)\n",
    "        ax.set_xlabel(\"Target error rate\")\n",
    "        ax.set_ylabel(\"Actual error rate\")\n",
    "        ax.legend()\n",
    "        ax.plot((0, 1), (0, 1), \"k--\")\n",
    "\n",
    "        ax = f.add_subplot(2, 2, 2)\n",
    "        for i,m in enumerate(self.methods):\n",
    "            ax.plot(*ecdf(self.p_comb_1[i][self.sd.output['y_test'] == 1]), label=m)\n",
    "        ax.set_aspect(1.0)\n",
    "        ax.set_xlabel(\"Target error rate\")\n",
    "        ax.set_ylabel(\"Actual error rate\")\n",
    "        ax.legend()\n",
    "        ax.plot((0, 1), (0, 1), \"k--\")\n",
    "        \n",
    "        ax = f.add_subplot(2, 2, 3)\n",
    "        for i,m in enumerate(self.methods):\n",
    "            ps = np.r_[self.p_comb_0[i],self.p_comb_1[i]]\n",
    "            x,c = ecdf(ps)\n",
    "                       \n",
    "            ax.plot(x,2*(1-c), label=m)\n",
    "        ax.set_xlabel(\"Target error rate\")\n",
    "        ax.set_xlim(0,1)\n",
    "        ax.set_ylim(0,2)\n",
    "        ax.set_ylabel(\"Average set size\")\n",
    "        ax.legend()\n",
    "        ax.plot((0, 1), (1, 0), \"k--\")\n",
    "        ax.grid()\n",
    "\n",
    "        \n",
    "        return f\n",
    "    \n",
    "mc = MultiCombination(sd, micp)"
   ]
  },
  {
   "cell_type": "code",
   "execution_count": null,
   "metadata": {
    "ExecuteTime": {
     "end_time": "2020-08-03T10:10:25.463974Z",
     "start_time": "2020-08-03T10:10:25.458332Z"
    }
   },
   "outputs": [],
   "source": [
    "class AppMulti(param.Parameterized):\n",
    "    sd = param.Parameter()\n",
    "    micp = param.Parameter()\n",
    "    mc = param.Parameter()\n",
    "\n",
    "    def __init__(self, sd, micp, mc, **params):\n",
    "        self.sd = sd\n",
    "        self.micp = micp\n",
    "        self.mc = mc\n",
    "\n",
    "    def view(self):\n",
    "        \n",
    "        custom_mc_widgets = pn.Param(self.mc.param, widgets={\"methods\": pn.widgets.CheckBoxGroup})\n",
    "        return pn.Column(pn.Row(self.sd.param, self.sd.view),\n",
    "                         pn.Row(self.micp.view_tables, self.micp.view_p_plane),\n",
    "                         pn.Row(custom_mc_widgets, self.mc.view_validity))\n",
    "\n"
   ]
  },
  {
   "cell_type": "code",
   "execution_count": null,
   "metadata": {
    "ExecuteTime": {
     "end_time": "2020-08-03T10:10:25.471252Z",
     "start_time": "2020-08-03T10:10:25.466033Z"
    }
   },
   "outputs": [],
   "source": [
    "am = AppMulti(sd,micp,mc)"
   ]
  },
  {
   "cell_type": "code",
   "execution_count": null,
   "metadata": {
    "ExecuteTime": {
     "end_time": "2020-08-03T10:10:25.721763Z",
     "start_time": "2020-08-03T10:10:25.473044Z"
    }
   },
   "outputs": [],
   "source": [
    "srv = am.view()"
   ]
  },
  {
   "cell_type": "code",
   "execution_count": null,
   "metadata": {
    "ExecuteTime": {
     "end_time": "2020-08-03T10:10:35.668868Z",
     "start_time": "2020-08-03T10:10:35.650956Z"
    }
   },
   "outputs": [],
   "source": [
    "srv.show()"
   ]
  },
  {
   "cell_type": "code",
   "execution_count": null,
   "metadata": {},
   "outputs": [],
   "source": [
    "srv.stop()"
   ]
  },
  {
   "cell_type": "markdown",
   "metadata": {},
   "source": [
    "# Neyman-Pearson"
   ]
  },
  {
   "cell_type": "code",
   "execution_count": null,
   "metadata": {},
   "outputs": [],
   "source": [
    "def BetaKDE(X, b):  # Unfortunately this is too slow in this implementation\n",
    "    def kde(x):\n",
    "        return sum(\n",
    "            ss.beta(x / b + 1, (1 - x) / b + 1).pdf(x_i) for x_i in X) / len(X)\n",
    "\n",
    "    return kde"
   ]
  },
  {
   "cell_type": "markdown",
   "metadata": {},
   "source": [
    "## Density estimation via histogram"
   ]
  },
  {
   "cell_type": "code",
   "execution_count": null,
   "metadata": {},
   "outputs": [],
   "source": [
    "def NeymanPearson(p_a, p_b, h0, test_p_a, test_p_b, pics_title_part):\n",
    "    n_bins = 1000\n",
    "    min_h1_lh = 0.0001\n",
    "\n",
    "    f = plt.figure(figsize=(22, 5))\n",
    "\n",
    "    ax = f.add_subplot(2, 4, 1)\n",
    "    h, bins, _ = ax.hist([p_a[h0], p_a[~h0]],\n",
    "                         bins=np.linspace(0, 1, n_bins + 1))\n",
    "    ax.set_title(\"Histogram of p-values (a)\")\n",
    "\n",
    "    safe_h1 = np.where(h[1] == 0, min_h1_lh, h[1])\n",
    "    lmbd_a = h[0] / safe_h1\n",
    "    ax = f.add_subplot(2, 4, 2)\n",
    "    ax.plot(bins[:-1], lmbd_a)\n",
    "    ax.set_title(\"Lambda (a)\")\n",
    "\n",
    "    lmbd_a_interp = UnivariateSpline(\n",
    "        np.concatenate(([0], 0.5 * (bins[1] - bins[0]) + bins[:-1])),\n",
    "        np.concatenate(([0], lmbd_a)), k=1, s=0, ext=3)\n",
    "    ax = f.add_subplot(2, 4, 3)\n",
    "    ax.plot(np.linspace(0, 0.5, 101), lmbd_a_interp(np.linspace(0, 0.5, 101)))\n",
    "    ax.set_title(\"Lambda (a) for p-values in [0,0.5]\")\n",
    "\n",
    "    ax = f.add_subplot(2, 4, 5)\n",
    "    h, bins, _ = ax.hist([p_b[h0], p_b[~h0]],\n",
    "                         bins=np.linspace(0, 1, n_bins + 1))\n",
    "    ax.set_title(\"Histogram of p-values (b)\")\n",
    "\n",
    "    safe_h1 = np.where(h[1] == 0, min_h1_lh, h[1])\n",
    "    lmbd_b = h[0] / safe_h1\n",
    "\n",
    "    ax = f.add_subplot(2, 4, 6)\n",
    "    ax.plot(bins[:-1], lmbd_b)\n",
    "    ax.set_title(\"Lambda (b)\")\n",
    "\n",
    "    lmbd_b_interp = UnivariateSpline(\n",
    "        np.concatenate(([0], 0.5 * (bins[1] - bins[0]) + bins[:-1])),\n",
    "        # Let's add the origin and let's assume the middle of the bin\n",
    "        np.concatenate(([0], lmbd_b)), k=1, s=0, ext=3)\n",
    "    ax = f.add_subplot(2, 4, 7)\n",
    "    ax.plot(np.linspace(0, 0.5, 101), lmbd_b_interp(np.linspace(0, 0.5, 101)));\n",
    "    ax.set_title(\"Lambda (b) for p-values in [0,0.5]\")\n",
    "\n",
    "    lmbd_comb = lmbd_a_interp(p_a) * lmbd_b_interp(p_b)\n",
    "\n",
    "    v, q = ecdf(lmbd_comb[h0])\n",
    "\n",
    "    NP_calibr = UnivariateSpline(v, q, k=1, s=0, ext=3)\n",
    "\n",
    "    lmbd_comb_test = lmbd_a_interp(test_p_a) * lmbd_b_interp(test_p_b)\n",
    "\n",
    "    p_npcomb = NP_calibr(lmbd_comb_test)\n",
    "\n",
    "    ax = f.add_subplot(1, 4, 4)\n",
    "    xx, yy = np.meshgrid(np.linspace(0, 1, 100), np.linspace(0, 1, 100))\n",
    "    zz = NP_calibr(\n",
    "        lmbd_a_interp(xx.ravel()) * lmbd_b_interp(yy.ravel())).reshape(xx.shape)\n",
    "\n",
    "    ax.contourf(xx, yy, zz);\n",
    "    ax.set_title(\"Combination of p-values\")\n",
    "    ax.set_xlabel(\"p (a)\")\n",
    "    ax.set_ylabel(\"p (b)\")\n",
    "\n",
    "    f.tight_layout()\n",
    "\n",
    "    f.savefig(pics_base_name + pics_title_part + \"_npcomb.png\", dpi=300)\n",
    "\n",
    "    return p_npcomb"
   ]
  },
  {
   "cell_type": "code",
   "execution_count": null,
   "metadata": {},
   "outputs": [],
   "source": [
    "p_0_npcomb = NeymanPearson(p_0_a_cal, p_0_b_cal, y_cal == 0, p_0_a, p_0_b,\n",
    "                           pics_title_part=\"_0\")"
   ]
  },
  {
   "cell_type": "markdown",
   "metadata": {},
   "source": [
    "## Density estimation via histogram smoothed with a spline"
   ]
  },
  {
   "cell_type": "code",
   "execution_count": null,
   "metadata": {},
   "outputs": [],
   "source": [
    "def splineEst(data, n_knots=20, s=0.3):\n",
    "    k = np.linspace(0, 1, n_knots + 1)\n",
    "\n",
    "    # UnivariateSpline() below requires that the x be strictly increasing\n",
    "    # quantiles might be the same...\n",
    "\n",
    "    h, bins = np.histogram(data, bins=n_knots, density=True)\n",
    "\n",
    "    ss = UnivariateSpline(0.5 * (bins[:-1] + bins[1:]), h, k=3, s=s, ext=3)\n",
    "    return ss"
   ]
  },
  {
   "cell_type": "code",
   "execution_count": null,
   "metadata": {},
   "outputs": [],
   "source": [
    "def NeymanPearsonDE(p_a, p_b, h0, p_a_test, p_b_test, pics_title_part,\n",
    "                    densityEstimator=splineEst):\n",
    "    f = plt.figure(figsize=(22, 5))\n",
    "\n",
    "    p_a_h0 = p_a[h0]\n",
    "\n",
    "    kde = densityEstimator(p_a_h0)\n",
    "    l_h0 = kde(p_a)\n",
    "\n",
    "    p_a_h1 = p_a[~h0]\n",
    "\n",
    "    kde = densityEstimator(p_a_h1)\n",
    "    l_h1 = kde(p_a)\n",
    "\n",
    "    lmbd_a = l_h0 / l_h1\n",
    "\n",
    "    # lmbd_a = np.clip(lmbd_a,1e-10,1e+10)\n",
    "    ax = f.add_subplot(2, 3, 1)\n",
    "\n",
    "    ax.plot(p_a, l_h0, \"r.\", label=\"Null\")\n",
    "    ax.plot(p_a, l_h1, \"b.\", label=\"Alternate\")\n",
    "    ax.set_title('Likelihoods (a)')\n",
    "\n",
    "    ax = f.add_subplot(2, 3, 2)\n",
    "    ax.plot(p_a, lmbd_a, \"g.\")\n",
    "    ax.set_title('Lambda (a)')\n",
    "\n",
    "    p_a_u, i_u = np.unique(p_a, return_index=True)\n",
    "    lmbd_a_int = UnivariateSpline(p_a_u, lmbd_a[i_u], k=1, s=0, ext=3)\n",
    "\n",
    "    ########################################################################################\n",
    "\n",
    "    # Now compute lambda for p_b\n",
    "\n",
    "    p_b_h0 = p_b[h0]\n",
    "\n",
    "    kde = densityEstimator(p_b_h0)\n",
    "    l_h0 = kde(p_b)\n",
    "\n",
    "    p_b_h1 = p_b[~h0]\n",
    "\n",
    "    kde = densityEstimator(p_b_h1)\n",
    "    l_h1 = kde(p_b)\n",
    "\n",
    "    lmbd_b = l_h0 / l_h1\n",
    "\n",
    "    # lmbd_a = np.clip(lmbd_a,1e-10,1e+10)\n",
    "    ax = f.add_subplot(2, 3, 4)\n",
    "\n",
    "    ax.plot(p_b, l_h0, \"r.\", label=\"Null\")\n",
    "    ax.plot(p_b, l_h1, \"b.\", label=\"Alternate\")\n",
    "    ax.set_xlabel(\"p value\")\n",
    "    ax.set_title('Likelihoods (b)')\n",
    "\n",
    "    ax = f.add_subplot(2, 3, 5)\n",
    "\n",
    "    ax.plot(p_b, lmbd_b, \"g.\")\n",
    "    ax.set_title('Lambda (b)')\n",
    "    ax.set_xlabel(\"p value\")\n",
    "\n",
    "    p_b_u, i_u = np.unique(p_b, return_index=True)\n",
    "    lmbd_b_int = UnivariateSpline(p_b_u, lmbd_b[i_u], k=1, s=0, ext=3)\n",
    "\n",
    "    ######################################################################\n",
    "    # Combine the lambdas assuming independence\n",
    "    # lmbd_comb = lmbd_a_interp(p_a)*lmbd_b_interp(p_b)\n",
    "    lmbd_comb = lmbd_a * lmbd_b\n",
    "\n",
    "    # lmbd_comb_interp = UnivariateSpline(eval_points,lmbd_comb,k=1,s=0,ext=3)\n",
    "\n",
    "    v, q = ecdf(lmbd_comb[h0])\n",
    "\n",
    "    NP_calibr = UnivariateSpline(v, q, k=1, s=0, ext=3)\n",
    "\n",
    "    # This can take a while\n",
    "    p_npcomb = NP_calibr(lmbd_a_int(p_a_test) * lmbd_b_int(p_b_test))\n",
    "\n",
    "    ax = f.add_subplot(1, 3, 3)\n",
    "    xx, yy = np.meshgrid(np.linspace(0, 1, 100), np.linspace(0, 1, 100))\n",
    "    zz = NP_calibr(lmbd_a_int(xx.ravel()) * lmbd_b_int(yy.ravel())).reshape(\n",
    "        xx.shape)\n",
    "\n",
    "    ax.contourf(xx, yy, zz);\n",
    "    ax.set_title(\"Combination of p-values\")\n",
    "    ax.set_xlabel(\"p (a)\")\n",
    "    ax.set_ylabel(\"p (b)\")\n",
    "    ax.set_aspect(1)\n",
    "\n",
    "    f.tight_layout()\n",
    "\n",
    "    f.savefig(pics_base_name + pics_title_part + \"_npde.png\", dpi=300)\n",
    "\n",
    "    return p_npcomb"
   ]
  },
  {
   "cell_type": "code",
   "execution_count": null,
   "metadata": {},
   "outputs": [],
   "source": [
    "p_0_npde = NeymanPearsonDE(p_0_a_cal, p_0_b_cal, y_cal == 0, p_0_a, p_0_b,\n",
    "                           pics_title_part=\"_0\")"
   ]
  },
  {
   "cell_type": "code",
   "execution_count": null,
   "metadata": {},
   "outputs": [],
   "source": [
    "def plot_diag_pVals(p_vals, descs, h0, pics_title_part):\n",
    "    n_bins = 200\n",
    "    bins = np.linspace(0, 1, n_bins + 1)\n",
    "    f, axs = plt.subplots(len(p_vals), 1, figsize=(15, 5 * len(p_vals)))\n",
    "\n",
    "    for ax, p, d in zip(axs, p_vals, descs):\n",
    "        ax.hist([p[h0], p[~h0]], bins=bins, density=True)\n",
    "        ax.set_xlabel(\"$p_{%s}$\" % d, fontsize=14)\n",
    "\n",
    "    f.suptitle(\"Histograms of p\" + pics_title_part + \" values\", fontsize=18,\n",
    "               y=1.02)\n",
    "    f.tight_layout()\n",
    "\n",
    "    f.savefig(pics_title_part + \"_hists.png\", dpi=150);"
   ]
  },
  {
   "cell_type": "code",
   "execution_count": null,
   "metadata": {},
   "outputs": [],
   "source": [
    "p_1_npcomb = NeymanPearson(p_1_a_cal, p_1_b_cal, y_cal == 1, p_1_a, p_1_b,\n",
    "                           pics_title_part='_1')"
   ]
  },
  {
   "cell_type": "code",
   "execution_count": null,
   "metadata": {},
   "outputs": [],
   "source": []
  },
  {
   "cell_type": "code",
   "execution_count": null,
   "metadata": {},
   "outputs": [],
   "source": [
    "p_1_npde = NeymanPearsonDE(p_1_a_cal, p_1_b_cal, y_cal == 1, p_1_a, p_1_b,\n",
    "                           pics_title_part='_1')"
   ]
  },
  {
   "cell_type": "code",
   "execution_count": null,
   "metadata": {},
   "outputs": [],
   "source": [
    "c_cf_npde, precision_npde = cp_statistics(p_0_npde, p_1_npde, None, None,\n",
    "                                          y_test, \"_npde\",\n",
    "                                          \" Neyman-Pearson (Spline) Combination\");"
   ]
  },
  {
   "cell_type": "code",
   "execution_count": null,
   "metadata": {},
   "outputs": [],
   "source": [
    "c_cf_npcomb, precision_npcomb = cp_statistics(p_0_npcomb, p_1_npcomb, None,\n",
    "                                              None, y_test, \"_npcomb\",\n",
    "                                              \" Neyman-Pearson (Hist) Combination\");"
   ]
  },
  {
   "cell_type": "code",
   "execution_count": null,
   "metadata": {},
   "outputs": [],
   "source": []
  },
  {
   "cell_type": "markdown",
   "metadata": {},
   "source": [
    "# V-Matrix Density Ratio Approach"
   ]
  },
  {
   "cell_type": "code",
   "execution_count": null,
   "metadata": {},
   "outputs": [],
   "source": [
    "from sklearn.externals.joblib import Memory\n",
    "\n",
    "mem = Memory(location='.', verbose=0)"
   ]
  },
  {
   "cell_type": "code",
   "execution_count": null,
   "metadata": {},
   "outputs": [],
   "source": [
    "mem.clear()"
   ]
  },
  {
   "cell_type": "code",
   "execution_count": null,
   "metadata": {},
   "outputs": [],
   "source": [
    "import sklearn\n",
    "\n",
    "cached_rbf_kernel = mem.cache(sklearn.metrics.pairwise.rbf_kernel)\n",
    "\n",
    "\n",
    "class rbf_krnl(object):\n",
    "    def __init__(self, gamma):\n",
    "        self.gamma = gamma\n",
    "\n",
    "    def __call__(self, X, Y=None):\n",
    "        return cached_rbf_kernel(X, Y, gamma=self.gamma)\n",
    "\n",
    "    def __repr__(self):\n",
    "        return \"RBF Gaussian gamma: \" + str(self.gamma)\n",
    "\n",
    "\n",
    "cached_polynomial_kernel = mem.cache(sklearn.metrics.pairwise.polynomial_kernel)\n",
    "\n",
    "\n",
    "class poly_krnl(object):\n",
    "    def __init__(self, gamma):\n",
    "        self.gamma = gamma\n",
    "\n",
    "    def __call__(self, X, Y=None):\n",
    "        return cached_polynomial_kernel(X, Y, gamma=self.gamma, coef0=1)\n",
    "\n",
    "    def __repr__(self):\n",
    "        return \"Polynomial deg 3 kernel gamma: \" + str(self.gamma)\n",
    "\n",
    "\n",
    "class poly_krnl_2(object):\n",
    "    def __init__(self, gamma):\n",
    "        self.gamma = gamma\n",
    "\n",
    "    def __call__(self, X, Y=None):\n",
    "        return cached_polynomial_kernel(X, Y, degree=2, gamma=self.gamma,\n",
    "                                        coef0=1e-6)  # I use a homogeneous polynomial kernel\n",
    "\n",
    "    def __repr__(self):\n",
    "        return \"Polynomial deg 2 kernel gamma: \" + str(self.gamma)\n",
    "\n",
    "\n",
    "class poly_krnl_inv(object):\n",
    "    def __init__(self, gamma):\n",
    "        self.gamma = gamma\n",
    "\n",
    "    def __call__(self, X, Y=None):\n",
    "        return cached_polynomial_kernel(X, Y, degree=-1, gamma=self.gamma,\n",
    "                                        coef0=0.5)\n",
    "\n",
    "    def __repr__(self):\n",
    "        return \"Polynomial deg -1 kernel gamma: \" + str(self.gamma)"
   ]
  },
  {
   "cell_type": "code",
   "execution_count": null,
   "metadata": {},
   "outputs": [],
   "source": [
    "def INK_Spline_Linear(x, y, gamma):\n",
    "    x = np.atleast_2d(x) * gamma\n",
    "    y = np.atleast_2d(y) * gamma\n",
    "    min_v = np.min(np.stack((x, y)), axis=0)\n",
    "\n",
    "    k_p = 1 + x * y + 0.5 * np.abs(\n",
    "        x - y) * min_v * min_v + min_v * min_v * min_v / 3\n",
    "\n",
    "    return np.prod(k_p, axis=1)\n",
    "\n",
    "\n",
    "def INK_Spline_Linear_Normed(x, y, gamma):\n",
    "    \"\"\"Computes the Linear INK-Spline Kernel\n",
    "    x,y: 2-d arrays, n samples by p features\n",
    "    Returns: \"\"\"\n",
    "    return INK_Spline_Linear(x, y, gamma) / np.sqrt(\n",
    "        INK_Spline_Linear(x, x, gamma) * INK_Spline_Linear(y, y, gamma))\n",
    "\n",
    "\n",
    "from sklearn.metrics import pairwise_kernels\n",
    "\n",
    "\n",
    "class ink_lin_krnl(object):\n",
    "    \"\"\"\n",
    "    Linear INK-Spline Kernel\n",
    "    Assumes that the domain is [0,+inf]\"\"\"\n",
    "\n",
    "    def __init__(self, gamma):\n",
    "        self.gamma = gamma\n",
    "\n",
    "    def __call__(self, X, Y=None):\n",
    "        if Y is None:\n",
    "            Y = X\n",
    "        idxs = np.mgrid[slice(0, X.shape[0]), slice(0, Y.shape[0])]\n",
    "        res = INK_Spline_Linear_Normed(X[idxs[0].ravel()],\n",
    "                                       Y[idxs[1].ravel()], self.gamma).reshape(\n",
    "            X.shape[0], Y.shape[0])\n",
    "        return res\n",
    "\n",
    "    def __repr__(self):\n",
    "        return \"Linear INK-spline kernel (on [0,1])\""
   ]
  },
  {
   "cell_type": "code",
   "execution_count": null,
   "metadata": {},
   "outputs": [],
   "source": []
  },
  {
   "cell_type": "code",
   "execution_count": null,
   "metadata": {},
   "outputs": [],
   "source": [
    "def v_mat_star_eye(X, X_prime, dummy):\n",
    "    return np.eye(X.shape[0])"
   ]
  },
  {
   "cell_type": "code",
   "execution_count": null,
   "metadata": {},
   "outputs": [],
   "source": []
  },
  {
   "cell_type": "code",
   "execution_count": null,
   "metadata": {},
   "outputs": [],
   "source": [
    "from numba import jit, prange, njit"
   ]
  },
  {
   "cell_type": "markdown",
   "metadata": {},
   "source": [
    "In \"V-Matrix Method of Solving Statistical Inference Problems\" (Vapnik and Izmailov), the V matrix is expressed as:\n",
    "\n",
    "$$\n",
    "V_{i,j} = \\prod_{k=1}^d \\int \\theta(x^{(k)}-X_i^{(k)})\\,\\theta(x^{(k)}-X_j^{(k)}) \\sigma_k(x^{(k)}) d\\mu(x^{(k)})\n",
    "$$\n",
    "\n",
    "\n",
    "If $\\sigma(x^{(k)}) = 1$ and $d\\mu(x^{(k)}) = \\prod_{k=1}^d dF_\\ell(x^{(k)})$ \n",
    "$$\n",
    "V_{i,j} = \\prod_{k=1}^d \\nu\\left(X^{(k)} > \\max\\left\\lbrace X_i^{(k)},X_j^{(k)}\\right\\rbrace\\right)\n",
    "$$\n",
    "\n",
    "However, the following is recommended for density ratio estimation\n",
    "\n",
    "$$\n",
    "\\sigma(x_k) = \\frac{1}{F_{num}(x_k)(1-F_{num}(x_k))+\\epsilon}\n",
    "$$\n",
    "\n",
    "It's not clear to me why we'd be looking only at the ECDF of the numerator. Why not all the data?\n",
    "\n",
    "In any case, how do we calculate the $V_{i,j}$?"
   ]
  },
  {
   "cell_type": "markdown",
   "metadata": {},
   "source": [
    "I would say that the integral can be approximated with a sum:\n",
    "\n",
    "$$\n",
    "\\frac{1}{\\ell}\\sum_{x_k > \\left\\lbrace X_i^{(k)},X_j^{(k)}\\right\\rbrace} \\sigma(x_k)\n",
    "$$\n",
    "\n",
    "where the $x_k$ are taken from all the data (??)"
   ]
  },
  {
   "cell_type": "code",
   "execution_count": null,
   "metadata": {},
   "outputs": [],
   "source": [
    "@jit('float64[:,:](float64[:,:],float64[:,:],float64[:,:])')\n",
    "def v_mat_sigma_eye(X, X_prime, data):\n",
    "    data_sorted = np.sort(data, axis=0)\n",
    "    data_l = data.shape[0]\n",
    "\n",
    "    v = np.zeros(shape=(X.shape[0], X_prime.shape[0]))\n",
    "    for i in prange(X.shape[0]):\n",
    "        for j in range(X_prime.shape[0]):\n",
    "            acc = 1\n",
    "            for k in range(X.shape[1]):\n",
    "                # Let's compute the frequency of data with values larger than those for X_i and X^'_j\n",
    "                f = (data_l - np.searchsorted(data_sorted[:, k],\n",
    "                                              max(X[i, k], X_prime[j, k]),\n",
    "                                              side=\"right\")) / data_l\n",
    "                acc *= f\n",
    "            v[i, j] = acc\n",
    "    return v"
   ]
  },
  {
   "cell_type": "code",
   "execution_count": null,
   "metadata": {
    "lines_to_next_cell": 2
   },
   "outputs": [],
   "source": [
    "@jit('float64[:,:](float64[:,:],float64[:,:],float64[:,:])', nopython=True,\n",
    "     parallel=True, nogil=True)\n",
    "def v_mat_max(X, X_prime, dummy):\n",
    "    v = np.zeros(shape=(X.shape[0], X_prime.shape[0]))\n",
    "    for i in prange(X.shape[0]):\n",
    "        for j in range(X_prime.shape[0]):\n",
    "            acc = 1\n",
    "            for k in range(X.shape[1]):\n",
    "                acc *= 1 - max(X[i, k], X_prime[j, k])\n",
    "            v[i, j] = acc\n",
    "    return v"
   ]
  },
  {
   "cell_type": "code",
   "execution_count": null,
   "metadata": {},
   "outputs": [],
   "source": []
  },
  {
   "cell_type": "code",
   "execution_count": null,
   "metadata": {},
   "outputs": [],
   "source": [
    "# This takes forever... \n",
    "\n",
    "\n",
    "# @mem.cache\n",
    "@jit('float64[:,:](float64[:,:],float64[:,:],float64[:,:])', parallel=True,\n",
    "     nogil=True)\n",
    "def v_mat_sigma_ratio(X, X_prime, data):\n",
    "    data_sorted = np.sort(data, 0)\n",
    "    data_l = data.shape[0]\n",
    "    eps = 1 / (data_l * data_l)  # Just an idea...\n",
    "    v = np.zeros(shape=(X.shape[0], X_prime.shape[0]))\n",
    "\n",
    "    for i in prange(X.shape[0]):\n",
    "        for j in range(X_prime.shape[0]):\n",
    "            accu = 1\n",
    "            for k in range(X.shape[1]):\n",
    "                dd = data_sorted[:, k]\n",
    "                s = 0\n",
    "                for l in data[:, k]:\n",
    "                    if l > X[i, k] and l > X_prime[j, k]:\n",
    "                        f = (np.searchsorted(dd, l, side=\"right\")) / data_l\n",
    "                        s += 1 / (f * (1 - f) + eps)\n",
    "                accu *= (s / data_l)\n",
    "            v[i, j] = accu\n",
    "    return v"
   ]
  },
  {
   "cell_type": "markdown",
   "metadata": {},
   "source": [
    "### Experimental V-matrices"
   ]
  },
  {
   "cell_type": "code",
   "execution_count": null,
   "metadata": {},
   "outputs": [],
   "source": [
    "from statsmodels.distributions.empirical_distribution import ECDF"
   ]
  },
  {
   "cell_type": "code",
   "execution_count": null,
   "metadata": {},
   "outputs": [],
   "source": [
    "@jit('float64[:,:](float64[:,:],float64[:,:],float64[:,:])', parallel=True,\n",
    "     nogil=True)\n",
    "def v_mat_star_sigma_ratio_approx(X, X_prime, data):\n",
    "    data_sorted = np.sort(data, 0)\n",
    "    data_l = data.shape[0]\n",
    "    eps = 1 / (data_l)  # Just an idea...\n",
    "    v = np.zeros(shape=(X.shape[0], X_prime.shape[0]))\n",
    "\n",
    "    for i in prange(X.shape[0]):\n",
    "        for j in range(X_prime.shape[0]):\n",
    "            accu = 1\n",
    "            for k in range(X.shape[1]):\n",
    "                dd = data_sorted[:, k]\n",
    "                f = (data_l - np.searchsorted(dd, np.maximum(X[i, k],\n",
    "                                                             X_prime[j, k]),\n",
    "                                              side=\"right\")) / data_l\n",
    "                f1 = (np.searchsorted(dd, X[i, k], side=\"right\")) / data_l\n",
    "                f2 = (np.searchsorted(dd, X_prime[j, k], side=\"right\")) / data_l\n",
    "                accu *= f / (f1 * f2 * (1 - f2) * (1 - f1) + eps)\n",
    "            v[i, j] = accu\n",
    "    return v / np.max(v)"
   ]
  },
  {
   "cell_type": "code",
   "execution_count": null,
   "metadata": {},
   "outputs": [],
   "source": [
    "@jit('float64[:,:](float64[:,:],float64[:,:],float64[:,:])', parallel=True,\n",
    "     nogil=True)\n",
    "def v_mat_star_sigma_oneside_approx(X, X_prime, data):\n",
    "    data_sorted = np.sort(data, 0)\n",
    "    data_l = data.shape[0]\n",
    "    eps = 1 / (data_l)  # Just an idea...\n",
    "    v = np.zeros(shape=(X.shape[0], X_prime.shape[0]))\n",
    "\n",
    "    for i in prange(X.shape[0]):\n",
    "        for j in range(X_prime.shape[0]):\n",
    "            accu = 1\n",
    "            for k in range(X.shape[1]):\n",
    "                dd = data_sorted[:, k]\n",
    "                f = (data_l - np.searchsorted(dd, np.maximum(X[i, k],\n",
    "                                                             X_prime[j, k]),\n",
    "                                              side=\"right\")) / data_l\n",
    "                f1 = (np.searchsorted(dd, X[i, k], side=\"right\")) / data_l\n",
    "                f2 = (np.searchsorted(dd, X_prime[j, k], side=\"right\")) / data_l\n",
    "                accu *= f / ((1 - f1) * (1 - f2) + eps)\n",
    "            v[i, j] = accu\n",
    "    return v / np.max(v)"
   ]
  },
  {
   "cell_type": "code",
   "execution_count": null,
   "metadata": {},
   "outputs": [],
   "source": [
    "@jit('float64[:,:](float64[:,:],float64[:,:],float64[:,:])', parallel=True,\n",
    "     nogil=True)\n",
    "def v_mat_star_sigma_rev_approx(X, X_prime, data):\n",
    "    data_sorted = np.sort(data, 0)\n",
    "    data_l = data.shape[0]\n",
    "    eps = 1 / (data_l)  # Just an idea...\n",
    "    v = np.zeros(shape=(X.shape[0], X_prime.shape[0]))\n",
    "\n",
    "    for i in prange(X.shape[0]):\n",
    "        for j in range(X_prime.shape[0]):\n",
    "            accu = 1\n",
    "            for k in range(X.shape[1]):\n",
    "                dd = data_sorted[:, k]\n",
    "                f = (data_l - np.searchsorted(dd, np.maximum(X[i, k],\n",
    "                                                             X_prime[j, k]),\n",
    "                                              side=\"right\")) / data_l\n",
    "                f1 = (np.searchsorted(dd, X[i, k], side=\"right\")) / data_l\n",
    "                f2 = (np.searchsorted(dd, X_prime[j, k], side=\"right\")) / data_l\n",
    "                accu *= f * f1 * (1 - f1) * f2 * (1 - f2)\n",
    "            v[i, j] = accu\n",
    "    return v"
   ]
  },
  {
   "cell_type": "code",
   "execution_count": null,
   "metadata": {},
   "outputs": [],
   "source": [
    "@mem.cache\n",
    "@jit('float64[:,:](float64[:,:],float64[:,:],float64[:,:])', parallel=True,\n",
    "     nogil=True)\n",
    "def v_mat_star_sigma_oneside(X, X_prime, X_num):\n",
    "    X_num_sorted = np.sort(X_num, 0)\n",
    "    X_num_l = X_num.shape[0]\n",
    "    eps = 1e-6\n",
    "    v = np.zeros(shape=(X.shape[0], X_prime.shape[0]))\n",
    "    for i in prange(X.shape[0]):\n",
    "        for j in range(X_prime.shape[0]):\n",
    "            acc = 1\n",
    "            for k in range(X.shape[1]):\n",
    "                f = np.searchsorted(X_num_sorted[:, k],\n",
    "                                    np.maximum(X[i, k], X_prime[j, k]),\n",
    "                                    side=\"right\") / X_num_l\n",
    "                acc *= 1 / (1 + f)\n",
    "                # acc *= 1/(f*(1-f)+eps)\n",
    "            v[i, j] = acc\n",
    "    return v / np.max(v)"
   ]
  },
  {
   "cell_type": "code",
   "execution_count": null,
   "metadata": {},
   "outputs": [],
   "source": [
    "@jit('float64[:,:](float64[:,:],float64[:,:],float64[:,:])', nopython=True,\n",
    "     parallel=True, nogil=True)\n",
    "def v_mat_star_sigma_log(X, X_prime, dummy):\n",
    "    v = np.zeros(shape=(X.shape[0], X_prime.shape[0]))\n",
    "    for i in prange(X.shape[0]):\n",
    "        for j in range(X_prime.shape[0]):\n",
    "            acc = 1\n",
    "            for k in range(X.shape[1]):\n",
    "                acc *= -np.log(np.maximum(X[i, k], X_prime[j, k]))\n",
    "            v[i, j] = acc\n",
    "    return v / np.max(v)"
   ]
  },
  {
   "cell_type": "code",
   "execution_count": null,
   "metadata": {},
   "outputs": [],
   "source": [
    "import cvxopt\n",
    "\n",
    "\n",
    "def DensityRatio_QP(X_den, X_num, kernel, g, v_matrix, ridge=1e-3):\n",
    "    \"\"\"\n",
    "    The function computes a model of the density ratio.\n",
    "    The function is in the form $A^T K$\n",
    "    The function returns the coefficients $\\alpha_i$ and the bias term b\n",
    "    \"\"\"\n",
    "    l_den, d = X_den.shape\n",
    "    l_num, d_num = X_num.shape\n",
    "\n",
    "    # TODO: Check d==d_num\n",
    "\n",
    "    ones_num = np.matrix(np.ones(shape=(l_num, 1)))\n",
    "    zeros_den = np.matrix(np.zeros(shape=(l_den, 1)))\n",
    "\n",
    "    gram = kernel(X_den)\n",
    "    K = np.matrix(gram + ridge * np.eye(l_den))\n",
    "    # K = np.matrix(gram)   # No ridge\n",
    "\n",
    "    print(\"K max, min: %e, %e\" % (np.max(K), np.min(K)))\n",
    "\n",
    "    data = np.concatenate((X_den, X_num))\n",
    "    if callable(v_matrix):\n",
    "        V = np.matrix(v_matrix(X_den, X_den, data))\n",
    "        V_star = np.matrix(v_matrix(X_den, X_num, data))  # l_den by l_num\n",
    "    else:\n",
    "        return -1\n",
    "\n",
    "    print(\"V max,min: %e, %e\" % (np.max(V), np.min(V)))\n",
    "    print(\"V_star max,min: %e, %e\" % (np.max(V_star), np.min(V_star)))\n",
    "\n",
    "    tgt1 = K * V * K\n",
    "    print(\"K*V*K max, min: %e, %e\" % (np.max(tgt1), np.min(tgt1)))\n",
    "\n",
    "    tgt2 = g * K\n",
    "    print(\"g*K max, min: %e, %e\" % (np.max(tgt2), np.min(tgt2)))\n",
    "\n",
    "    P = cvxopt.matrix(2 * (tgt1 + tgt2))\n",
    "\n",
    "    q_ = -2 * (l_den / l_num) * (K * V_star * ones_num)\n",
    "\n",
    "    print(\"q max, min: %e, %e\" % (np.max(q_), np.min(q_)))\n",
    "    q = cvxopt.matrix(q_)\n",
    "\n",
    "    #### Let's construct the inequality constraints\n",
    "\n",
    "    # Now create G and h\n",
    "    G = cvxopt.matrix(-K)\n",
    "    h = cvxopt.matrix(zeros_den)\n",
    "    # G = cvxopt.matrix(np.vstack((-K,-np.eye(l_den))))\n",
    "    # h = cvxopt.matrix(np.vstack((zeros_den,zeros_den)))\n",
    "\n",
    "    # Let's construct the equality constraints\n",
    "\n",
    "    A = cvxopt.matrix((1 / l_den) * K * V_star * ones_num).T\n",
    "    b = cvxopt.matrix(np.ones(1))\n",
    "\n",
    "    return cvxopt.solvers.qp(P, q, G, h, A, b, options=dict(\n",
    "        maxiters=50))  #### For expediency, we limit the number of iterations"
   ]
  },
  {
   "cell_type": "code",
   "execution_count": null,
   "metadata": {},
   "outputs": [],
   "source": [
    "def RKHS_Eval(A, X_test, X_train, kernel, c=0):\n",
    "    gramTest = kernel(X_test, X_train)\n",
    "\n",
    "    return np.dot(gramTest, A) + c"
   ]
  },
  {
   "cell_type": "code",
   "execution_count": null,
   "metadata": {},
   "outputs": [],
   "source": [
    "from sklearn.base import BaseEstimator, RegressorMixin\n",
    "\n",
    "from sklearn.preprocessing import StandardScaler\n",
    "\n",
    "\n",
    "class DensityRatio_Estimator(BaseEstimator, RegressorMixin):\n",
    "    \"\"\"Custom Regressor for density ratio estimation\"\"\"\n",
    "\n",
    "    def __init__(self, krnl=rbf_krnl(1), g=1, v_matrix=v_mat_sigma_eye):\n",
    "        self.krnl = krnl\n",
    "        self.g = g\n",
    "        self.v_matrix = v_matrix\n",
    "\n",
    "    def fit(self, X_den, X_num):\n",
    "\n",
    "        self.X_train_ = np.copy(X_den)\n",
    "\n",
    "        res = DensityRatio_QP(self.X_train_,\n",
    "                              X_num,\n",
    "                              kernel=self.krnl,\n",
    "                              g=self.g,\n",
    "                              v_matrix=self.v_matrix)\n",
    "        self.A_ = res['x']\n",
    "        return self\n",
    "\n",
    "    def predict(self, X):\n",
    "        if self.A_ is None:\n",
    "            return None  # I should raise an exception\n",
    "\n",
    "        return self.predict_proba(X)\n",
    "\n",
    "    def predict_proba(self, X):\n",
    "        if self.A_ is None:\n",
    "            return None  # I should raise an exception\n",
    "\n",
    "        pred = RKHS_Eval(A=self.A_,\n",
    "                         X_test=X,\n",
    "                         X_train=self.X_train_,\n",
    "                         kernel=self.krnl)\n",
    "        return np.clip(pred, a_min=0, a_max=None, out=pred)"
   ]
  },
  {
   "cell_type": "code",
   "execution_count": null,
   "metadata": {},
   "outputs": [],
   "source": []
  },
  {
   "cell_type": "code",
   "execution_count": null,
   "metadata": {},
   "outputs": [],
   "source": [
    "def NeymanPearson_VMatrix(p_a, p_b, h0, p_a_test, p_b_test, g=0.5,\n",
    "                          krnl=ink_lin_krnl(1), v_matrix=v_mat_sigma_ratio,\n",
    "                          diag=True):\n",
    "    p_h0 = np.hstack((p_a[h0].reshape(-1, 1), p_b[h0].reshape(-1, 1)))\n",
    "    p_h1 = np.hstack((p_a[~h0].reshape(-1, 1), p_b[~h0].reshape(-1, 1)))\n",
    "\n",
    "    dre = DensityRatio_Estimator(v_matrix=v_matrix,\n",
    "                                 krnl=krnl,\n",
    "                                 g=g)\n",
    "    dre.fit(X_den=p_h1, X_num=p_h0)\n",
    "\n",
    "    lmbd_h0 = np.clip(dre.predict(p_h0), 1e-10, None)\n",
    "    v, q = ecdf(lmbd_h0)\n",
    "    v = np.concatenate(([0],\n",
    "                        v))  # This may be OK for this application but it is not correct in general\n",
    "    q = np.concatenate(([0], q))\n",
    "    NP_calibr = interp1d(v, q, bounds_error=False, fill_value=\"extrapolate\")\n",
    "\n",
    "    p_test = np.hstack((p_a_test.reshape(-1, 1), p_b_test.reshape(-1, 1)))\n",
    "    p_npcomb = NP_calibr(dre.predict(p_test))\n",
    "\n",
    "    if diag:\n",
    "        f, axs = plt.subplots(1, 3, figsize=(12, 4))\n",
    "        x = np.linspace(0, 1, 100)\n",
    "        xx, yy = np.meshgrid(x, x)\n",
    "        lambd_grid = dre.predict(\n",
    "            np.hstack((xx.reshape(-1, 1), yy.reshape(-1, 1))))\n",
    "        comb_p_grid = NP_calibr(lambd_grid)\n",
    "        # im = axs[0].imshow(lambd_grid.reshape(100,100),interpolation=None,origin='lower')   \n",
    "        im = axs[0].contourf(xx, yy, lambd_grid.reshape(100, 100));\n",
    "        f.colorbar(im, ax=axs[0])\n",
    "        axs[0].set_title(\"Lambda\")\n",
    "\n",
    "        # im = axs[2].imshow(comb_p_grid.reshape(100,100),interpolation=None,origin='lower')\n",
    "        im = axs[2].contourf(xx, yy, comb_p_grid.reshape(100, 100), vmin=0,\n",
    "                             vmax=1);\n",
    "        f.colorbar(im, ax=axs[2])\n",
    "        axs[2].set_title(\"Combined p-value\")\n",
    "\n",
    "        x = np.linspace(0, np.max(lmbd_h0), 100)\n",
    "        axs[1].plot(x, NP_calibr(x))\n",
    "        axs[1].set_title(\"Lambda to p-value\")\n",
    "        print(\"Max:\", np.max(comb_p_grid))\n",
    "        print(\"Min:\", np.min(comb_p_grid))\n",
    "\n",
    "        f.tight_layout()\n",
    "\n",
    "    return np.clip(p_npcomb.ravel(), 0, 1)"
   ]
  },
  {
   "cell_type": "code",
   "execution_count": null,
   "metadata": {},
   "outputs": [],
   "source": []
  },
  {
   "cell_type": "code",
   "execution_count": null,
   "metadata": {},
   "outputs": [],
   "source": [
    "p_0_a.shape"
   ]
  },
  {
   "cell_type": "code",
   "execution_count": null,
   "metadata": {},
   "outputs": [],
   "source": [
    "%%time\n",
    "np_kwargs = dict(g=1e-5, krnl=rbf_krnl(4.5),\n",
    "                 v_matrix=v_mat_star_sigma_rev_approx)\n",
    "p_0_npcomb_vm = NeymanPearson_VMatrix(p_0_a_cal, p_0_b_cal, y_cal == 0, p_0_a,\n",
    "                                      p_0_b, **np_kwargs)\n",
    "p_1_npcomb_vm = NeymanPearson_VMatrix(p_1_a_cal, p_1_b_cal, y_cal == 1, p_1_a,\n",
    "                                      p_1_b, **np_kwargs)\n",
    "c_cf_npcomb_vm, precision_f_npcomb_vm = cp_statistics(p_0_npcomb_vm,\n",
    "                                                      p_1_npcomb_vm, None, None,\n",
    "                                                      y_test, \"_np_v\",\n",
    "                                                      \" NP (V-Matrix)\");"
   ]
  },
  {
   "cell_type": "code",
   "execution_count": null,
   "metadata": {},
   "outputs": [],
   "source": []
  },
  {
   "cell_type": "markdown",
   "metadata": {},
   "source": [
    "+ NNP Ideal                                                           | NA  \t 606\t14\t 549\t20\t0\t0\t1880\t1931\n",
    "+ g=1e-6,krnl=rbf_krnl(6),v_matrix=v_mat_star_sigma_rev_approx        | 0.01\t 584\t26\t  67\t21\t0\t0\t1890\t2412\n",
    "+ g=1e-5,krnl=rbf_krnl(6),v_matrix=v_mat_star_sigma_rev_approx        | 0.01\t 562\t17\t 335\t18\t0\t0\t1921\t2147  ## But better above 0.01\n",
    "+ g=1e-5,krnl=rbf_krnl(5),v_matrix=v_mat_star_sigma_rev_approx        | 0.01\t 543\t15\t 549\t18\t0\t0\t1942\t1933\n",
    "+ g=1e-5,krnl=rbf_krnl(4.5),v_matrix=v_mat_star_sigma_rev_approx      | 0.01\t 545\t16\t 554\t19\t0\t0\t1939\t1927"
   ]
  },
  {
   "cell_type": "code",
   "execution_count": null,
   "metadata": {},
   "outputs": [],
   "source": []
  },
  {
   "cell_type": "code",
   "execution_count": null,
   "metadata": {},
   "outputs": [],
   "source": []
  },
  {
   "cell_type": "code",
   "execution_count": null,
   "metadata": {},
   "outputs": [],
   "source": [
    "ps_0 = np.c_[p_0_a, p_0_b]\n",
    "ps_1 = np.c_[p_1_a, p_1_b]\n",
    "\n",
    "ps_0_cal = np.c_[p_0_a_cal, p_0_b_cal]\n",
    "ps_1_cal = np.c_[p_1_a_cal, p_1_b_cal]"
   ]
  },
  {
   "cell_type": "code",
   "execution_count": null,
   "metadata": {},
   "outputs": [],
   "source": []
  },
  {
   "cell_type": "code",
   "execution_count": null,
   "metadata": {},
   "outputs": [],
   "source": []
  },
  {
   "cell_type": "code",
   "execution_count": null,
   "metadata": {},
   "outputs": [],
   "source": []
  },
  {
   "cell_type": "code",
   "execution_count": null,
   "metadata": {},
   "outputs": [],
   "source": []
  },
  {
   "cell_type": "code",
   "execution_count": null,
   "metadata": {},
   "outputs": [],
   "source": []
  },
  {
   "cell_type": "markdown",
   "metadata": {},
   "source": [
    "## Base A"
   ]
  },
  {
   "cell_type": "code",
   "execution_count": null,
   "metadata": {},
   "outputs": [],
   "source": [
    "c_cf_a, precision_a = cp_statistics(p_0_a, p_1_a, None, None, y_test, \"_a\",\n",
    "                                    \" base CP a\");"
   ]
  },
  {
   "cell_type": "markdown",
   "metadata": {},
   "source": [
    "## Base B"
   ]
  },
  {
   "cell_type": "code",
   "execution_count": null,
   "metadata": {},
   "outputs": [],
   "source": [
    "c_cf_b, precision_b = cp_statistics(p_0_b, p_1_b, None, None, y_test, \"_a\",\n",
    "                                    \" base CP a\");"
   ]
  },
  {
   "cell_type": "code",
   "execution_count": null,
   "metadata": {},
   "outputs": [],
   "source": []
  },
  {
   "cell_type": "code",
   "execution_count": null,
   "metadata": {},
   "outputs": [],
   "source": [
    "def confusion_matrices(c_cf, epsilons=(0.01, 0.05, 0.10)):\n",
    "    idx = pd.IndexSlice\n",
    "\n",
    "    for eps in epsilons:\n",
    "        c_cf_eps = c_cf.loc[idx[:, eps], idx[:]]\n",
    "        c_cf_eps.index = c_cf_eps.index.droplevel(1)\n",
    "        c_cf_eps.index.name = \"$\\epsilon=%0.2f$\" % eps\n",
    "\n",
    "        name_part = (\"_%0.2f\" % eps).replace('.', '_')\n",
    "        with open(pics_base_name + '_cf' + name_part + '.txt', \"w\") as mf:\n",
    "            print(c_cf_eps.to_latex(), file=mf)\n",
    "\n",
    "        display(c_cf_eps)\n",
    "\n",
    "    # %%\n",
    "\n",
    "\n",
    "p_plane_plot(p_0_a, p_1_a, y_test, \"Conformal Predictor A\", \"_a\")"
   ]
  },
  {
   "cell_type": "code",
   "execution_count": null,
   "metadata": {},
   "outputs": [],
   "source": [
    "p_plane_plot(p_0_npde, p_1_npde, y_test, \"NNP combination\", \"_nnp\")"
   ]
  },
  {
   "cell_type": "code",
   "execution_count": null,
   "metadata": {},
   "outputs": [],
   "source": [
    "p_plane_plot(p_0_f, p_1_f, y_test, \"Fischer combination\", \"_f\")"
   ]
  },
  {
   "cell_type": "code",
   "execution_count": null,
   "metadata": {},
   "outputs": [],
   "source": [
    "p_plane_plot(p_0_npidcomb, p_1_npidcomb, y_test, \"NNP (ideal)\", \"_npid\")"
   ]
  },
  {
   "cell_type": "code",
   "execution_count": null,
   "metadata": {},
   "outputs": [],
   "source": [
    "p_plane_plot(p_0_npcomb_vm, p_1_npcomb_vm, y_test, \"NP (V-Matrix)\", \"_npvmat\")"
   ]
  },
  {
   "cell_type": "code",
   "execution_count": null,
   "metadata": {},
   "outputs": [],
   "source": [
    "cfs_to_compare = [\n",
    "    (c_cf_a, \"a\"),\n",
    "    (c_cf_b, \"b\"),\n",
    "\n",
    "    (c_cf_npid, \"NNP Ideal\"),\n",
    "    (c_cf_npcomb, \"NNP\"),\n",
    "    (c_cf_npde, \"NNP (spline)\"),\n",
    "    (c_cf_npcomb_vm, \"NP V-Matrix\"),\n",
    "\n",
    "    (c_cf_avg, \"Arith\"),\n",
    "    (c_cf_geom, \"Geom\"),\n",
    "    (c_cf_max, \"Max\"),\n",
    "    (c_cf_min, \"Min\"),\n",
    "    (c_cf_bonf, \"Bonferroni\"),\n",
    "\n",
    "    (c_cf_avg_q, \"Arithmetic (Quantile)\"),\n",
    "    (c_cf_f, \"Geometric (Quantile) Fisher\"),\n",
    "    (c_cf_max_q, \"Max (Quantile)\"),\n",
    "    (c_cf_min_q, \"Min (Quantile)\"),\n",
    "    (c_cf_bonf_q, \"Bonferroni (Quantile)\"),\n",
    "\n",
    "    (c_cf_avg_ECDF, \"Arithmetic (ECDF)\"),\n",
    "    (c_cf_geom_ECDF, \"Geometric (ECDF)\"),\n",
    "    (c_cf_f_ECDF, \"Fisher (ECDF)\"),\n",
    "    (c_cf_max_ECDF, \"Max (ECDF)\"),\n",
    "]\n",
    "\n",
    "cfs, method_names = zip(*cfs_to_compare)\n",
    "\n",
    "c_cf = pd.concat(cfs,\n",
    "                 keys=method_names, names=(\"p-values\", \"epsilon\"))\n",
    "confusion_matrices(c_cf)"
   ]
  },
  {
   "cell_type": "code",
   "execution_count": null,
   "metadata": {},
   "outputs": [],
   "source": []
  }
 ],
 "metadata": {
  "jupytext": {
   "formats": "ipynb,py:percent"
  },
  "kernelspec": {
   "display_name": "Python(comb_demo)",
   "language": "python",
   "name": "comb_demo"
  },
  "language_info": {
   "codemirror_mode": {
    "name": "ipython",
    "version": 3
   },
   "file_extension": ".py",
   "mimetype": "text/x-python",
   "name": "python",
   "nbconvert_exporter": "python",
   "pygments_lexer": "ipython3",
   "version": "3.7.6"
  },
  "toc": {
   "base_numbering": 1,
   "nav_menu": {},
   "number_sections": false,
   "sideBar": false,
   "skip_h1_title": false,
   "title_cell": "Table of Contents",
   "title_sidebar": "Contents",
   "toc_cell": false,
   "toc_position": {},
   "toc_section_display": false,
   "toc_window_display": false
  },
  "varInspector": {
   "cols": {
    "lenName": 16,
    "lenType": 16,
    "lenVar": 40
   },
   "kernels_config": {
    "python": {
     "delete_cmd_postfix": "",
     "delete_cmd_prefix": "del ",
     "library": "var_list.py",
     "varRefreshCmd": "print(var_dic_list())"
    },
    "r": {
     "delete_cmd_postfix": ") ",
     "delete_cmd_prefix": "rm(",
     "library": "var_list.r",
     "varRefreshCmd": "cat(var_dic_list()) "
    }
   },
   "types_to_exclude": [
    "module",
    "function",
    "builtin_function_or_method",
    "instance",
    "_Feature"
   ],
   "window_display": false
  },
  "widgets": {
   "application/vnd.jupyter.widget-state+json": {
    "state": {
     "003ff2b87f9b4b5fbca86ee5d422ee1e": {
      "model_module": "beakerx",
      "model_module_version": "*",
      "model_name": "TableDisplayModel",
      "state": {
       "layout": "IPY_MODEL_701f1a0480b1413e8197680c77e04f52",
       "model": {
        "alignmentForColumn": {},
        "alignmentForType": {},
        "cellHighlighters": [],
        "columnNames": [
         "epsilon",
         "Active_predicted_Active",
         "Active_predicted_Inactive",
         "Inactive_predicted_Inactive",
         "Inactive_predicted_Active",
         "Empty_preds_Active",
         "Empty_preds_Inactive",
         "Uncertain_preds"
        ],
        "columnOrder": [],
        "columnsFrozen": {},
        "columnsFrozenRight": {},
        "columnsVisible": {},
        "contextMenuItems": [],
        "contextMenuTags": {},
        "fontColor": [],
        "hasDoubleClickAction": false,
        "hasIndex": "true",
        "headersVertical": false,
        "rendererForColumn": {},
        "rendererForType": {},
        "stringFormatForColumn": {},
        "stringFormatForType": {},
        "subtype": "ListOfMaps",
        "tooManyRows": false,
        "tooltips": [],
        "type": "TableDisplay",
        "types": [
         "double",
         "integer",
         "integer",
         "integer",
         "integer",
         "integer",
         "integer",
         "integer"
        ],
        "values": [
         [
          "0.01",
          "8966",
          "485",
          "8720",
          "505",
          "0",
          "0",
          "81324"
         ],
         [
          "0.05",
          "20199",
          "2470",
          "20153",
          "2515",
          "0",
          "0",
          "54663"
         ],
         [
          "0.1",
          "27671",
          "4967",
          "27521",
          "4941",
          "0",
          "0",
          "34900"
         ],
         [
          "0.15",
          "32542",
          "7363",
          "32267",
          "7522",
          "0",
          "0",
          "20306"
         ],
         [
          "0.2",
          "35954",
          "9822",
          "35761",
          "10008",
          "0",
          "0",
          "8455"
         ],
         [
          "0.25",
          "37497",
          "11133",
          "37206",
          "11366",
          "1150",
          "1193",
          "455"
         ],
         [
          "0.5",
          "25169",
          "3950",
          "24989",
          "3966",
          "20881",
          "21045",
          "0"
         ],
         [
          "0.75",
          "12529",
          "911",
          "12220",
          "939",
          "36560",
          "36841",
          "0"
         ],
         [
          "0.8",
          "10024",
          "572",
          "9771",
          "593",
          "39404",
          "39636",
          "0"
         ],
         [
          "0.85",
          "7443",
          "346",
          "7405",
          "364",
          "42211",
          "42231",
          "0"
         ],
         [
          "0.9",
          "4981",
          "173",
          "5025",
          "193",
          "44846",
          "44782",
          "0"
         ],
         [
          "0.95",
          "2604",
          "58",
          "2577",
          "66",
          "47338",
          "47357",
          "0"
         ],
         [
          "0.99",
          "508",
          "1",
          "478",
          "8",
          "49491",
          "49514",
          "0"
         ]
        ]
       }
      }
     },
     "0169e88082ee498bb2b2025856dfe578": {
      "model_module": "beakerx",
      "model_module_version": "*",
      "model_name": "TableDisplayModel",
      "state": {
       "layout": "IPY_MODEL_afa19323a4ce4359a022efecd2db906c",
       "model": {
        "alignmentForColumn": {},
        "alignmentForType": {},
        "cellHighlighters": [],
        "columnNames": [
         "epsilon",
         "Active_predicted_Active",
         "Active_predicted_Inactive",
         "Inactive_predicted_Inactive",
         "Inactive_predicted_Active",
         "Empty_preds_Active",
         "Empty_preds_Inactive",
         "Uncertain_preds"
        ],
        "columnOrder": [],
        "columnsFrozen": {},
        "columnsFrozenRight": {},
        "columnsVisible": {},
        "contextMenuItems": [],
        "contextMenuTags": {},
        "fontColor": [],
        "hasDoubleClickAction": false,
        "hasIndex": "true",
        "headersVertical": false,
        "rendererForColumn": {},
        "rendererForType": {},
        "stringFormatForColumn": {},
        "stringFormatForType": {},
        "subtype": "ListOfMaps",
        "tooManyRows": false,
        "tooltips": [],
        "type": "TableDisplay",
        "types": [
         "double",
         "integer",
         "integer",
         "integer",
         "integer",
         "integer",
         "integer",
         "integer"
        ],
        "values": [
         [
          "0.01",
          "8399",
          "478",
          "8404",
          "490",
          "4",
          "3",
          "82222"
         ],
         [
          "0.05",
          "19522",
          "2409",
          "19399",
          "2352",
          "82",
          "82",
          "56154"
         ],
         [
          "0.1",
          "26568",
          "4651",
          "26327",
          "4636",
          "370",
          "368",
          "37080"
         ],
         [
          "0.15",
          "30736",
          "6565",
          "30491",
          "6601",
          "918",
          "921",
          "23768"
         ],
         [
          "0.2",
          "33390",
          "8111",
          "33088",
          "8210",
          "1807",
          "1868",
          "13526"
         ],
         [
          "0.25",
          "34654",
          "9118",
          "34471",
          "9295",
          "3265",
          "3263",
          "5934"
         ],
         [
          "0.5",
          "25163",
          "4215",
          "24903",
          "4299",
          "20622",
          "20798",
          "0"
         ],
         [
          "0.75",
          "12633",
          "1025",
          "12529",
          "1027",
          "36342",
          "36444",
          "0"
         ],
         [
          "0.8",
          "10204",
          "676",
          "9952",
          "673",
          "39120",
          "39375",
          "0"
         ],
         [
          "0.85",
          "7704",
          "390",
          "7503",
          "416",
          "41906",
          "42081",
          "0"
         ],
         [
          "0.9",
          "5173",
          "185",
          "4976",
          "211",
          "44642",
          "44813",
          "0"
         ],
         [
          "0.95",
          "2603",
          "62",
          "2565",
          "63",
          "47335",
          "47372",
          "0"
         ],
         [
          "0.99",
          "498",
          "1",
          "491",
          "8",
          "49501",
          "49501",
          "0"
         ]
        ]
       }
      }
     },
     "01f73b18053e4cc2af8a375a42907067": {
      "model_module": "beakerx",
      "model_module_version": "*",
      "model_name": "TableDisplayModel",
      "state": {
       "layout": "IPY_MODEL_cc5764da2bba4220b166a7f49ca73832",
       "model": {
        "alignmentForColumn": {},
        "alignmentForType": {},
        "cellHighlighters": [],
        "columnNames": [
         "epsilon",
         "Active_predicted_Active",
         "Active_predicted_Inactive",
         "Inactive_predicted_Inactive",
         "Inactive_predicted_Active",
         "Empty_preds_Active",
         "Empty_preds_Inactive",
         "Uncertain_preds"
        ],
        "columnOrder": [],
        "columnsFrozen": {},
        "columnsFrozenRight": {},
        "columnsVisible": {},
        "contextMenuItems": [],
        "contextMenuTags": {},
        "fontColor": [],
        "hasDoubleClickAction": false,
        "hasIndex": "true",
        "headersVertical": false,
        "rendererForColumn": {},
        "rendererForType": {},
        "stringFormatForColumn": {},
        "stringFormatForType": {},
        "subtype": "ListOfMaps",
        "tooManyRows": false,
        "tooltips": [],
        "type": "TableDisplay",
        "types": [
         "double",
         "integer",
         "integer",
         "integer",
         "integer",
         "integer",
         "integer",
         "integer"
        ],
        "values": [
         [
          "0.01",
          "4566",
          "481",
          "4594",
          "477",
          "0",
          "0",
          "89882"
         ],
         [
          "0.05",
          "13228",
          "2524",
          "13162",
          "2508",
          "0",
          "0",
          "68578"
         ],
         [
          "0.1",
          "19852",
          "4970",
          "19546",
          "5096",
          "0",
          "0",
          "50536"
         ],
         [
          "0.15",
          "24566",
          "7380",
          "24156",
          "7607",
          "0",
          "0",
          "36291"
         ],
         [
          "0.2",
          "28391",
          "9757",
          "28118",
          "10011",
          "0",
          "0",
          "23723"
         ],
         [
          "0.25",
          "31638",
          "12209",
          "31345",
          "12512",
          "0",
          "0",
          "12296"
         ],
         [
          "0.5",
          "25322",
          "7932",
          "25091",
          "8069",
          "16746",
          "16840",
          "0"
         ],
         [
          "0.75",
          "12897",
          "2322",
          "12553",
          "2399",
          "34781",
          "35048",
          "0"
         ],
         [
          "0.8",
          "10284",
          "1622",
          "10112",
          "1667",
          "38094",
          "38221",
          "0"
         ],
         [
          "0.85",
          "7704",
          "1007",
          "7555",
          "1060",
          "41289",
          "41385",
          "0"
         ],
         [
          "0.9",
          "5104",
          "540",
          "4962",
          "570",
          "44356",
          "44468",
          "0"
         ],
         [
          "0.95",
          "2566",
          "191",
          "2560",
          "211",
          "47243",
          "47229",
          "0"
         ],
         [
          "0.99",
          "504",
          "14",
          "554",
          "19",
          "49482",
          "49427",
          "0"
         ]
        ]
       }
      }
     },
     "027df0dad4af4b32953877bc58ca09b8": {
      "model_module": "@jupyter-widgets/base",
      "model_module_version": "*",
      "model_name": "LayoutModel",
      "state": {
       "_model_module_version": "*",
       "_view_module_version": "*"
      }
     },
     "04609991fa544e8fb1d173e7ae520501": {
      "model_module": "@jupyter-widgets/base",
      "model_module_version": "*",
      "model_name": "LayoutModel",
      "state": {
       "_model_module_version": "*",
       "_view_module_version": "*"
      }
     },
     "0600d978b03844a0a98f74d6f638d47a": {
      "model_module": "@jupyter-widgets/base",
      "model_module_version": "*",
      "model_name": "LayoutModel",
      "state": {
       "_model_module_version": "*",
       "_view_module_version": "*"
      }
     },
     "099e6ecb91fb4ab9865844ac534b05dc": {
      "model_module": "@jupyter-widgets/base",
      "model_module_version": "*",
      "model_name": "LayoutModel",
      "state": {
       "_model_module_version": "*",
       "_view_module_version": "*"
      }
     },
     "0bbed8eb0d0c4347946e287c074deca0": {
      "model_module": "@jupyter-widgets/base",
      "model_module_version": "*",
      "model_name": "LayoutModel",
      "state": {
       "_model_module_version": "*",
       "_view_module_version": "*"
      }
     },
     "0d34fbc8f99e429eb09118233e36dce7": {
      "model_module": "beakerx",
      "model_module_version": "*",
      "model_name": "TableDisplayModel",
      "state": {
       "layout": "IPY_MODEL_66cb3176cc1a42a88420d437c34a2c55",
       "model": {
        "alignmentForColumn": {},
        "alignmentForType": {},
        "cellHighlighters": [],
        "columnNames": [
         "p-values, epsilon",
         "Active_predicted_Active",
         "Active_predicted_Inactive",
         "Inactive_predicted_Inactive",
         "Inactive_predicted_Active",
         "Empty_preds_Active",
         "Empty_preds_Inactive",
         "Uncertain_preds"
        ],
        "columnOrder": [],
        "columnsFrozen": {},
        "columnsFrozenRight": {},
        "columnsVisible": {},
        "contextMenuItems": [],
        "contextMenuTags": {},
        "fontColor": [],
        "hasDoubleClickAction": false,
        "hasIndex": "true",
        "headersVertical": false,
        "rendererForColumn": {},
        "rendererForType": {},
        "stringFormatForColumn": {},
        "stringFormatForType": {},
        "subtype": "ListOfMaps",
        "tooManyRows": false,
        "tooltips": [],
        "type": "TableDisplay",
        "types": [
         "string",
         "integer",
         "integer",
         "integer",
         "integer",
         "integer",
         "integer",
         "integer"
        ],
        "values": [
         [
          "('a', 0.01)",
          "4537",
          "511",
          "4646",
          "470",
          "0",
          "0",
          "89836"
         ],
         [
          "('b', 0.01)",
          "4566",
          "481",
          "4594",
          "477",
          "0",
          "0",
          "89882"
         ],
         [
          "('Fisher', 0.01)",
          "8399",
          "478",
          "8404",
          "490",
          "4",
          "3",
          "82222"
         ],
         [
          "('NP Comb', 0.01)",
          "9512",
          "501",
          "9045",
          "544",
          "0",
          "0",
          "80398"
         ],
         [
          "('NP Comb Spline', 0.01)",
          "8966",
          "485",
          "8720",
          "505",
          "0",
          "0",
          "81324"
         ]
        ]
       }
      }
     },
     "0f3155e45dac4c019cdf17fd3b66d468": {
      "model_module": "@jupyter-widgets/base",
      "model_module_version": "*",
      "model_name": "LayoutModel",
      "state": {
       "_model_module_version": "*",
       "_view_module_version": "*"
      }
     },
     "0f5ebd2db95b4f10941d08263d64fbd8": {
      "model_module": "beakerx",
      "model_module_version": "*",
      "model_name": "TableDisplayModel",
      "state": {
       "layout": "IPY_MODEL_89e28f9a806c456eaded82824cce0435",
       "model": {
        "alignmentForColumn": {},
        "alignmentForType": {},
        "cellHighlighters": [],
        "columnNames": [
         "p-values, epsilon",
         "Active_predicted_Active",
         "Active_predicted_Inactive",
         "Inactive_predicted_Inactive",
         "Inactive_predicted_Active",
         "Empty_preds_Active",
         "Empty_preds_Inactive",
         "Uncertain_preds"
        ],
        "columnOrder": [],
        "columnsFrozen": {},
        "columnsFrozenRight": {},
        "columnsVisible": {},
        "contextMenuItems": [],
        "contextMenuTags": {},
        "fontColor": [],
        "hasDoubleClickAction": false,
        "hasIndex": "true",
        "headersVertical": false,
        "rendererForColumn": {},
        "rendererForType": {},
        "stringFormatForColumn": {},
        "stringFormatForType": {},
        "subtype": "ListOfMaps",
        "tooManyRows": false,
        "tooltips": [],
        "type": "TableDisplay",
        "types": [
         "string",
         "integer",
         "integer",
         "integer",
         "integer",
         "integer",
         "integer",
         "integer"
        ],
        "values": [
         [
          "('a', 0.01)",
          "4537",
          "511",
          "4646",
          "470",
          "0",
          "0",
          "89836"
         ]
        ]
       }
      }
     },
     "10a663c483604cb9ae2261c49db06912": {
      "model_module": "@jupyter-widgets/base",
      "model_module_version": "*",
      "model_name": "LayoutModel",
      "state": {
       "_model_module_version": "*",
       "_view_module_version": "*"
      }
     },
     "11968c96541543e5a0b8c18cf6a25c8a": {
      "model_module": "beakerx",
      "model_module_version": "*",
      "model_name": "TableDisplayModel",
      "state": {
       "layout": "IPY_MODEL_7bdff1d68dbe4808a2dc0b8d3b1d5f19",
       "model": {
        "alignmentForColumn": {},
        "alignmentForType": {},
        "cellHighlighters": [],
        "columnNames": [
         null,
         "prec_at_k=10",
         "prec_at_k=25",
         "prec_at_k=50",
         "prec_at_k=100",
         "prec_at_k=200",
         "avg_prec"
        ],
        "columnOrder": [],
        "columnsFrozen": {},
        "columnsFrozenRight": {},
        "columnsVisible": {},
        "contextMenuItems": [],
        "contextMenuTags": {},
        "fontColor": [],
        "hasDoubleClickAction": false,
        "hasIndex": "true",
        "headersVertical": false,
        "rendererForColumn": {},
        "rendererForType": {},
        "stringFormatForColumn": {},
        "stringFormatForType": {},
        "subtype": "ListOfMaps",
        "tooManyRows": false,
        "tooltips": [],
        "type": "TableDisplay",
        "types": [
         "string",
         "double",
         "double",
         "double",
         "double",
         "double",
         "double"
        ],
        "values": [
         [
          "Positives lowest p_0",
          "0.9",
          "0.96",
          "0.96",
          "0.98",
          "0.97",
          "0.35530492218046394"
         ],
         [
          "Negatives lowest p_1",
          "1.0",
          "1.0",
          "1.0",
          "0.99",
          "0.98",
          "0.3550647772236817"
         ],
         [
          "Positives highest p_1",
          "1.0",
          "1.0",
          "0.98",
          "0.98",
          "0.975",
          "0.35530521639502505"
         ],
         [
          "Negatives highest p_0",
          "1.0",
          "1.0",
          "1.0",
          "0.99",
          "0.98",
          "0.3550698359027796"
         ]
        ]
       }
      }
     },
     "12b4ab4f0c7b44a88aac2a69a41ca733": {
      "model_module": "@jupyter-widgets/base",
      "model_module_version": "*",
      "model_name": "LayoutModel",
      "state": {
       "_model_module_version": "*",
       "_view_module_version": "*"
      }
     },
     "1798f8c2b6d944699df35bef79a3c6c1": {
      "model_module": "beakerx",
      "model_module_version": "*",
      "model_name": "TableDisplayModel",
      "state": {
       "layout": "IPY_MODEL_6447c251bae14d4a99c0e188d0859f92",
       "model": {
        "alignmentForColumn": {},
        "alignmentForType": {},
        "cellHighlighters": [],
        "columnNames": [
         "p-values",
         "Active_predicted_Active",
         "Active_predicted_Inactive",
         "Inactive_predicted_Inactive",
         "Inactive_predicted_Active",
         "Empty_preds_Active",
         "Empty_preds_Inactive",
         "Uncertain_preds"
        ],
        "columnOrder": [],
        "columnsFrozen": {},
        "columnsFrozenRight": {},
        "columnsVisible": {},
        "contextMenuItems": [],
        "contextMenuTags": {},
        "fontColor": [],
        "hasDoubleClickAction": false,
        "hasIndex": "true",
        "headersVertical": false,
        "rendererForColumn": {},
        "rendererForType": {},
        "stringFormatForColumn": {},
        "stringFormatForType": {},
        "subtype": "ListOfMaps",
        "tooManyRows": false,
        "tooltips": [],
        "type": "TableDisplay",
        "types": [
         "string",
         "integer",
         "integer",
         "integer",
         "integer",
         "integer",
         "integer",
         "integer"
        ],
        "values": [
         [
          "a",
          "12998",
          "2591",
          "13059",
          "2455",
          "0",
          "0",
          "68897"
         ],
         [
          "b",
          "13228",
          "2524",
          "13162",
          "2508",
          "0",
          "0",
          "68578"
         ],
         [
          "Fisher",
          "19522",
          "2409",
          "19399",
          "2352",
          "82",
          "82",
          "56154"
         ],
         [
          "NP Comb",
          "20722",
          "2627",
          "20781",
          "2607",
          "0",
          "0",
          "53263"
         ],
         [
          "NP Comb Spline",
          "20199",
          "2470",
          "20153",
          "2515",
          "0",
          "0",
          "54663"
         ]
        ]
       }
      }
     },
     "1801556735324abc8e97226cb3ba66a0": {
      "model_module": "@jupyter-widgets/base",
      "model_module_version": "*",
      "model_name": "LayoutModel",
      "state": {
       "_model_module_version": "*",
       "_view_module_version": "*"
      }
     },
     "19b5a97b52e34fb695146dd394c954f6": {
      "model_module": "beakerx",
      "model_module_version": "*",
      "model_name": "TableDisplayModel",
      "state": {
       "layout": "IPY_MODEL_e00e9abed1ce49428d2e9a572cbc3916",
       "model": {
        "alignmentForColumn": {},
        "alignmentForType": {},
        "cellHighlighters": [],
        "columnNames": [
         "$\\epsilon=0.01$",
         "Active_predicted_Active",
         "Active_predicted_Inactive",
         "Inactive_predicted_Inactive",
         "Inactive_predicted_Active",
         "Empty_preds_Active",
         "Empty_preds_Inactive",
         "Uncertain_preds"
        ],
        "columnOrder": [],
        "columnsFrozen": {},
        "columnsFrozenRight": {},
        "columnsVisible": {},
        "contextMenuItems": [],
        "contextMenuTags": {},
        "fontColor": [],
        "hasDoubleClickAction": false,
        "hasIndex": "true",
        "headersVertical": false,
        "rendererForColumn": {},
        "rendererForType": {},
        "stringFormatForColumn": {},
        "stringFormatForType": {},
        "subtype": "ListOfMaps",
        "tooManyRows": false,
        "tooltips": [],
        "type": "TableDisplay",
        "types": [
         "string",
         "integer",
         "integer",
         "integer",
         "integer",
         "integer",
         "integer",
         "integer"
        ],
        "values": [
         [
          "a",
          "4537",
          "511",
          "4646",
          "470",
          "0",
          "0",
          "89836"
         ],
         [
          "b",
          "4566",
          "481",
          "4594",
          "477",
          "0",
          "0",
          "89882"
         ],
         [
          "Fisher",
          "8399",
          "478",
          "8404",
          "490",
          "4",
          "3",
          "82222"
         ],
         [
          "NP Comb",
          "9512",
          "501",
          "9045",
          "544",
          "0",
          "0",
          "80398"
         ],
         [
          "NP Comb Spline",
          "8966",
          "485",
          "8720",
          "505",
          "0",
          "0",
          "81324"
         ]
        ]
       }
      }
     },
     "1b9cfeb871e749478ec22cfdb4204fd5": {
      "model_module": "@jupyter-widgets/base",
      "model_module_version": "*",
      "model_name": "LayoutModel",
      "state": {
       "_model_module_version": "*",
       "_view_module_version": "*"
      }
     },
     "1ba3f2ad23524e148e3bda201d9cffee": {
      "model_module": "@jupyter-widgets/base",
      "model_module_version": "*",
      "model_name": "LayoutModel",
      "state": {
       "_model_module_version": "*",
       "_view_module_version": "*"
      }
     },
     "1d005d2b7411476b936897ca7bf1e6b3": {
      "model_module": "@jupyter-widgets/base",
      "model_module_version": "*",
      "model_name": "LayoutModel",
      "state": {
       "_model_module_version": "*",
       "_view_module_version": "*"
      }
     },
     "1d48644ff6a444bdb78e123fb43b02fd": {
      "model_module": "beakerx",
      "model_module_version": "*",
      "model_name": "TableDisplayModel",
      "state": {
       "layout": "IPY_MODEL_a114b6d8e5f54e09b3d1d69c3852b8f8",
       "model": {
        "alignmentForColumn": {},
        "alignmentForType": {},
        "cellHighlighters": [],
        "columnNames": [
         "$\\epsilon=0.05$",
         "Active_predicted_Active",
         "Active_predicted_Inactive",
         "Inactive_predicted_Inactive",
         "Inactive_predicted_Active",
         "Empty_preds_Active",
         "Empty_preds_Inactive",
         "Uncertain_preds"
        ],
        "columnOrder": [],
        "columnsFrozen": {},
        "columnsFrozenRight": {},
        "columnsVisible": {},
        "contextMenuItems": [],
        "contextMenuTags": {},
        "fontColor": [],
        "hasDoubleClickAction": false,
        "hasIndex": "true",
        "headersVertical": false,
        "rendererForColumn": {},
        "rendererForType": {},
        "stringFormatForColumn": {},
        "stringFormatForType": {},
        "subtype": "ListOfMaps",
        "tooManyRows": false,
        "tooltips": [],
        "type": "TableDisplay",
        "types": [
         "string",
         "integer",
         "integer",
         "integer",
         "integer",
         "integer",
         "integer",
         "integer"
        ],
        "values": [
         [
          "a",
          "12998",
          "2591",
          "13059",
          "2455",
          "0",
          "0",
          "68897"
         ],
         [
          "b",
          "13228",
          "2524",
          "13162",
          "2508",
          "0",
          "0",
          "68578"
         ],
         [
          "Fisher",
          "19522",
          "2409",
          "19399",
          "2352",
          "82",
          "82",
          "56154"
         ],
         [
          "NP Comb",
          "20722",
          "2627",
          "20781",
          "2607",
          "0",
          "0",
          "53263"
         ],
         [
          "NP Comb Spline",
          "20199",
          "2470",
          "20153",
          "2515",
          "0",
          "0",
          "54663"
         ]
        ]
       }
      }
     },
     "1d9168654e3a432a9d9901598babefce": {
      "model_module": "beakerx",
      "model_module_version": "*",
      "model_name": "TableDisplayModel",
      "state": {
       "layout": "IPY_MODEL_b121c8b8639742b4b44a8b3282bbc2ce",
       "model": {
        "alignmentForColumn": {},
        "alignmentForType": {},
        "cellHighlighters": [],
        "columnNames": [
         null,
         "prec_at_k=10",
         "prec_at_k=25",
         "prec_at_k=50",
         "prec_at_k=100",
         "prec_at_k=200",
         "avg_prec"
        ],
        "columnOrder": [],
        "columnsFrozen": {},
        "columnsFrozenRight": {},
        "columnsVisible": {},
        "contextMenuItems": [],
        "contextMenuTags": {},
        "fontColor": [],
        "hasDoubleClickAction": false,
        "hasIndex": "true",
        "headersVertical": false,
        "rendererForColumn": {},
        "rendererForType": {},
        "stringFormatForColumn": {},
        "stringFormatForType": {},
        "subtype": "ListOfMaps",
        "tooManyRows": false,
        "tooltips": [],
        "type": "TableDisplay",
        "types": [
         "string",
         "double",
         "double",
         "double",
         "double",
         "double",
         "double"
        ],
        "values": [
         [
          "Positives lowest p_0",
          "1.0",
          "1.0",
          "0.98",
          "0.99",
          "0.985",
          "0.33313699273973746"
         ],
         [
          "Negatives lowest p_1",
          "1.0",
          "1.0",
          "1.0",
          "1.0",
          "1.0",
          "0.3333313096255492"
         ],
         [
          "Positives highest p_1",
          "1.0",
          "1.0",
          "0.98",
          "0.99",
          "0.99",
          "0.3333311581683906"
         ],
         [
          "Negatives highest p_0",
          "1.0",
          "1.0",
          "1.0",
          "1.0",
          "1.0",
          "0.33313854189983017"
         ]
        ]
       }
      }
     },
     "1f14c40838344dad809aab3d08ae0257": {
      "model_module": "@jupyter-widgets/base",
      "model_module_version": "*",
      "model_name": "LayoutModel",
      "state": {
       "_model_module_version": "*",
       "_view_module_version": "*"
      }
     },
     "21b985f16b934b69bcbb95b8009f6d00": {
      "model_module": "@jupyter-widgets/base",
      "model_module_version": "*",
      "model_name": "LayoutModel",
      "state": {
       "_model_module_version": "*",
       "_view_module_version": "*"
      }
     },
     "2468522e9aaf47e38b2c8121e7f07f81": {
      "model_module": "beakerx",
      "model_module_version": "*",
      "model_name": "TableDisplayModel",
      "state": {
       "layout": "IPY_MODEL_bd6231485a5f4638a395b41ee96940ca",
       "model": {
        "alignmentForColumn": {},
        "alignmentForType": {},
        "cellHighlighters": [],
        "columnNames": [
         null,
         "prec_at_k=10",
         "prec_at_k=25",
         "prec_at_k=50",
         "prec_at_k=100",
         "prec_at_k=200",
         "avg_prec"
        ],
        "columnOrder": [],
        "columnsFrozen": {},
        "columnsFrozenRight": {},
        "columnsVisible": {},
        "contextMenuItems": [],
        "contextMenuTags": {},
        "fontColor": [],
        "hasDoubleClickAction": false,
        "hasIndex": "true",
        "headersVertical": false,
        "rendererForColumn": {},
        "rendererForType": {},
        "stringFormatForColumn": {},
        "stringFormatForType": {},
        "subtype": "ListOfMaps",
        "tooManyRows": false,
        "tooltips": [],
        "type": "TableDisplay",
        "types": [
         "string",
         "double",
         "double",
         "double",
         "double",
         "double",
         "double"
        ],
        "values": [
         [
          "Positives lowest p_0",
          "0.984",
          "0.984",
          "0.984",
          "0.984",
          "0.99",
          "0.3319987108472502"
         ],
         [
          "Negatives lowest p_1",
          "1.0",
          "1.0",
          "1.0",
          "1.0",
          "0.995",
          "0.3320873181635298"
         ],
         [
          "Positives highest p_1",
          "1.0",
          "1.0",
          "1.0",
          "1.0",
          "0.97",
          "0.332043904413557"
         ],
         [
          "Negatives highest p_0",
          "1.0",
          "0.92",
          "0.96",
          "0.98",
          "0.97",
          "0.3319618148037781"
         ]
        ]
       }
      }
     },
     "26c95202e7d04aa7b1874dce61ed69be": {
      "model_module": "beakerx",
      "model_module_version": "*",
      "model_name": "TableDisplayModel",
      "state": {
       "layout": "IPY_MODEL_6522154ff5bf44a2ba0fef1eaa2f40df",
       "model": {
        "alignmentForColumn": {},
        "alignmentForType": {},
        "cellHighlighters": [],
        "columnNames": [
         null,
         "prec_at_k=10",
         "prec_at_k=25",
         "prec_at_k=50",
         "prec_at_k=100",
         "prec_at_k=200",
         "avg_prec"
        ],
        "columnOrder": [],
        "columnsFrozen": {},
        "columnsFrozenRight": {},
        "columnsVisible": {},
        "contextMenuItems": [],
        "contextMenuTags": {},
        "fontColor": [],
        "hasDoubleClickAction": false,
        "hasIndex": "true",
        "headersVertical": false,
        "rendererForColumn": {},
        "rendererForType": {},
        "stringFormatForColumn": {},
        "stringFormatForType": {},
        "subtype": "ListOfMaps",
        "tooManyRows": false,
        "tooltips": [],
        "type": "TableDisplay",
        "types": [
         "string",
         "double",
         "double",
         "double",
         "double",
         "double",
         "double"
        ],
        "values": [
         [
          "Positives lowest p_0",
          "1.0",
          "1.0",
          "0.98",
          "0.99",
          "0.985",
          "0.33313699273973746"
         ],
         [
          "Negatives lowest p_1",
          "1.0",
          "1.0",
          "1.0",
          "1.0",
          "1.0",
          "0.3333313096255492"
         ],
         [
          "Positives highest p_1",
          "1.0",
          "1.0",
          "0.98",
          "0.99",
          "0.99",
          "0.3333311581683906"
         ],
         [
          "Negatives highest p_0",
          "1.0",
          "1.0",
          "1.0",
          "1.0",
          "1.0",
          "0.33313854189983017"
         ]
        ]
       }
      }
     },
     "29b8b29b143d404f8a66ffe8fa84b7ad": {
      "model_module": "beakerx",
      "model_module_version": "*",
      "model_name": "TableDisplayModel",
      "state": {
       "layout": "IPY_MODEL_f7e6c1bd3de940afbdfb1ab288facfea",
       "model": {
        "alignmentForColumn": {},
        "alignmentForType": {},
        "cellHighlighters": [],
        "columnNames": [
         "epsilon",
         "Active_predicted_Active",
         "Active_predicted_Inactive",
         "Inactive_predicted_Inactive",
         "Inactive_predicted_Active",
         "Empty_preds_Active",
         "Empty_preds_Inactive",
         "Uncertain_preds"
        ],
        "columnOrder": [],
        "columnsFrozen": {},
        "columnsFrozenRight": {},
        "columnsVisible": {},
        "contextMenuItems": [],
        "contextMenuTags": {},
        "fontColor": [],
        "hasDoubleClickAction": false,
        "hasIndex": "true",
        "headersVertical": false,
        "rendererForColumn": {},
        "rendererForType": {},
        "stringFormatForColumn": {},
        "stringFormatForType": {},
        "subtype": "ListOfMaps",
        "tooManyRows": false,
        "tooltips": [],
        "type": "TableDisplay",
        "types": [
         "double",
         "integer",
         "integer",
         "integer",
         "integer",
         "integer",
         "integer",
         "integer"
        ],
        "values": [
         [
          "0.01",
          "4537",
          "511",
          "4646",
          "470",
          "0",
          "0",
          "89836"
         ],
         [
          "0.05",
          "12998",
          "2591",
          "13059",
          "2455",
          "0",
          "0",
          "68897"
         ],
         [
          "0.1",
          "19685",
          "5131",
          "19464",
          "5066",
          "0",
          "0",
          "50654"
         ],
         [
          "0.15",
          "24307",
          "7487",
          "24171",
          "7579",
          "0",
          "0",
          "36456"
         ],
         [
          "0.2",
          "28303",
          "9906",
          "27958",
          "10105",
          "0",
          "0",
          "23728"
         ],
         [
          "0.25",
          "31581",
          "12504",
          "31222",
          "12590",
          "0",
          "0",
          "12103"
         ],
         [
          "0.5",
          "25033",
          "7973",
          "25042",
          "7985",
          "16994",
          "16973",
          "0"
         ],
         [
          "0.75",
          "12598",
          "2415",
          "12550",
          "2318",
          "34987",
          "35132",
          "0"
         ],
         [
          "0.8",
          "10077",
          "1715",
          "10008",
          "1648",
          "38208",
          "38344",
          "0"
         ],
         [
          "0.85",
          "7488",
          "1094",
          "7472",
          "1031",
          "41418",
          "41497",
          "0"
         ],
         [
          "0.9",
          "4985",
          "580",
          "4988",
          "548",
          "44435",
          "44464",
          "0"
         ],
         [
          "0.95",
          "2507",
          "220",
          "2519",
          "193",
          "47273",
          "47288",
          "0"
         ],
         [
          "0.99",
          "472",
          "26",
          "503",
          "17",
          "49502",
          "49480",
          "0"
         ]
        ]
       }
      }
     },
     "2ca9d46efac3456ba36580789dc0f28a": {
      "model_module": "beakerx",
      "model_module_version": "*",
      "model_name": "TableDisplayModel",
      "state": {
       "layout": "IPY_MODEL_4e3f70cecb1c4d83a449cc343fc57116",
       "model": {
        "alignmentForColumn": {},
        "alignmentForType": {},
        "cellHighlighters": [],
        "columnNames": [
         null,
         "prec_at_k=10",
         "prec_at_k=25",
         "prec_at_k=50",
         "prec_at_k=100",
         "prec_at_k=200",
         "avg_prec"
        ],
        "columnOrder": [],
        "columnsFrozen": {},
        "columnsFrozenRight": {},
        "columnsVisible": {},
        "contextMenuItems": [],
        "contextMenuTags": {},
        "fontColor": [],
        "hasDoubleClickAction": false,
        "hasIndex": "true",
        "headersVertical": false,
        "rendererForColumn": {},
        "rendererForType": {},
        "stringFormatForColumn": {},
        "stringFormatForType": {},
        "subtype": "ListOfMaps",
        "tooManyRows": false,
        "tooltips": [],
        "type": "TableDisplay",
        "types": [
         "string",
         "double",
         "double",
         "double",
         "double",
         "double",
         "double"
        ],
        "values": [
         [
          "Positives lowest p_0",
          "1.0",
          "1.0",
          "0.98",
          "0.99",
          "0.985",
          "0.33313699273973746"
         ],
         [
          "Negatives lowest p_1",
          "1.0",
          "1.0",
          "1.0",
          "1.0",
          "1.0",
          "0.3333313096255492"
         ],
         [
          "Positives highest p_1",
          "1.0",
          "1.0",
          "0.98",
          "0.99",
          "0.99",
          "0.3333311581683906"
         ],
         [
          "Negatives highest p_0",
          "1.0",
          "1.0",
          "1.0",
          "1.0",
          "1.0",
          "0.33313854189983017"
         ]
        ]
       }
      }
     },
     "2e0343a2367b417fac64b7b727081fd9": {
      "model_module": "@jupyter-widgets/base",
      "model_module_version": "*",
      "model_name": "LayoutModel",
      "state": {
       "_model_module_version": "*",
       "_view_module_version": "*"
      }
     },
     "2f6d756e0599488a88d7e36233b76dea": {
      "model_module": "@jupyter-widgets/base",
      "model_module_version": "*",
      "model_name": "LayoutModel",
      "state": {
       "_model_module_version": "*",
       "_view_module_version": "*"
      }
     },
     "30806258298b4fe298b470fbcebd5a8b": {
      "model_module": "@jupyter-widgets/base",
      "model_module_version": "*",
      "model_name": "LayoutModel",
      "state": {
       "_model_module_version": "*",
       "_view_module_version": "*"
      }
     },
     "324100686e5e4798894aef4a189e2cb2": {
      "model_module": "beakerx",
      "model_module_version": "*",
      "model_name": "TableDisplayModel",
      "state": {
       "layout": "IPY_MODEL_4822dac781c3463d939a5a16f63ffbc9",
       "model": {
        "alignmentForColumn": {},
        "alignmentForType": {},
        "cellHighlighters": [],
        "columnNames": [
         "epsilon",
         "Active_predicted_Active",
         "Active_predicted_Inactive",
         "Inactive_predicted_Inactive",
         "Inactive_predicted_Active",
         "Empty_preds_Active",
         "Empty_preds_Inactive",
         "Uncertain_preds"
        ],
        "columnOrder": [],
        "columnsFrozen": {},
        "columnsFrozenRight": {},
        "columnsVisible": {},
        "contextMenuItems": [],
        "contextMenuTags": {},
        "fontColor": [],
        "hasDoubleClickAction": false,
        "hasIndex": "true",
        "headersVertical": false,
        "rendererForColumn": {},
        "rendererForType": {},
        "stringFormatForColumn": {},
        "stringFormatForType": {},
        "subtype": "ListOfMaps",
        "tooManyRows": false,
        "tooltips": [],
        "type": "TableDisplay",
        "types": [
         "double",
         "integer",
         "integer",
         "integer",
         "integer",
         "integer",
         "integer",
         "integer"
        ],
        "values": [
         [
          "0.01",
          "8966",
          "485",
          "8720",
          "505",
          "0",
          "0",
          "81324"
         ],
         [
          "0.05",
          "20199",
          "2470",
          "20153",
          "2515",
          "0",
          "0",
          "54663"
         ],
         [
          "0.1",
          "27671",
          "4967",
          "27521",
          "4941",
          "0",
          "0",
          "34900"
         ],
         [
          "0.15",
          "32542",
          "7363",
          "32267",
          "7522",
          "0",
          "0",
          "20306"
         ],
         [
          "0.2",
          "35954",
          "9822",
          "35761",
          "10008",
          "0",
          "0",
          "8455"
         ],
         [
          "0.25",
          "37497",
          "11133",
          "37206",
          "11366",
          "1150",
          "1193",
          "455"
         ],
         [
          "0.5",
          "25169",
          "3950",
          "24989",
          "3966",
          "20881",
          "21045",
          "0"
         ],
         [
          "0.75",
          "12529",
          "911",
          "12220",
          "939",
          "36560",
          "36841",
          "0"
         ],
         [
          "0.8",
          "10024",
          "572",
          "9771",
          "593",
          "39404",
          "39636",
          "0"
         ],
         [
          "0.85",
          "7443",
          "346",
          "7405",
          "364",
          "42211",
          "42231",
          "0"
         ],
         [
          "0.9",
          "4981",
          "173",
          "5025",
          "193",
          "44846",
          "44782",
          "0"
         ],
         [
          "0.95",
          "2604",
          "58",
          "2577",
          "66",
          "47338",
          "47357",
          "0"
         ],
         [
          "0.99",
          "508",
          "1",
          "478",
          "8",
          "49491",
          "49514",
          "0"
         ]
        ]
       }
      }
     },
     "32f196a16e6d4adb8fc789ece490b138": {
      "model_module": "beakerx",
      "model_module_version": "*",
      "model_name": "TableDisplayModel",
      "state": {
       "layout": "IPY_MODEL_54736341ba7645da98bc7a4b9d90929d",
       "model": {
        "alignmentForColumn": {},
        "alignmentForType": {},
        "cellHighlighters": [],
        "columnNames": [
         "$\\epsilon=0.10$",
         "Active_predicted_Active",
         "Active_predicted_Inactive",
         "Inactive_predicted_Inactive",
         "Inactive_predicted_Active",
         "Empty_preds_Active",
         "Empty_preds_Inactive",
         "Uncertain_preds"
        ],
        "columnOrder": [],
        "columnsFrozen": {},
        "columnsFrozenRight": {},
        "columnsVisible": {},
        "contextMenuItems": [],
        "contextMenuTags": {},
        "fontColor": [],
        "hasDoubleClickAction": false,
        "hasIndex": "true",
        "headersVertical": false,
        "rendererForColumn": {},
        "rendererForType": {},
        "stringFormatForColumn": {},
        "stringFormatForType": {},
        "subtype": "ListOfMaps",
        "tooManyRows": false,
        "tooltips": [],
        "type": "TableDisplay",
        "types": [
         "string",
         "integer",
         "integer",
         "integer",
         "integer",
         "integer",
         "integer",
         "integer"
        ],
        "values": [
         [
          "a",
          "19685",
          "5131",
          "19464",
          "5066",
          "0",
          "0",
          "50654"
         ],
         [
          "b",
          "19852",
          "4970",
          "19546",
          "5096",
          "0",
          "0",
          "50536"
         ],
         [
          "Fisher",
          "26568",
          "4651",
          "26327",
          "4636",
          "370",
          "368",
          "37080"
         ],
         [
          "NP Comb",
          "27905",
          "5162",
          "27831",
          "5213",
          "0",
          "0",
          "33889"
         ],
         [
          "NP Comb Spline",
          "27671",
          "4967",
          "27521",
          "4941",
          "0",
          "0",
          "34900"
         ]
        ]
       }
      }
     },
     "34505521958e4b6288381dbb32eef21c": {
      "model_module": "@jupyter-widgets/base",
      "model_module_version": "*",
      "model_name": "LayoutModel",
      "state": {
       "_model_module_version": "*",
       "_view_module_version": "*"
      }
     },
     "34c1eed1c66e401fbbec158835962284": {
      "model_module": "beakerx",
      "model_module_version": "*",
      "model_name": "TableDisplayModel",
      "state": {
       "layout": "IPY_MODEL_1801556735324abc8e97226cb3ba66a0",
       "model": {
        "alignmentForColumn": {},
        "alignmentForType": {},
        "cellHighlighters": [],
        "columnNames": [
         null,
         "prec_at_k=10",
         "prec_at_k=25",
         "prec_at_k=50",
         "prec_at_k=100",
         "prec_at_k=200",
         "avg_prec"
        ],
        "columnOrder": [],
        "columnsFrozen": {},
        "columnsFrozenRight": {},
        "columnsVisible": {},
        "contextMenuItems": [],
        "contextMenuTags": {},
        "fontColor": [],
        "hasDoubleClickAction": false,
        "hasIndex": "true",
        "headersVertical": false,
        "rendererForColumn": {},
        "rendererForType": {},
        "stringFormatForColumn": {},
        "stringFormatForType": {},
        "subtype": "ListOfMaps",
        "tooManyRows": false,
        "tooltips": [],
        "type": "TableDisplay",
        "types": [
         "string",
         "double",
         "double",
         "double",
         "double",
         "double",
         "double"
        ],
        "values": [
         [
          "Positives lowest p_0",
          "0.9",
          "0.96",
          "0.96",
          "0.98",
          "0.97",
          "0.35530492218046394"
         ],
         [
          "Negatives lowest p_1",
          "1.0",
          "1.0",
          "1.0",
          "0.99",
          "0.98",
          "0.3550647772236817"
         ],
         [
          "Positives highest p_1",
          "1.0",
          "1.0",
          "0.98",
          "0.98",
          "0.975",
          "0.35530521639502505"
         ],
         [
          "Negatives highest p_0",
          "1.0",
          "1.0",
          "1.0",
          "0.99",
          "0.98",
          "0.3550698359027796"
         ]
        ]
       }
      }
     },
     "39c331e2f6cf4c23b51e7a4d6f3e2d41": {
      "model_module": "@jupyter-widgets/base",
      "model_module_version": "*",
      "model_name": "LayoutModel",
      "state": {
       "_model_module_version": "*",
       "_view_module_version": "*"
      }
     },
     "3c378d3f1b2042068bd17a58e88fff2b": {
      "model_module": "@jupyter-widgets/base",
      "model_module_version": "*",
      "model_name": "LayoutModel",
      "state": {
       "_model_module_version": "*",
       "_view_module_version": "*"
      }
     },
     "3f619d9a1d844958a6103ff882d72d5f": {
      "model_module": "@jupyter-widgets/base",
      "model_module_version": "*",
      "model_name": "LayoutModel",
      "state": {
       "_model_module_version": "*",
       "_view_module_version": "*"
      }
     },
     "3fa27e1febe94b89967959ca7a169d5e": {
      "model_module": "beakerx",
      "model_module_version": "*",
      "model_name": "TableDisplayModel",
      "state": {
       "layout": "IPY_MODEL_b4e35f2b3ed64a25bf9d617ccc673823",
       "model": {
        "alignmentForColumn": {},
        "alignmentForType": {},
        "cellHighlighters": [],
        "columnNames": [
         "epsilon",
         "Active_predicted_Active",
         "Active_predicted_Inactive",
         "Inactive_predicted_Inactive",
         "Inactive_predicted_Active",
         "Empty_preds_Active",
         "Empty_preds_Inactive",
         "Uncertain_preds"
        ],
        "columnOrder": [],
        "columnsFrozen": {},
        "columnsFrozenRight": {},
        "columnsVisible": {},
        "contextMenuItems": [],
        "contextMenuTags": {},
        "fontColor": [],
        "hasDoubleClickAction": false,
        "hasIndex": "true",
        "headersVertical": false,
        "rendererForColumn": {},
        "rendererForType": {},
        "stringFormatForColumn": {},
        "stringFormatForType": {},
        "subtype": "ListOfMaps",
        "tooManyRows": false,
        "tooltips": [],
        "type": "TableDisplay",
        "types": [
         "double",
         "integer",
         "integer",
         "integer",
         "integer",
         "integer",
         "integer",
         "integer"
        ],
        "values": [
         [
          "0.01",
          "8399",
          "478",
          "8404",
          "490",
          "4",
          "3",
          "82222"
         ],
         [
          "0.05",
          "19522",
          "2409",
          "19399",
          "2352",
          "82",
          "82",
          "56154"
         ],
         [
          "0.1",
          "26568",
          "4651",
          "26327",
          "4636",
          "370",
          "368",
          "37080"
         ],
         [
          "0.15",
          "30736",
          "6565",
          "30491",
          "6601",
          "918",
          "921",
          "23768"
         ],
         [
          "0.2",
          "33390",
          "8111",
          "33088",
          "8210",
          "1807",
          "1868",
          "13526"
         ],
         [
          "0.25",
          "34654",
          "9118",
          "34471",
          "9295",
          "3265",
          "3263",
          "5934"
         ],
         [
          "0.5",
          "25163",
          "4215",
          "24903",
          "4299",
          "20622",
          "20798",
          "0"
         ],
         [
          "0.75",
          "12633",
          "1025",
          "12529",
          "1027",
          "36342",
          "36444",
          "0"
         ],
         [
          "0.8",
          "10204",
          "676",
          "9952",
          "673",
          "39120",
          "39375",
          "0"
         ],
         [
          "0.85",
          "7704",
          "390",
          "7503",
          "416",
          "41906",
          "42081",
          "0"
         ],
         [
          "0.9",
          "5173",
          "185",
          "4976",
          "211",
          "44642",
          "44813",
          "0"
         ],
         [
          "0.95",
          "2603",
          "62",
          "2565",
          "63",
          "47335",
          "47372",
          "0"
         ],
         [
          "0.99",
          "498",
          "1",
          "491",
          "8",
          "49501",
          "49501",
          "0"
         ]
        ]
       }
      }
     },
     "4117eb660cbb4827990627b83eeb9e14": {
      "model_module": "@jupyter-widgets/base",
      "model_module_version": "*",
      "model_name": "LayoutModel",
      "state": {
       "_model_module_version": "*",
       "_view_module_version": "*"
      }
     },
     "41c98dc630b144989cdb82b6f731c464": {
      "model_module": "@jupyter-widgets/base",
      "model_module_version": "*",
      "model_name": "LayoutModel",
      "state": {
       "_model_module_version": "*",
       "_view_module_version": "*"
      }
     },
     "41ec5bfa5e6c473397ecda55ff7dc590": {
      "model_module": "beakerx",
      "model_module_version": "*",
      "model_name": "TableDisplayModel",
      "state": {
       "layout": "IPY_MODEL_54aae1b472374c8c968321437c632340",
       "model": {
        "alignmentForColumn": {},
        "alignmentForType": {},
        "cellHighlighters": [],
        "columnNames": [
         "$\\epsilon=0.10$",
         "Active_predicted_Active",
         "Active_predicted_Inactive",
         "Inactive_predicted_Inactive",
         "Inactive_predicted_Active",
         "Empty_preds_Active",
         "Empty_preds_Inactive",
         "Uncertain_preds"
        ],
        "columnOrder": [],
        "columnsFrozen": {},
        "columnsFrozenRight": {},
        "columnsVisible": {},
        "contextMenuItems": [],
        "contextMenuTags": {},
        "fontColor": [],
        "hasDoubleClickAction": false,
        "hasIndex": "true",
        "headersVertical": false,
        "rendererForColumn": {},
        "rendererForType": {},
        "stringFormatForColumn": {},
        "stringFormatForType": {},
        "subtype": "ListOfMaps",
        "tooManyRows": false,
        "tooltips": [],
        "type": "TableDisplay",
        "types": [
         "string",
         "integer",
         "integer",
         "integer",
         "integer",
         "integer",
         "integer",
         "integer"
        ],
        "values": [
         [
          "a",
          "19685",
          "5131",
          "19464",
          "5066",
          "0",
          "0",
          "50654"
         ],
         [
          "b",
          "19852",
          "4970",
          "19546",
          "5096",
          "0",
          "0",
          "50536"
         ],
         [
          "Fisher",
          "26568",
          "4651",
          "26327",
          "4636",
          "370",
          "368",
          "37080"
         ],
         [
          "NP Comb",
          "27905",
          "5162",
          "27831",
          "5213",
          "0",
          "0",
          "33889"
         ],
         [
          "NP Comb Spline",
          "27671",
          "4967",
          "27521",
          "4941",
          "0",
          "0",
          "34900"
         ]
        ]
       }
      }
     },
     "4265fdb1716b42a883dd878f8941732a": {
      "model_module": "beakerx",
      "model_module_version": "*",
      "model_name": "TableDisplayModel",
      "state": {
       "layout": "IPY_MODEL_f953dc50ba07494e94db84d00760d1aa",
       "model": {
        "alignmentForColumn": {},
        "alignmentForType": {},
        "cellHighlighters": [],
        "columnNames": [
         null,
         "prec_at_k=10",
         "prec_at_k=25",
         "prec_at_k=50",
         "prec_at_k=100",
         "prec_at_k=200",
         "avg_prec"
        ],
        "columnOrder": [],
        "columnsFrozen": {},
        "columnsFrozenRight": {},
        "columnsVisible": {},
        "contextMenuItems": [],
        "contextMenuTags": {},
        "fontColor": [],
        "hasDoubleClickAction": false,
        "hasIndex": "true",
        "headersVertical": false,
        "rendererForColumn": {},
        "rendererForType": {},
        "stringFormatForColumn": {},
        "stringFormatForType": {},
        "subtype": "ListOfMaps",
        "tooManyRows": false,
        "tooltips": [],
        "type": "TableDisplay",
        "types": [
         "string",
         "double",
         "double",
         "double",
         "double",
         "double",
         "double"
        ],
        "values": [
         [
          "Positives lowest p_0",
          "1.0",
          "1.0",
          "0.98",
          "0.99",
          "0.985",
          "0.33313699273973746"
         ],
         [
          "Negatives lowest p_1",
          "1.0",
          "1.0",
          "1.0",
          "1.0",
          "1.0",
          "0.3333313096255492"
         ],
         [
          "Positives highest p_1",
          "1.0",
          "1.0",
          "0.98",
          "0.99",
          "0.99",
          "0.3333311581683906"
         ],
         [
          "Negatives highest p_0",
          "1.0",
          "1.0",
          "1.0",
          "1.0",
          "1.0",
          "0.33313854189983017"
         ]
        ]
       }
      }
     },
     "44a9fa7af5604b34beeffdde181d7205": {
      "model_module": "beakerx",
      "model_module_version": "*",
      "model_name": "TableDisplayModel",
      "state": {
       "layout": "IPY_MODEL_f41e623fb81e4043a36247e74028454e",
       "model": {
        "alignmentForColumn": {},
        "alignmentForType": {},
        "cellHighlighters": [],
        "columnNames": [
         null,
         "prec_at_k=10",
         "prec_at_k=25",
         "prec_at_k=50",
         "prec_at_k=100",
         "prec_at_k=200",
         "avg_prec"
        ],
        "columnOrder": [],
        "columnsFrozen": {},
        "columnsFrozenRight": {},
        "columnsVisible": {},
        "contextMenuItems": [],
        "contextMenuTags": {},
        "fontColor": [],
        "hasDoubleClickAction": false,
        "hasIndex": "true",
        "headersVertical": false,
        "rendererForColumn": {},
        "rendererForType": {},
        "stringFormatForColumn": {},
        "stringFormatForType": {},
        "subtype": "ListOfMaps",
        "tooManyRows": false,
        "tooltips": [],
        "type": "TableDisplay",
        "types": [
         "string",
         "double",
         "double",
         "double",
         "double",
         "double",
         "double"
        ],
        "values": [
         [
          "Positives lowest p_0",
          "1.0",
          "1.0",
          "0.98",
          "0.99",
          "0.99",
          "0.35413262604634116"
         ],
         [
          "Negatives lowest p_1",
          "1.0",
          "1.0",
          "0.98",
          "0.97",
          "0.97",
          "0.3541563122413709"
         ],
         [
          "Positives highest p_1",
          "1.0",
          "1.0",
          "0.98",
          "0.99",
          "0.99",
          "0.35413264768937935"
         ],
         [
          "Negatives highest p_0",
          "1.0",
          "1.0",
          "0.98",
          "0.97",
          "0.97",
          "0.3541565540551139"
         ]
        ]
       }
      }
     },
     "4616e90828a74a7e9e29d31be95c3d60": {
      "model_module": "beakerx",
      "model_module_version": "*",
      "model_name": "TableDisplayModel",
      "state": {
       "layout": "IPY_MODEL_1b9cfeb871e749478ec22cfdb4204fd5",
       "model": {
        "alignmentForColumn": {},
        "alignmentForType": {},
        "cellHighlighters": [],
        "columnNames": [
         "epsilon",
         "Active_predicted_Active",
         "Active_predicted_Inactive",
         "Inactive_predicted_Inactive",
         "Inactive_predicted_Active",
         "Empty_preds_Active",
         "Empty_preds_Inactive",
         "Uncertain_preds"
        ],
        "columnOrder": [],
        "columnsFrozen": {},
        "columnsFrozenRight": {},
        "columnsVisible": {},
        "contextMenuItems": [],
        "contextMenuTags": {},
        "fontColor": [],
        "hasDoubleClickAction": false,
        "hasIndex": "true",
        "headersVertical": false,
        "rendererForColumn": {},
        "rendererForType": {},
        "stringFormatForColumn": {},
        "stringFormatForType": {},
        "subtype": "ListOfMaps",
        "tooManyRows": false,
        "tooltips": [],
        "type": "TableDisplay",
        "types": [
         "double",
         "integer",
         "integer",
         "integer",
         "integer",
         "integer",
         "integer",
         "integer"
        ],
        "values": [
         [
          "0.01",
          "4537",
          "511",
          "4646",
          "470",
          "0",
          "0",
          "89836"
         ],
         [
          "0.05",
          "12998",
          "2591",
          "13059",
          "2455",
          "0",
          "0",
          "68897"
         ],
         [
          "0.1",
          "19685",
          "5131",
          "19464",
          "5066",
          "0",
          "0",
          "50654"
         ],
         [
          "0.15",
          "24307",
          "7487",
          "24171",
          "7579",
          "0",
          "0",
          "36456"
         ],
         [
          "0.2",
          "28303",
          "9906",
          "27958",
          "10105",
          "0",
          "0",
          "23728"
         ],
         [
          "0.25",
          "31581",
          "12504",
          "31222",
          "12590",
          "0",
          "0",
          "12103"
         ],
         [
          "0.5",
          "25033",
          "7973",
          "25042",
          "7985",
          "16994",
          "16973",
          "0"
         ],
         [
          "0.75",
          "12598",
          "2415",
          "12550",
          "2318",
          "34987",
          "35132",
          "0"
         ],
         [
          "0.8",
          "10077",
          "1715",
          "10008",
          "1648",
          "38208",
          "38344",
          "0"
         ],
         [
          "0.85",
          "7488",
          "1094",
          "7472",
          "1031",
          "41418",
          "41497",
          "0"
         ],
         [
          "0.9",
          "4985",
          "580",
          "4988",
          "548",
          "44435",
          "44464",
          "0"
         ],
         [
          "0.95",
          "2507",
          "220",
          "2519",
          "193",
          "47273",
          "47288",
          "0"
         ],
         [
          "0.99",
          "472",
          "26",
          "503",
          "17",
          "49502",
          "49480",
          "0"
         ]
        ]
       }
      }
     },
     "4742b7765ed14229bec8a8a30f7faad7": {
      "model_module": "@jupyter-widgets/base",
      "model_module_version": "*",
      "model_name": "LayoutModel",
      "state": {
       "_model_module_version": "*",
       "_view_module_version": "*"
      }
     },
     "4822dac781c3463d939a5a16f63ffbc9": {
      "model_module": "@jupyter-widgets/base",
      "model_module_version": "*",
      "model_name": "LayoutModel",
      "state": {
       "_model_module_version": "*",
       "_view_module_version": "*"
      }
     },
     "485e10f3a62f4dc183e8743945685b3f": {
      "model_module": "beakerx",
      "model_module_version": "*",
      "model_name": "TableDisplayModel",
      "state": {
       "layout": "IPY_MODEL_3c378d3f1b2042068bd17a58e88fff2b",
       "model": {
        "alignmentForColumn": {},
        "alignmentForType": {},
        "cellHighlighters": [],
        "columnNames": [
         0.1,
         "Active_predicted_Active",
         "Active_predicted_Inactive",
         "Inactive_predicted_Inactive",
         "Inactive_predicted_Active",
         "Empty_preds_Active",
         "Empty_preds_Inactive",
         "Uncertain_preds"
        ],
        "columnOrder": [],
        "columnsFrozen": {},
        "columnsFrozenRight": {},
        "columnsVisible": {},
        "contextMenuItems": [],
        "contextMenuTags": {},
        "fontColor": [],
        "hasDoubleClickAction": false,
        "hasIndex": "true",
        "headersVertical": false,
        "rendererForColumn": {},
        "rendererForType": {},
        "stringFormatForColumn": {},
        "stringFormatForType": {},
        "subtype": "ListOfMaps",
        "tooManyRows": false,
        "tooltips": [],
        "type": "TableDisplay",
        "types": [
         "string",
         "integer",
         "integer",
         "integer",
         "integer",
         "integer",
         "integer",
         "integer"
        ],
        "values": [
         [
          "a",
          "19685",
          "5131",
          "19464",
          "5066",
          "0",
          "0",
          "50654"
         ],
         [
          "b",
          "19852",
          "4970",
          "19546",
          "5096",
          "0",
          "0",
          "50536"
         ],
         [
          "Fisher",
          "26568",
          "4651",
          "26327",
          "4636",
          "370",
          "368",
          "37080"
         ],
         [
          "NP Comb",
          "27905",
          "5162",
          "27831",
          "5213",
          "0",
          "0",
          "33889"
         ],
         [
          "NP Comb Spline",
          "27671",
          "4967",
          "27521",
          "4941",
          "0",
          "0",
          "34900"
         ]
        ]
       }
      }
     },
     "4a38a9b41af64439bc523c7398424080": {
      "model_module": "@jupyter-widgets/base",
      "model_module_version": "*",
      "model_name": "LayoutModel",
      "state": {
       "_model_module_version": "*",
       "_view_module_version": "*"
      }
     },
     "4ad65ca97785482a8aacbca0e38019fa": {
      "model_module": "beakerx",
      "model_module_version": "*",
      "model_name": "TableDisplayModel",
      "state": {
       "layout": "IPY_MODEL_ec82bc21e34f4b07a28360f63ccbc529",
       "model": {
        "alignmentForColumn": {},
        "alignmentForType": {},
        "cellHighlighters": [],
        "columnNames": [
         null,
         "prec_at_k=10",
         "prec_at_k=25",
         "prec_at_k=50",
         "prec_at_k=100",
         "prec_at_k=200",
         "avg_prec"
        ],
        "columnOrder": [],
        "columnsFrozen": {},
        "columnsFrozenRight": {},
        "columnsVisible": {},
        "contextMenuItems": [],
        "contextMenuTags": {},
        "fontColor": [],
        "hasDoubleClickAction": false,
        "hasIndex": "true",
        "headersVertical": false,
        "rendererForColumn": {},
        "rendererForType": {},
        "stringFormatForColumn": {},
        "stringFormatForType": {},
        "subtype": "ListOfMaps",
        "tooManyRows": false,
        "tooltips": [],
        "type": "TableDisplay",
        "types": [
         "string",
         "double",
         "double",
         "double",
         "double",
         "double",
         "double"
        ],
        "values": [
         [
          "Positives lowest p_0",
          "1.0",
          "1.0",
          "0.98",
          "0.99",
          "0.99",
          "0.35413262604634116"
         ],
         [
          "Negatives lowest p_1",
          "1.0",
          "1.0",
          "0.98",
          "0.97",
          "0.97",
          "0.3541563122413709"
         ],
         [
          "Positives highest p_1",
          "1.0",
          "1.0",
          "0.98",
          "0.99",
          "0.99",
          "0.35413264768937935"
         ],
         [
          "Negatives highest p_0",
          "1.0",
          "1.0",
          "0.98",
          "0.97",
          "0.97",
          "0.3541565540551139"
         ]
        ]
       }
      }
     },
     "4e3f70cecb1c4d83a449cc343fc57116": {
      "model_module": "@jupyter-widgets/base",
      "model_module_version": "*",
      "model_name": "LayoutModel",
      "state": {
       "_model_module_version": "*",
       "_view_module_version": "*"
      }
     },
     "4fd21164890940be8aba1c7352730a84": {
      "model_module": "beakerx",
      "model_module_version": "*",
      "model_name": "TableDisplayModel",
      "state": {
       "layout": "IPY_MODEL_04609991fa544e8fb1d173e7ae520501",
       "model": {
        "alignmentForColumn": {},
        "alignmentForType": {},
        "cellHighlighters": [],
        "columnNames": [
         "$\\epsilon=0.01$",
         "Active_predicted_Active",
         "Active_predicted_Inactive",
         "Inactive_predicted_Inactive",
         "Inactive_predicted_Active",
         "Empty_preds_Active",
         "Empty_preds_Inactive",
         "Uncertain_preds"
        ],
        "columnOrder": [],
        "columnsFrozen": {},
        "columnsFrozenRight": {},
        "columnsVisible": {},
        "contextMenuItems": [],
        "contextMenuTags": {},
        "fontColor": [],
        "hasDoubleClickAction": false,
        "hasIndex": "true",
        "headersVertical": false,
        "rendererForColumn": {},
        "rendererForType": {},
        "stringFormatForColumn": {},
        "stringFormatForType": {},
        "subtype": "ListOfMaps",
        "tooManyRows": false,
        "tooltips": [],
        "type": "TableDisplay",
        "types": [
         "string",
         "integer",
         "integer",
         "integer",
         "integer",
         "integer",
         "integer",
         "integer"
        ],
        "values": [
         [
          "a",
          "4537",
          "511",
          "4646",
          "470",
          "0",
          "0",
          "89836"
         ],
         [
          "b",
          "4566",
          "481",
          "4594",
          "477",
          "0",
          "0",
          "89882"
         ],
         [
          "Fisher",
          "8399",
          "478",
          "8404",
          "490",
          "4",
          "3",
          "82222"
         ],
         [
          "NP Comb",
          "9512",
          "501",
          "9045",
          "544",
          "0",
          "0",
          "80398"
         ],
         [
          "NP Comb Spline",
          "8966",
          "485",
          "8720",
          "505",
          "0",
          "0",
          "81324"
         ]
        ]
       }
      }
     },
     "50fbd0dc39fe4fa083e5f223e8d8f090": {
      "model_module": "@jupyter-widgets/base",
      "model_module_version": "*",
      "model_name": "LayoutModel",
      "state": {
       "_model_module_version": "*",
       "_view_module_version": "*"
      }
     },
     "51e1fea18c464738be4061e09ed6e6d9": {
      "model_module": "beakerx",
      "model_module_version": "*",
      "model_name": "TableDisplayModel",
      "state": {
       "layout": "IPY_MODEL_4117eb660cbb4827990627b83eeb9e14",
       "model": {
        "alignmentForColumn": {},
        "alignmentForType": {},
        "cellHighlighters": [],
        "columnNames": [
         "epsilon",
         "Active_predicted_Active",
         "Active_predicted_Inactive",
         "Inactive_predicted_Inactive",
         "Inactive_predicted_Active",
         "Empty_preds_Active",
         "Empty_preds_Inactive",
         "Uncertain_preds"
        ],
        "columnOrder": [],
        "columnsFrozen": {},
        "columnsFrozenRight": {},
        "columnsVisible": {},
        "contextMenuItems": [],
        "contextMenuTags": {},
        "fontColor": [],
        "hasDoubleClickAction": false,
        "hasIndex": "true",
        "headersVertical": false,
        "rendererForColumn": {},
        "rendererForType": {},
        "stringFormatForColumn": {},
        "stringFormatForType": {},
        "subtype": "ListOfMaps",
        "tooManyRows": false,
        "tooltips": [],
        "type": "TableDisplay",
        "types": [
         "double",
         "integer",
         "integer",
         "integer",
         "integer",
         "integer",
         "integer",
         "integer"
        ],
        "values": [
         [
          "0.01",
          "4566",
          "481",
          "4594",
          "477",
          "0",
          "0",
          "89882"
         ],
         [
          "0.05",
          "13228",
          "2524",
          "13162",
          "2508",
          "0",
          "0",
          "68578"
         ],
         [
          "0.1",
          "19852",
          "4970",
          "19546",
          "5096",
          "0",
          "0",
          "50536"
         ],
         [
          "0.15",
          "24566",
          "7380",
          "24156",
          "7607",
          "0",
          "0",
          "36291"
         ],
         [
          "0.2",
          "28391",
          "9757",
          "28118",
          "10011",
          "0",
          "0",
          "23723"
         ],
         [
          "0.25",
          "31638",
          "12209",
          "31345",
          "12512",
          "0",
          "0",
          "12296"
         ],
         [
          "0.5",
          "25322",
          "7932",
          "25091",
          "8069",
          "16746",
          "16840",
          "0"
         ],
         [
          "0.75",
          "12897",
          "2322",
          "12553",
          "2399",
          "34781",
          "35048",
          "0"
         ],
         [
          "0.8",
          "10284",
          "1622",
          "10112",
          "1667",
          "38094",
          "38221",
          "0"
         ],
         [
          "0.85",
          "7704",
          "1007",
          "7555",
          "1060",
          "41289",
          "41385",
          "0"
         ],
         [
          "0.9",
          "5104",
          "540",
          "4962",
          "570",
          "44356",
          "44468",
          "0"
         ],
         [
          "0.95",
          "2566",
          "191",
          "2560",
          "211",
          "47243",
          "47229",
          "0"
         ],
         [
          "0.99",
          "504",
          "14",
          "554",
          "19",
          "49482",
          "49427",
          "0"
         ]
        ]
       }
      }
     },
     "53918eef1cfc47cf841e9b005222935e": {
      "model_module": "@jupyter-widgets/base",
      "model_module_version": "*",
      "model_name": "LayoutModel",
      "state": {
       "_model_module_version": "*",
       "_view_module_version": "*"
      }
     },
     "53e1d915380f462d93972e26cb9c09bf": {
      "model_module": "@jupyter-widgets/base",
      "model_module_version": "*",
      "model_name": "LayoutModel",
      "state": {
       "_model_module_version": "*",
       "_view_module_version": "*"
      }
     },
     "54736341ba7645da98bc7a4b9d90929d": {
      "model_module": "@jupyter-widgets/base",
      "model_module_version": "*",
      "model_name": "LayoutModel",
      "state": {
       "_model_module_version": "*",
       "_view_module_version": "*"
      }
     },
     "54aae1b472374c8c968321437c632340": {
      "model_module": "@jupyter-widgets/base",
      "model_module_version": "*",
      "model_name": "LayoutModel",
      "state": {
       "_model_module_version": "*",
       "_view_module_version": "*"
      }
     },
     "54ec92ebf00747fa85d4e03a8c06833c": {
      "model_module": "beakerx",
      "model_module_version": "*",
      "model_name": "TableDisplayModel",
      "state": {
       "layout": "IPY_MODEL_0600d978b03844a0a98f74d6f638d47a",
       "model": {
        "alignmentForColumn": {},
        "alignmentForType": {},
        "cellHighlighters": [],
        "columnNames": [
         "p-values, epsilon",
         "Active_predicted_Active",
         "Active_predicted_Inactive",
         "Inactive_predicted_Inactive",
         "Inactive_predicted_Active",
         "Empty_preds_Active",
         "Empty_preds_Inactive",
         "Uncertain_preds"
        ],
        "columnOrder": [],
        "columnsFrozen": {},
        "columnsFrozenRight": {},
        "columnsVisible": {},
        "contextMenuItems": [],
        "contextMenuTags": {},
        "fontColor": [],
        "hasDoubleClickAction": false,
        "hasIndex": "true",
        "headersVertical": false,
        "rendererForColumn": {},
        "rendererForType": {},
        "stringFormatForColumn": {},
        "stringFormatForType": {},
        "subtype": "ListOfMaps",
        "tooManyRows": false,
        "tooltips": [],
        "type": "TableDisplay",
        "types": [
         "string",
         "integer",
         "integer",
         "integer",
         "integer",
         "integer",
         "integer",
         "integer"
        ],
        "values": [
         [
          "('a', 0.05)",
          "12998",
          "2591",
          "13059",
          "2455",
          "0",
          "0",
          "68897"
         ],
         [
          "('b', 0.05)",
          "13228",
          "2524",
          "13162",
          "2508",
          "0",
          "0",
          "68578"
         ],
         [
          "('Fisher', 0.05)",
          "19522",
          "2409",
          "19399",
          "2352",
          "82",
          "82",
          "56154"
         ],
         [
          "('NP Comb', 0.05)",
          "20722",
          "2627",
          "20781",
          "2607",
          "0",
          "0",
          "53263"
         ],
         [
          "('NP Comb Spline', 0.05)",
          "20199",
          "2470",
          "20153",
          "2515",
          "0",
          "0",
          "54663"
         ]
        ]
       }
      }
     },
     "5692c17b07004c088f64a307c65dd29d": {
      "model_module": "beakerx",
      "model_module_version": "*",
      "model_name": "TableDisplayModel",
      "state": {
       "layout": "IPY_MODEL_4a38a9b41af64439bc523c7398424080",
       "model": {
        "alignmentForColumn": {},
        "alignmentForType": {},
        "cellHighlighters": [],
        "columnNames": [
         "p-values, epsilon",
         "Active_predicted_Active",
         "Active_predicted_Inactive",
         "Inactive_predicted_Inactive",
         "Inactive_predicted_Active",
         "Empty_preds_Active",
         "Empty_preds_Inactive",
         "Uncertain_preds"
        ],
        "columnOrder": [],
        "columnsFrozen": {},
        "columnsFrozenRight": {},
        "columnsVisible": {},
        "contextMenuItems": [],
        "contextMenuTags": {},
        "fontColor": [],
        "hasDoubleClickAction": false,
        "hasIndex": "true",
        "headersVertical": false,
        "rendererForColumn": {},
        "rendererForType": {},
        "stringFormatForColumn": {},
        "stringFormatForType": {},
        "subtype": "ListOfMaps",
        "tooManyRows": false,
        "tooltips": [],
        "type": "TableDisplay",
        "types": [
         "string",
         "integer",
         "integer",
         "integer",
         "integer",
         "integer",
         "integer",
         "integer"
        ],
        "values": [
         [
          "('a', 0.01)",
          "4537",
          "511",
          "4646",
          "470",
          "0",
          "0",
          "89836"
         ],
         [
          "('b', 0.01)",
          "4566",
          "481",
          "4594",
          "477",
          "0",
          "0",
          "89882"
         ],
         [
          "('Fisher', 0.01)",
          "8399",
          "478",
          "8404",
          "490",
          "4",
          "3",
          "82222"
         ],
         [
          "('NP Comb', 0.01)",
          "9512",
          "501",
          "9045",
          "544",
          "0",
          "0",
          "80398"
         ],
         [
          "('NP Comb Spline', 0.01)",
          "8966",
          "485",
          "8720",
          "505",
          "0",
          "0",
          "81324"
         ]
        ]
       }
      }
     },
     "56eb67bcc10045af9939dd9e4b2e8ebf": {
      "model_module": "beakerx",
      "model_module_version": "*",
      "model_name": "TableDisplayModel",
      "state": {
       "layout": "IPY_MODEL_cf8671ae8ebc4ca19d84c93bf46de75b",
       "model": {
        "alignmentForColumn": {},
        "alignmentForType": {},
        "cellHighlighters": [],
        "columnNames": [
         "epsilon",
         "Active_predicted_Active",
         "Active_predicted_Inactive",
         "Inactive_predicted_Inactive",
         "Inactive_predicted_Active",
         "Empty_preds_Active",
         "Empty_preds_Inactive",
         "Uncertain_preds"
        ],
        "columnOrder": [],
        "columnsFrozen": {},
        "columnsFrozenRight": {},
        "columnsVisible": {},
        "contextMenuItems": [],
        "contextMenuTags": {},
        "fontColor": [],
        "hasDoubleClickAction": false,
        "hasIndex": "true",
        "headersVertical": false,
        "rendererForColumn": {},
        "rendererForType": {},
        "stringFormatForColumn": {},
        "stringFormatForType": {},
        "subtype": "ListOfMaps",
        "tooManyRows": false,
        "tooltips": [],
        "type": "TableDisplay",
        "types": [
         "double",
         "integer",
         "integer",
         "integer",
         "integer",
         "integer",
         "integer",
         "integer"
        ],
        "values": [
         [
          "0.01",
          "4537",
          "511",
          "4646",
          "470",
          "0",
          "0",
          "89836"
         ],
         [
          "0.05",
          "12998",
          "2591",
          "13059",
          "2455",
          "0",
          "0",
          "68897"
         ],
         [
          "0.1",
          "19685",
          "5131",
          "19464",
          "5066",
          "0",
          "0",
          "50654"
         ],
         [
          "0.15",
          "24307",
          "7487",
          "24171",
          "7579",
          "0",
          "0",
          "36456"
         ],
         [
          "0.2",
          "28303",
          "9906",
          "27958",
          "10105",
          "0",
          "0",
          "23728"
         ],
         [
          "0.25",
          "31581",
          "12504",
          "31222",
          "12590",
          "0",
          "0",
          "12103"
         ],
         [
          "0.5",
          "25033",
          "7973",
          "25042",
          "7985",
          "16994",
          "16973",
          "0"
         ],
         [
          "0.75",
          "12598",
          "2415",
          "12550",
          "2318",
          "34987",
          "35132",
          "0"
         ],
         [
          "0.8",
          "10077",
          "1715",
          "10008",
          "1648",
          "38208",
          "38344",
          "0"
         ],
         [
          "0.85",
          "7488",
          "1094",
          "7472",
          "1031",
          "41418",
          "41497",
          "0"
         ],
         [
          "0.9",
          "4985",
          "580",
          "4988",
          "548",
          "44435",
          "44464",
          "0"
         ],
         [
          "0.95",
          "2507",
          "220",
          "2519",
          "193",
          "47273",
          "47288",
          "0"
         ],
         [
          "0.99",
          "472",
          "26",
          "503",
          "17",
          "49502",
          "49480",
          "0"
         ],
         [
          "0.01",
          "4566",
          "481",
          "4594",
          "477",
          "0",
          "0",
          "89882"
         ],
         [
          "0.05",
          "13228",
          "2524",
          "13162",
          "2508",
          "0",
          "0",
          "68578"
         ],
         [
          "0.1",
          "19852",
          "4970",
          "19546",
          "5096",
          "0",
          "0",
          "50536"
         ],
         [
          "0.15",
          "24566",
          "7380",
          "24156",
          "7607",
          "0",
          "0",
          "36291"
         ],
         [
          "0.2",
          "28391",
          "9757",
          "28118",
          "10011",
          "0",
          "0",
          "23723"
         ],
         [
          "0.25",
          "31638",
          "12209",
          "31345",
          "12512",
          "0",
          "0",
          "12296"
         ],
         [
          "0.5",
          "25322",
          "7932",
          "25091",
          "8069",
          "16746",
          "16840",
          "0"
         ],
         [
          "0.75",
          "12897",
          "2322",
          "12553",
          "2399",
          "34781",
          "35048",
          "0"
         ],
         [
          "0.8",
          "10284",
          "1622",
          "10112",
          "1667",
          "38094",
          "38221",
          "0"
         ],
         [
          "0.85",
          "7704",
          "1007",
          "7555",
          "1060",
          "41289",
          "41385",
          "0"
         ],
         [
          "0.9",
          "5104",
          "540",
          "4962",
          "570",
          "44356",
          "44468",
          "0"
         ],
         [
          "0.95",
          "2566",
          "191",
          "2560",
          "211",
          "47243",
          "47229",
          "0"
         ],
         [
          "0.99",
          "504",
          "14",
          "554",
          "19",
          "49482",
          "49427",
          "0"
         ],
         [
          "0.01",
          "8399",
          "478",
          "8404",
          "490",
          "4",
          "3",
          "82222"
         ],
         [
          "0.05",
          "19522",
          "2409",
          "19399",
          "2352",
          "82",
          "82",
          "56154"
         ],
         [
          "0.1",
          "26568",
          "4651",
          "26327",
          "4636",
          "370",
          "368",
          "37080"
         ],
         [
          "0.15",
          "30736",
          "6565",
          "30491",
          "6601",
          "918",
          "921",
          "23768"
         ],
         [
          "0.2",
          "33390",
          "8111",
          "33088",
          "8210",
          "1807",
          "1868",
          "13526"
         ],
         [
          "0.25",
          "34654",
          "9118",
          "34471",
          "9295",
          "3265",
          "3263",
          "5934"
         ],
         [
          "0.5",
          "25163",
          "4215",
          "24903",
          "4299",
          "20622",
          "20798",
          "0"
         ],
         [
          "0.75",
          "12633",
          "1025",
          "12529",
          "1027",
          "36342",
          "36444",
          "0"
         ],
         [
          "0.8",
          "10204",
          "676",
          "9952",
          "673",
          "39120",
          "39375",
          "0"
         ],
         [
          "0.85",
          "7704",
          "390",
          "7503",
          "416",
          "41906",
          "42081",
          "0"
         ],
         [
          "0.9",
          "5173",
          "185",
          "4976",
          "211",
          "44642",
          "44813",
          "0"
         ],
         [
          "0.95",
          "2603",
          "62",
          "2565",
          "63",
          "47335",
          "47372",
          "0"
         ],
         [
          "0.99",
          "498",
          "1",
          "491",
          "8",
          "49501",
          "49501",
          "0"
         ],
         [
          "0.01",
          "9512",
          "501",
          "9045",
          "544",
          "0",
          "0",
          "80398"
         ],
         [
          "0.05",
          "20722",
          "2627",
          "20781",
          "2607",
          "0",
          "0",
          "53263"
         ],
         [
          "0.1",
          "27905",
          "5162",
          "27831",
          "5213",
          "0",
          "0",
          "33889"
         ],
         [
          "0.15",
          "32629",
          "7596",
          "32348",
          "7799",
          "0",
          "1",
          "19627"
         ],
         [
          "0.2",
          "35944",
          "10058",
          "35674",
          "10262",
          "48",
          "42",
          "7972"
         ],
         [
          "0.25",
          "36872",
          "10905",
          "36621",
          "11215",
          "1833",
          "1779",
          "775"
         ],
         [
          "0.5",
          "24784",
          "3905",
          "24505",
          "3958",
          "21311",
          "21537",
          "0"
         ],
         [
          "0.75",
          "12258",
          "915",
          "11967",
          "947",
          "36827",
          "37086",
          "0"
         ],
         [
          "0.8",
          "9782",
          "593",
          "9547",
          "662",
          "39625",
          "39791",
          "0"
         ],
         [
          "0.85",
          "7368",
          "374",
          "7179",
          "410",
          "42258",
          "42411",
          "0"
         ],
         [
          "0.9",
          "4899",
          "213",
          "4848",
          "228",
          "44888",
          "44924",
          "0"
         ],
         [
          "0.95",
          "2415",
          "88",
          "2433",
          "85",
          "47497",
          "47482",
          "0"
         ],
         [
          "0.99",
          "508",
          "26",
          "489",
          "27",
          "49466",
          "49484",
          "0"
         ],
         [
          "0.01",
          "8966",
          "485",
          "8720",
          "505",
          "0",
          "0",
          "81324"
         ],
         [
          "0.05",
          "20199",
          "2470",
          "20153",
          "2515",
          "0",
          "0",
          "54663"
         ],
         [
          "0.1",
          "27671",
          "4967",
          "27521",
          "4941",
          "0",
          "0",
          "34900"
         ],
         [
          "0.15",
          "32542",
          "7363",
          "32267",
          "7522",
          "0",
          "0",
          "20306"
         ],
         [
          "0.2",
          "35954",
          "9822",
          "35761",
          "10008",
          "0",
          "0",
          "8455"
         ],
         [
          "0.25",
          "37497",
          "11133",
          "37206",
          "11366",
          "1150",
          "1193",
          "455"
         ],
         [
          "0.5",
          "25169",
          "3950",
          "24989",
          "3966",
          "20881",
          "21045",
          "0"
         ],
         [
          "0.75",
          "12529",
          "911",
          "12220",
          "939",
          "36560",
          "36841",
          "0"
         ],
         [
          "0.8",
          "10024",
          "572",
          "9771",
          "593",
          "39404",
          "39636",
          "0"
         ],
         [
          "0.85",
          "7443",
          "346",
          "7405",
          "364",
          "42211",
          "42231",
          "0"
         ],
         [
          "0.9",
          "4981",
          "173",
          "5025",
          "193",
          "44846",
          "44782",
          "0"
         ],
         [
          "0.95",
          "2604",
          "58",
          "2577",
          "66",
          "47338",
          "47357",
          "0"
         ],
         [
          "0.99",
          "508",
          "1",
          "478",
          "8",
          "49491",
          "49514",
          "0"
         ]
        ]
       }
      }
     },
     "5ad7615b136e49268ca5f1b89d904ce5": {
      "model_module": "@jupyter-widgets/base",
      "model_module_version": "*",
      "model_name": "LayoutModel",
      "state": {
       "_model_module_version": "*",
       "_view_module_version": "*"
      }
     },
     "5db5aabd54844f0e8b6822dc05c5ba0c": {
      "model_module": "beakerx",
      "model_module_version": "*",
      "model_name": "TableDisplayModel",
      "state": {
       "layout": "IPY_MODEL_2f6d756e0599488a88d7e36233b76dea",
       "model": {
        "alignmentForColumn": {},
        "alignmentForType": {},
        "cellHighlighters": [],
        "columnNames": [
         "p-values, epsilon",
         "Active_predicted_Active",
         "Active_predicted_Inactive",
         "Inactive_predicted_Inactive",
         "Inactive_predicted_Active",
         "Empty_preds_Active",
         "Empty_preds_Inactive",
         "Uncertain_preds"
        ],
        "columnOrder": [],
        "columnsFrozen": {},
        "columnsFrozenRight": {},
        "columnsVisible": {},
        "contextMenuItems": [],
        "contextMenuTags": {},
        "fontColor": [],
        "hasDoubleClickAction": false,
        "hasIndex": "true",
        "headersVertical": false,
        "rendererForColumn": {},
        "rendererForType": {},
        "stringFormatForColumn": {},
        "stringFormatForType": {},
        "subtype": "ListOfMaps",
        "tooManyRows": false,
        "tooltips": [],
        "type": "TableDisplay",
        "types": [
         "string",
         "integer",
         "integer",
         "integer",
         "integer",
         "integer",
         "integer",
         "integer"
        ],
        "values": [
         [
          "('a', 0.01)",
          "4537",
          "511",
          "4646",
          "470",
          "0",
          "0",
          "89836"
         ],
         [
          "('a', 0.05)",
          "12998",
          "2591",
          "13059",
          "2455",
          "0",
          "0",
          "68897"
         ],
         [
          "('a', 0.1)",
          "19685",
          "5131",
          "19464",
          "5066",
          "0",
          "0",
          "50654"
         ],
         [
          "('a', 0.15)",
          "24307",
          "7487",
          "24171",
          "7579",
          "0",
          "0",
          "36456"
         ],
         [
          "('a', 0.2)",
          "28303",
          "9906",
          "27958",
          "10105",
          "0",
          "0",
          "23728"
         ],
         [
          "('a', 0.25)",
          "31581",
          "12504",
          "31222",
          "12590",
          "0",
          "0",
          "12103"
         ],
         [
          "('a', 0.5)",
          "25033",
          "7973",
          "25042",
          "7985",
          "16994",
          "16973",
          "0"
         ],
         [
          "('a', 0.75)",
          "12598",
          "2415",
          "12550",
          "2318",
          "34987",
          "35132",
          "0"
         ],
         [
          "('a', 0.8)",
          "10077",
          "1715",
          "10008",
          "1648",
          "38208",
          "38344",
          "0"
         ],
         [
          "('a', 0.85)",
          "7488",
          "1094",
          "7472",
          "1031",
          "41418",
          "41497",
          "0"
         ],
         [
          "('a', 0.9)",
          "4985",
          "580",
          "4988",
          "548",
          "44435",
          "44464",
          "0"
         ],
         [
          "('a', 0.95)",
          "2507",
          "220",
          "2519",
          "193",
          "47273",
          "47288",
          "0"
         ],
         [
          "('a', 0.99)",
          "472",
          "26",
          "503",
          "17",
          "49502",
          "49480",
          "0"
         ],
         [
          "('b', 0.01)",
          "4566",
          "481",
          "4594",
          "477",
          "0",
          "0",
          "89882"
         ],
         [
          "('b', 0.05)",
          "13228",
          "2524",
          "13162",
          "2508",
          "0",
          "0",
          "68578"
         ],
         [
          "('b', 0.1)",
          "19852",
          "4970",
          "19546",
          "5096",
          "0",
          "0",
          "50536"
         ],
         [
          "('b', 0.15)",
          "24566",
          "7380",
          "24156",
          "7607",
          "0",
          "0",
          "36291"
         ],
         [
          "('b', 0.2)",
          "28391",
          "9757",
          "28118",
          "10011",
          "0",
          "0",
          "23723"
         ],
         [
          "('b', 0.25)",
          "31638",
          "12209",
          "31345",
          "12512",
          "0",
          "0",
          "12296"
         ],
         [
          "('b', 0.5)",
          "25322",
          "7932",
          "25091",
          "8069",
          "16746",
          "16840",
          "0"
         ],
         [
          "('b', 0.75)",
          "12897",
          "2322",
          "12553",
          "2399",
          "34781",
          "35048",
          "0"
         ],
         [
          "('b', 0.8)",
          "10284",
          "1622",
          "10112",
          "1667",
          "38094",
          "38221",
          "0"
         ],
         [
          "('b', 0.85)",
          "7704",
          "1007",
          "7555",
          "1060",
          "41289",
          "41385",
          "0"
         ],
         [
          "('b', 0.9)",
          "5104",
          "540",
          "4962",
          "570",
          "44356",
          "44468",
          "0"
         ],
         [
          "('b', 0.95)",
          "2566",
          "191",
          "2560",
          "211",
          "47243",
          "47229",
          "0"
         ],
         [
          "('b', 0.99)",
          "504",
          "14",
          "554",
          "19",
          "49482",
          "49427",
          "0"
         ],
         [
          "('Fisher', 0.01)",
          "8399",
          "478",
          "8404",
          "490",
          "4",
          "3",
          "82222"
         ],
         [
          "('Fisher', 0.05)",
          "19522",
          "2409",
          "19399",
          "2352",
          "82",
          "82",
          "56154"
         ],
         [
          "('Fisher', 0.1)",
          "26568",
          "4651",
          "26327",
          "4636",
          "370",
          "368",
          "37080"
         ],
         [
          "('Fisher', 0.15)",
          "30736",
          "6565",
          "30491",
          "6601",
          "918",
          "921",
          "23768"
         ],
         [
          "('Fisher', 0.2)",
          "33390",
          "8111",
          "33088",
          "8210",
          "1807",
          "1868",
          "13526"
         ],
         [
          "('Fisher', 0.25)",
          "34654",
          "9118",
          "34471",
          "9295",
          "3265",
          "3263",
          "5934"
         ],
         [
          "('Fisher', 0.5)",
          "25163",
          "4215",
          "24903",
          "4299",
          "20622",
          "20798",
          "0"
         ],
         [
          "('Fisher', 0.75)",
          "12633",
          "1025",
          "12529",
          "1027",
          "36342",
          "36444",
          "0"
         ],
         [
          "('Fisher', 0.8)",
          "10204",
          "676",
          "9952",
          "673",
          "39120",
          "39375",
          "0"
         ],
         [
          "('Fisher', 0.85)",
          "7704",
          "390",
          "7503",
          "416",
          "41906",
          "42081",
          "0"
         ],
         [
          "('Fisher', 0.9)",
          "5173",
          "185",
          "4976",
          "211",
          "44642",
          "44813",
          "0"
         ],
         [
          "('Fisher', 0.95)",
          "2603",
          "62",
          "2565",
          "63",
          "47335",
          "47372",
          "0"
         ],
         [
          "('Fisher', 0.99)",
          "498",
          "1",
          "491",
          "8",
          "49501",
          "49501",
          "0"
         ],
         [
          "('NP Comb', 0.01)",
          "9512",
          "501",
          "9045",
          "544",
          "0",
          "0",
          "80398"
         ],
         [
          "('NP Comb', 0.05)",
          "20722",
          "2627",
          "20781",
          "2607",
          "0",
          "0",
          "53263"
         ],
         [
          "('NP Comb', 0.1)",
          "27905",
          "5162",
          "27831",
          "5213",
          "0",
          "0",
          "33889"
         ],
         [
          "('NP Comb', 0.15)",
          "32629",
          "7596",
          "32348",
          "7799",
          "0",
          "1",
          "19627"
         ],
         [
          "('NP Comb', 0.2)",
          "35944",
          "10058",
          "35674",
          "10262",
          "48",
          "42",
          "7972"
         ],
         [
          "('NP Comb', 0.25)",
          "36872",
          "10905",
          "36621",
          "11215",
          "1833",
          "1779",
          "775"
         ],
         [
          "('NP Comb', 0.5)",
          "24784",
          "3905",
          "24505",
          "3958",
          "21311",
          "21537",
          "0"
         ],
         [
          "('NP Comb', 0.75)",
          "12258",
          "915",
          "11967",
          "947",
          "36827",
          "37086",
          "0"
         ],
         [
          "('NP Comb', 0.8)",
          "9782",
          "593",
          "9547",
          "662",
          "39625",
          "39791",
          "0"
         ],
         [
          "('NP Comb', 0.85)",
          "7368",
          "374",
          "7179",
          "410",
          "42258",
          "42411",
          "0"
         ],
         [
          "('NP Comb', 0.9)",
          "4899",
          "213",
          "4848",
          "228",
          "44888",
          "44924",
          "0"
         ],
         [
          "('NP Comb', 0.95)",
          "2415",
          "88",
          "2433",
          "85",
          "47497",
          "47482",
          "0"
         ],
         [
          "('NP Comb', 0.99)",
          "508",
          "26",
          "489",
          "27",
          "49466",
          "49484",
          "0"
         ],
         [
          "('NP Comb Spline', 0.01)",
          "8966",
          "485",
          "8720",
          "505",
          "0",
          "0",
          "81324"
         ],
         [
          "('NP Comb Spline', 0.05)",
          "20199",
          "2470",
          "20153",
          "2515",
          "0",
          "0",
          "54663"
         ],
         [
          "('NP Comb Spline', 0.1)",
          "27671",
          "4967",
          "27521",
          "4941",
          "0",
          "0",
          "34900"
         ],
         [
          "('NP Comb Spline', 0.15)",
          "32542",
          "7363",
          "32267",
          "7522",
          "0",
          "0",
          "20306"
         ],
         [
          "('NP Comb Spline', 0.2)",
          "35954",
          "9822",
          "35761",
          "10008",
          "0",
          "0",
          "8455"
         ],
         [
          "('NP Comb Spline', 0.25)",
          "37497",
          "11133",
          "37206",
          "11366",
          "1150",
          "1193",
          "455"
         ],
         [
          "('NP Comb Spline', 0.5)",
          "25169",
          "3950",
          "24989",
          "3966",
          "20881",
          "21045",
          "0"
         ],
         [
          "('NP Comb Spline', 0.75)",
          "12529",
          "911",
          "12220",
          "939",
          "36560",
          "36841",
          "0"
         ],
         [
          "('NP Comb Spline', 0.8)",
          "10024",
          "572",
          "9771",
          "593",
          "39404",
          "39636",
          "0"
         ],
         [
          "('NP Comb Spline', 0.85)",
          "7443",
          "346",
          "7405",
          "364",
          "42211",
          "42231",
          "0"
         ],
         [
          "('NP Comb Spline', 0.9)",
          "4981",
          "173",
          "5025",
          "193",
          "44846",
          "44782",
          "0"
         ],
         [
          "('NP Comb Spline', 0.95)",
          "2604",
          "58",
          "2577",
          "66",
          "47338",
          "47357",
          "0"
         ],
         [
          "('NP Comb Spline', 0.99)",
          "508",
          "1",
          "478",
          "8",
          "49491",
          "49514",
          "0"
         ]
        ]
       }
      }
     },
     "5ffa6355f98f4db68bd271be0dc8d205": {
      "model_module": "@jupyter-widgets/base",
      "model_module_version": "*",
      "model_name": "LayoutModel",
      "state": {
       "_model_module_version": "*",
       "_view_module_version": "*"
      }
     },
     "6241ea60fb9541be905b527c3ac54717": {
      "model_module": "beakerx",
      "model_module_version": "*",
      "model_name": "TableDisplayModel",
      "state": {
       "layout": "IPY_MODEL_1d005d2b7411476b936897ca7bf1e6b3",
       "model": {
        "alignmentForColumn": {},
        "alignmentForType": {},
        "cellHighlighters": [],
        "columnNames": [
         null,
         "prec_at_k=10",
         "prec_at_k=25",
         "prec_at_k=50",
         "prec_at_k=100",
         "prec_at_k=200",
         "avg_prec"
        ],
        "columnOrder": [],
        "columnsFrozen": {},
        "columnsFrozenRight": {},
        "columnsVisible": {},
        "contextMenuItems": [],
        "contextMenuTags": {},
        "fontColor": [],
        "hasDoubleClickAction": false,
        "hasIndex": "true",
        "headersVertical": false,
        "rendererForColumn": {},
        "rendererForType": {},
        "stringFormatForColumn": {},
        "stringFormatForType": {},
        "subtype": "ListOfMaps",
        "tooManyRows": false,
        "tooltips": [],
        "type": "TableDisplay",
        "types": [
         "string",
         "double",
         "double",
         "double",
         "double",
         "double",
         "double"
        ],
        "values": [
         [
          "Positives lowest p_0",
          "1.0",
          "1.0",
          "1.0",
          "1.0",
          "1.0",
          "0.3087733405144745"
         ],
         [
          "Negatives lowest p_1",
          "1.0",
          "1.0",
          "1.0",
          "1.0",
          "1.0",
          "0.3087504951195102"
         ],
         [
          "Positives highest p_1",
          "1.0",
          "1.0",
          "1.0",
          "1.0",
          "1.0",
          "0.30879708482542284"
         ],
         [
          "Negatives highest p_0",
          "1.0",
          "1.0",
          "1.0",
          "1.0",
          "1.0",
          "0.3087729436299328"
         ]
        ]
       }
      }
     },
     "637b230eba7e4186b880965a7d4dfee5": {
      "model_module": "@jupyter-widgets/base",
      "model_module_version": "*",
      "model_name": "LayoutModel",
      "state": {
       "_model_module_version": "*",
       "_view_module_version": "*"
      }
     },
     "6447c251bae14d4a99c0e188d0859f92": {
      "model_module": "@jupyter-widgets/base",
      "model_module_version": "*",
      "model_name": "LayoutModel",
      "state": {
       "_model_module_version": "*",
       "_view_module_version": "*"
      }
     },
     "6522154ff5bf44a2ba0fef1eaa2f40df": {
      "model_module": "@jupyter-widgets/base",
      "model_module_version": "*",
      "model_name": "LayoutModel",
      "state": {
       "_model_module_version": "*",
       "_view_module_version": "*"
      }
     },
     "66cb3176cc1a42a88420d437c34a2c55": {
      "model_module": "@jupyter-widgets/base",
      "model_module_version": "*",
      "model_name": "LayoutModel",
      "state": {
       "_model_module_version": "*",
       "_view_module_version": "*"
      }
     },
     "6ae7098fc4504e109dc6f49bcd4a48de": {
      "model_module": "beakerx",
      "model_module_version": "*",
      "model_name": "TableDisplayModel",
      "state": {
       "layout": "IPY_MODEL_53918eef1cfc47cf841e9b005222935e",
       "model": {
        "alignmentForColumn": {},
        "alignmentForType": {},
        "cellHighlighters": [],
        "columnNames": [
         "epsilon",
         "Active_predicted_Active",
         "Active_predicted_Inactive",
         "Inactive_predicted_Inactive",
         "Inactive_predicted_Active",
         "Empty_preds_Active",
         "Empty_preds_Inactive",
         "Uncertain_preds"
        ],
        "columnOrder": [],
        "columnsFrozen": {},
        "columnsFrozenRight": {},
        "columnsVisible": {},
        "contextMenuItems": [],
        "contextMenuTags": {},
        "fontColor": [],
        "hasDoubleClickAction": false,
        "hasIndex": "true",
        "headersVertical": false,
        "rendererForColumn": {},
        "rendererForType": {},
        "stringFormatForColumn": {},
        "stringFormatForType": {},
        "subtype": "ListOfMaps",
        "tooManyRows": false,
        "tooltips": [],
        "type": "TableDisplay",
        "types": [
         "double",
         "integer",
         "integer",
         "integer",
         "integer",
         "integer",
         "integer",
         "integer"
        ],
        "values": [
         [
          "0.01",
          "9512",
          "501",
          "9045",
          "544",
          "0",
          "0",
          "80398"
         ],
         [
          "0.05",
          "20722",
          "2627",
          "20781",
          "2607",
          "0",
          "0",
          "53263"
         ],
         [
          "0.1",
          "27905",
          "5162",
          "27831",
          "5213",
          "0",
          "0",
          "33889"
         ],
         [
          "0.15",
          "32629",
          "7596",
          "32348",
          "7799",
          "0",
          "1",
          "19627"
         ],
         [
          "0.2",
          "35944",
          "10058",
          "35674",
          "10262",
          "48",
          "42",
          "7972"
         ],
         [
          "0.25",
          "36872",
          "10905",
          "36621",
          "11215",
          "1833",
          "1779",
          "775"
         ],
         [
          "0.5",
          "24784",
          "3905",
          "24505",
          "3958",
          "21311",
          "21537",
          "0"
         ],
         [
          "0.75",
          "12258",
          "915",
          "11967",
          "947",
          "36827",
          "37086",
          "0"
         ],
         [
          "0.8",
          "9782",
          "593",
          "9547",
          "662",
          "39625",
          "39791",
          "0"
         ],
         [
          "0.85",
          "7368",
          "374",
          "7179",
          "410",
          "42258",
          "42411",
          "0"
         ],
         [
          "0.9",
          "4899",
          "213",
          "4848",
          "228",
          "44888",
          "44924",
          "0"
         ],
         [
          "0.95",
          "2415",
          "88",
          "2433",
          "85",
          "47497",
          "47482",
          "0"
         ],
         [
          "0.99",
          "508",
          "26",
          "489",
          "27",
          "49466",
          "49484",
          "0"
         ]
        ]
       }
      }
     },
     "6fa2ae84c8de42c5a2e45307fa266c4b": {
      "model_module": "beakerx",
      "model_module_version": "*",
      "model_name": "TableDisplayModel",
      "state": {
       "layout": "IPY_MODEL_3f619d9a1d844958a6103ff882d72d5f",
       "model": {
        "alignmentForColumn": {},
        "alignmentForType": {},
        "cellHighlighters": [],
        "columnNames": [
         null,
         "prec_at_k=10",
         "prec_at_k=25",
         "prec_at_k=50",
         "prec_at_k=100",
         "prec_at_k=200",
         "avg_prec"
        ],
        "columnOrder": [],
        "columnsFrozen": {},
        "columnsFrozenRight": {},
        "columnsVisible": {},
        "contextMenuItems": [],
        "contextMenuTags": {},
        "fontColor": [],
        "hasDoubleClickAction": false,
        "hasIndex": "true",
        "headersVertical": false,
        "rendererForColumn": {},
        "rendererForType": {},
        "stringFormatForColumn": {},
        "stringFormatForType": {},
        "subtype": "ListOfMaps",
        "tooManyRows": false,
        "tooltips": [],
        "type": "TableDisplay",
        "types": [
         "string",
         "double",
         "double",
         "double",
         "double",
         "double",
         "double"
        ],
        "values": [
         [
          "Positives lowest p_0",
          "0.9846153846153847",
          "0.9846153846153847",
          "0.9846153846153847",
          "0.99",
          "0.99",
          "0.3313044333747479"
         ],
         [
          "Negatives lowest p_1",
          "1.0",
          "1.0",
          "1.0",
          "1.0",
          "1.0",
          "0.331264846078779"
         ],
         [
          "Positives highest p_1",
          "0.9583333333333334",
          "1.0",
          "0.98",
          "0.99",
          "0.99",
          "0.33125743196536556"
         ],
         [
          "Negatives highest p_0",
          "1.0",
          "1.0",
          "1.0",
          "1.0",
          "1.0",
          "0.33131276775488633"
         ]
        ]
       }
      }
     },
     "701f1a0480b1413e8197680c77e04f52": {
      "model_module": "@jupyter-widgets/base",
      "model_module_version": "*",
      "model_name": "LayoutModel",
      "state": {
       "_model_module_version": "*",
       "_view_module_version": "*"
      }
     },
     "7143a869cba4438996830a790ad7478a": {
      "model_module": "beakerx",
      "model_module_version": "*",
      "model_name": "TableDisplayModel",
      "state": {
       "layout": "IPY_MODEL_cda39252eceb4697975d1c721e88c39c",
       "model": {
        "alignmentForColumn": {},
        "alignmentForType": {},
        "cellHighlighters": [],
        "columnNames": [
         0.05,
         "Active_predicted_Active",
         "Active_predicted_Inactive",
         "Inactive_predicted_Inactive",
         "Inactive_predicted_Active",
         "Empty_preds_Active",
         "Empty_preds_Inactive",
         "Uncertain_preds"
        ],
        "columnOrder": [],
        "columnsFrozen": {},
        "columnsFrozenRight": {},
        "columnsVisible": {},
        "contextMenuItems": [],
        "contextMenuTags": {},
        "fontColor": [],
        "hasDoubleClickAction": false,
        "hasIndex": "true",
        "headersVertical": false,
        "rendererForColumn": {},
        "rendererForType": {},
        "stringFormatForColumn": {},
        "stringFormatForType": {},
        "subtype": "ListOfMaps",
        "tooManyRows": false,
        "tooltips": [],
        "type": "TableDisplay",
        "types": [
         "string",
         "integer",
         "integer",
         "integer",
         "integer",
         "integer",
         "integer",
         "integer"
        ],
        "values": [
         [
          "a",
          "12998",
          "2591",
          "13059",
          "2455",
          "0",
          "0",
          "68897"
         ],
         [
          "b",
          "13228",
          "2524",
          "13162",
          "2508",
          "0",
          "0",
          "68578"
         ],
         [
          "Fisher",
          "19522",
          "2409",
          "19399",
          "2352",
          "82",
          "82",
          "56154"
         ],
         [
          "NP Comb",
          "20722",
          "2627",
          "20781",
          "2607",
          "0",
          "0",
          "53263"
         ],
         [
          "NP Comb Spline",
          "20199",
          "2470",
          "20153",
          "2515",
          "0",
          "0",
          "54663"
         ]
        ]
       }
      }
     },
     "719f48315c3d459295ca3d5735156fea": {
      "model_module": "@jupyter-widgets/base",
      "model_module_version": "*",
      "model_name": "LayoutModel",
      "state": {
       "_model_module_version": "*",
       "_view_module_version": "*"
      }
     },
     "74ae9da1b18b40749a9e8d7b4a1f8dd2": {
      "model_module": "beakerx",
      "model_module_version": "*",
      "model_name": "TableDisplayModel",
      "state": {
       "layout": "IPY_MODEL_fc715eea3c8e41c29a9ed264c8eb20e6",
       "model": {
        "alignmentForColumn": {},
        "alignmentForType": {},
        "cellHighlighters": [],
        "columnNames": [
         "epsilon",
         "Active_predicted_Active",
         "Active_predicted_Inactive",
         "Inactive_predicted_Inactive",
         "Inactive_predicted_Active",
         "Empty_preds_Active",
         "Empty_preds_Inactive",
         "Uncertain_preds"
        ],
        "columnOrder": [],
        "columnsFrozen": {},
        "columnsFrozenRight": {},
        "columnsVisible": {},
        "contextMenuItems": [],
        "contextMenuTags": {},
        "fontColor": [],
        "hasDoubleClickAction": false,
        "hasIndex": "true",
        "headersVertical": false,
        "rendererForColumn": {},
        "rendererForType": {},
        "stringFormatForColumn": {},
        "stringFormatForType": {},
        "subtype": "ListOfMaps",
        "tooManyRows": false,
        "tooltips": [],
        "type": "TableDisplay",
        "types": [
         "double",
         "integer",
         "integer",
         "integer",
         "integer",
         "integer",
         "integer",
         "integer"
        ],
        "values": [
         [
          "0.01",
          "8399",
          "478",
          "8404",
          "490",
          "4",
          "3",
          "82222"
         ],
         [
          "0.05",
          "19522",
          "2409",
          "19399",
          "2352",
          "82",
          "82",
          "56154"
         ],
         [
          "0.1",
          "26568",
          "4651",
          "26327",
          "4636",
          "370",
          "368",
          "37080"
         ],
         [
          "0.15",
          "30736",
          "6565",
          "30491",
          "6601",
          "918",
          "921",
          "23768"
         ],
         [
          "0.2",
          "33390",
          "8111",
          "33088",
          "8210",
          "1807",
          "1868",
          "13526"
         ],
         [
          "0.25",
          "34654",
          "9118",
          "34471",
          "9295",
          "3265",
          "3263",
          "5934"
         ],
         [
          "0.5",
          "25163",
          "4215",
          "24903",
          "4299",
          "20622",
          "20798",
          "0"
         ],
         [
          "0.75",
          "12633",
          "1025",
          "12529",
          "1027",
          "36342",
          "36444",
          "0"
         ],
         [
          "0.8",
          "10204",
          "676",
          "9952",
          "673",
          "39120",
          "39375",
          "0"
         ],
         [
          "0.85",
          "7704",
          "390",
          "7503",
          "416",
          "41906",
          "42081",
          "0"
         ],
         [
          "0.9",
          "5173",
          "185",
          "4976",
          "211",
          "44642",
          "44813",
          "0"
         ],
         [
          "0.95",
          "2603",
          "62",
          "2565",
          "63",
          "47335",
          "47372",
          "0"
         ],
         [
          "0.99",
          "498",
          "1",
          "491",
          "8",
          "49501",
          "49501",
          "0"
         ]
        ]
       }
      }
     },
     "7bdff1d68dbe4808a2dc0b8d3b1d5f19": {
      "model_module": "@jupyter-widgets/base",
      "model_module_version": "*",
      "model_name": "LayoutModel",
      "state": {
       "_model_module_version": "*",
       "_view_module_version": "*"
      }
     },
     "810e701623d74e909e657fac3b820762": {
      "model_module": "beakerx",
      "model_module_version": "*",
      "model_name": "TableDisplayModel",
      "state": {
       "layout": "IPY_MODEL_30806258298b4fe298b470fbcebd5a8b",
       "model": {
        "alignmentForColumn": {},
        "alignmentForType": {},
        "cellHighlighters": [],
        "columnNames": [
         "epsilon",
         "Active_predicted_Active",
         "Active_predicted_Inactive",
         "Inactive_predicted_Inactive",
         "Inactive_predicted_Active",
         "Empty_preds_Active",
         "Empty_preds_Inactive",
         "Uncertain_preds"
        ],
        "columnOrder": [],
        "columnsFrozen": {},
        "columnsFrozenRight": {},
        "columnsVisible": {},
        "contextMenuItems": [],
        "contextMenuTags": {},
        "fontColor": [],
        "hasDoubleClickAction": false,
        "hasIndex": "true",
        "headersVertical": false,
        "rendererForColumn": {},
        "rendererForType": {},
        "stringFormatForColumn": {},
        "stringFormatForType": {},
        "subtype": "ListOfMaps",
        "tooManyRows": false,
        "tooltips": [],
        "type": "TableDisplay",
        "types": [
         "double",
         "integer",
         "integer",
         "integer",
         "integer",
         "integer",
         "integer",
         "integer"
        ],
        "values": [
         [
          "0.01",
          "8966",
          "485",
          "8720",
          "505",
          "0",
          "0",
          "81324"
         ],
         [
          "0.05",
          "20199",
          "2470",
          "20153",
          "2515",
          "0",
          "0",
          "54663"
         ],
         [
          "0.1",
          "27671",
          "4967",
          "27521",
          "4941",
          "0",
          "0",
          "34900"
         ],
         [
          "0.15",
          "32542",
          "7363",
          "32267",
          "7522",
          "0",
          "0",
          "20306"
         ],
         [
          "0.2",
          "35954",
          "9822",
          "35761",
          "10008",
          "0",
          "0",
          "8455"
         ],
         [
          "0.25",
          "37497",
          "11133",
          "37206",
          "11366",
          "1150",
          "1193",
          "455"
         ],
         [
          "0.5",
          "25169",
          "3950",
          "24989",
          "3966",
          "20881",
          "21045",
          "0"
         ],
         [
          "0.75",
          "12529",
          "911",
          "12220",
          "939",
          "36560",
          "36841",
          "0"
         ],
         [
          "0.8",
          "10024",
          "572",
          "9771",
          "593",
          "39404",
          "39636",
          "0"
         ],
         [
          "0.85",
          "7443",
          "346",
          "7405",
          "364",
          "42211",
          "42231",
          "0"
         ],
         [
          "0.9",
          "4981",
          "173",
          "5025",
          "193",
          "44846",
          "44782",
          "0"
         ],
         [
          "0.95",
          "2604",
          "58",
          "2577",
          "66",
          "47338",
          "47357",
          "0"
         ],
         [
          "0.99",
          "508",
          "1",
          "478",
          "8",
          "49491",
          "49514",
          "0"
         ]
        ]
       }
      }
     },
     "8361e79051f94ff68601ec7f48c88fd4": {
      "model_module": "@jupyter-widgets/base",
      "model_module_version": "*",
      "model_name": "LayoutModel",
      "state": {
       "_model_module_version": "*",
       "_view_module_version": "*"
      }
     },
     "89e28f9a806c456eaded82824cce0435": {
      "model_module": "@jupyter-widgets/base",
      "model_module_version": "*",
      "model_name": "LayoutModel",
      "state": {
       "_model_module_version": "*",
       "_view_module_version": "*"
      }
     },
     "8b553c6d2dd64e9eab207c3dba79a60f": {
      "model_module": "beakerx",
      "model_module_version": "*",
      "model_name": "TableDisplayModel",
      "state": {
       "layout": "IPY_MODEL_027df0dad4af4b32953877bc58ca09b8",
       "model": {
        "alignmentForColumn": {},
        "alignmentForType": {},
        "cellHighlighters": [],
        "columnNames": [
         null,
         "prec_at_k=10",
         "prec_at_k=25",
         "prec_at_k=50",
         "prec_at_k=100",
         "prec_at_k=200",
         "avg_prec"
        ],
        "columnOrder": [],
        "columnsFrozen": {},
        "columnsFrozenRight": {},
        "columnsVisible": {},
        "contextMenuItems": [],
        "contextMenuTags": {},
        "fontColor": [],
        "hasDoubleClickAction": false,
        "hasIndex": "true",
        "headersVertical": false,
        "rendererForColumn": {},
        "rendererForType": {},
        "stringFormatForColumn": {},
        "stringFormatForType": {},
        "subtype": "ListOfMaps",
        "tooManyRows": false,
        "tooltips": [],
        "type": "TableDisplay",
        "types": [
         "string",
         "double",
         "double",
         "double",
         "double",
         "double",
         "double"
        ],
        "values": [
         [
          "Positives lowest p_0",
          "0.9985109199205824",
          "0.9985109199205824",
          "0.9985109199205824",
          "0.9985109199205824",
          "0.9985109199205824",
          "0.31031942596410517"
         ],
         [
          "Negatives lowest p_1",
          "0.9996992481203008",
          "0.9996992481203008",
          "0.9996992481203008",
          "0.9996992481203008",
          "0.9996992481203008",
          "0.30899052671542165"
         ],
         [
          "Positives highest p_1",
          "1.0",
          "1.0",
          "1.0",
          "1.0",
          "1.0",
          "0.30855964624674687"
         ],
         [
          "Negatives highest p_0",
          "1.0",
          "1.0",
          "1.0",
          "1.0",
          "1.0",
          "0.30853194655232163"
         ]
        ]
       }
      }
     },
     "95d75a6a517b4544a32359e6b1d25ef7": {
      "model_module": "beakerx",
      "model_module_version": "*",
      "model_name": "TableDisplayModel",
      "state": {
       "layout": "IPY_MODEL_39c331e2f6cf4c23b51e7a4d6f3e2d41",
       "model": {
        "alignmentForColumn": {},
        "alignmentForType": {},
        "cellHighlighters": [],
        "columnNames": [
         "epsilon",
         "Active_predicted_Active",
         "Active_predicted_Inactive",
         "Inactive_predicted_Inactive",
         "Inactive_predicted_Active",
         "Empty_preds_Active",
         "Empty_preds_Inactive",
         "Uncertain_preds"
        ],
        "columnOrder": [],
        "columnsFrozen": {},
        "columnsFrozenRight": {},
        "columnsVisible": {},
        "contextMenuItems": [],
        "contextMenuTags": {},
        "fontColor": [],
        "hasDoubleClickAction": false,
        "hasIndex": "true",
        "headersVertical": false,
        "rendererForColumn": {},
        "rendererForType": {},
        "stringFormatForColumn": {},
        "stringFormatForType": {},
        "subtype": "ListOfMaps",
        "tooManyRows": false,
        "tooltips": [],
        "type": "TableDisplay",
        "types": [
         "double",
         "integer",
         "integer",
         "integer",
         "integer",
         "integer",
         "integer",
         "integer"
        ],
        "values": [
         [
          "0.01",
          "9512",
          "501",
          "9045",
          "544",
          "0",
          "0",
          "80398"
         ],
         [
          "0.05",
          "20722",
          "2627",
          "20781",
          "2607",
          "0",
          "0",
          "53263"
         ],
         [
          "0.1",
          "27905",
          "5162",
          "27831",
          "5213",
          "0",
          "0",
          "33889"
         ],
         [
          "0.15",
          "32629",
          "7596",
          "32348",
          "7799",
          "0",
          "1",
          "19627"
         ],
         [
          "0.2",
          "35944",
          "10058",
          "35674",
          "10262",
          "48",
          "42",
          "7972"
         ],
         [
          "0.25",
          "36872",
          "10905",
          "36621",
          "11215",
          "1833",
          "1779",
          "775"
         ],
         [
          "0.5",
          "24784",
          "3905",
          "24505",
          "3958",
          "21311",
          "21537",
          "0"
         ],
         [
          "0.75",
          "12258",
          "915",
          "11967",
          "947",
          "36827",
          "37086",
          "0"
         ],
         [
          "0.8",
          "9782",
          "593",
          "9547",
          "662",
          "39625",
          "39791",
          "0"
         ],
         [
          "0.85",
          "7368",
          "374",
          "7179",
          "410",
          "42258",
          "42411",
          "0"
         ],
         [
          "0.9",
          "4899",
          "213",
          "4848",
          "228",
          "44888",
          "44924",
          "0"
         ],
         [
          "0.95",
          "2415",
          "88",
          "2433",
          "85",
          "47497",
          "47482",
          "0"
         ],
         [
          "0.99",
          "508",
          "26",
          "489",
          "27",
          "49466",
          "49484",
          "0"
         ]
        ]
       }
      }
     },
     "98402c86910c498ab9b68e9130a069c9": {
      "model_module": "beakerx",
      "model_module_version": "*",
      "model_name": "TableDisplayModel",
      "state": {
       "layout": "IPY_MODEL_99bbaaabdcc7413ba2de2c749e6a0d91",
       "model": {
        "alignmentForColumn": {},
        "alignmentForType": {},
        "cellHighlighters": [],
        "columnNames": [
         null,
         "prec_at_k=10",
         "prec_at_k=25",
         "prec_at_k=50",
         "prec_at_k=100",
         "prec_at_k=200",
         "avg_prec"
        ],
        "columnOrder": [],
        "columnsFrozen": {},
        "columnsFrozenRight": {},
        "columnsVisible": {},
        "contextMenuItems": [],
        "contextMenuTags": {},
        "fontColor": [],
        "hasDoubleClickAction": false,
        "hasIndex": "true",
        "headersVertical": false,
        "rendererForColumn": {},
        "rendererForType": {},
        "stringFormatForColumn": {},
        "stringFormatForType": {},
        "subtype": "ListOfMaps",
        "tooManyRows": false,
        "tooltips": [],
        "type": "TableDisplay",
        "types": [
         "string",
         "double",
         "double",
         "double",
         "double",
         "double",
         "double"
        ],
        "values": [
         [
          "Positives lowest p_0",
          "0.9846153846153847",
          "0.9846153846153847",
          "0.9846153846153847",
          "0.99",
          "0.99",
          "0.3313044333747479"
         ],
         [
          "Negatives lowest p_1",
          "1.0",
          "1.0",
          "1.0",
          "1.0",
          "1.0",
          "0.331264846078779"
         ],
         [
          "Positives highest p_1",
          "0.9583333333333334",
          "1.0",
          "0.98",
          "0.99",
          "0.99",
          "0.33125743196536556"
         ],
         [
          "Negatives highest p_0",
          "1.0",
          "1.0",
          "1.0",
          "1.0",
          "1.0",
          "0.33131276775488633"
         ]
        ]
       }
      }
     },
     "99bbaaabdcc7413ba2de2c749e6a0d91": {
      "model_module": "@jupyter-widgets/base",
      "model_module_version": "*",
      "model_name": "LayoutModel",
      "state": {
       "_model_module_version": "*",
       "_view_module_version": "*"
      }
     },
     "9cf44f8accb94111ad07f9565c9599b9": {
      "model_module": "beakerx",
      "model_module_version": "*",
      "model_name": "TableDisplayModel",
      "state": {
       "layout": "IPY_MODEL_10a663c483604cb9ae2261c49db06912",
       "model": {
        "alignmentForColumn": {},
        "alignmentForType": {},
        "cellHighlighters": [],
        "columnNames": [
         "p-values, epsilon",
         "Active_predicted_Active",
         "Active_predicted_Inactive",
         "Inactive_predicted_Inactive",
         "Inactive_predicted_Active",
         "Empty_preds_Active",
         "Empty_preds_Inactive",
         "Uncertain_preds"
        ],
        "columnOrder": [],
        "columnsFrozen": {},
        "columnsFrozenRight": {},
        "columnsVisible": {},
        "contextMenuItems": [],
        "contextMenuTags": {},
        "fontColor": [],
        "hasDoubleClickAction": false,
        "hasIndex": "true",
        "headersVertical": false,
        "rendererForColumn": {},
        "rendererForType": {},
        "stringFormatForColumn": {},
        "stringFormatForType": {},
        "subtype": "ListOfMaps",
        "tooManyRows": false,
        "tooltips": [],
        "type": "TableDisplay",
        "types": [
         "string",
         "integer",
         "integer",
         "integer",
         "integer",
         "integer",
         "integer",
         "integer"
        ],
        "values": [
         [
          "('a', 0.01)",
          "4537",
          "511",
          "4646",
          "470",
          "0",
          "0",
          "89836"
         ],
         [
          "('a', 0.05)",
          "12998",
          "2591",
          "13059",
          "2455",
          "0",
          "0",
          "68897"
         ],
         [
          "('a', 0.1)",
          "19685",
          "5131",
          "19464",
          "5066",
          "0",
          "0",
          "50654"
         ],
         [
          "('a', 0.15)",
          "24307",
          "7487",
          "24171",
          "7579",
          "0",
          "0",
          "36456"
         ],
         [
          "('a', 0.2)",
          "28303",
          "9906",
          "27958",
          "10105",
          "0",
          "0",
          "23728"
         ],
         [
          "('a', 0.25)",
          "31581",
          "12504",
          "31222",
          "12590",
          "0",
          "0",
          "12103"
         ],
         [
          "('a', 0.5)",
          "25033",
          "7973",
          "25042",
          "7985",
          "16994",
          "16973",
          "0"
         ],
         [
          "('a', 0.75)",
          "12598",
          "2415",
          "12550",
          "2318",
          "34987",
          "35132",
          "0"
         ],
         [
          "('a', 0.8)",
          "10077",
          "1715",
          "10008",
          "1648",
          "38208",
          "38344",
          "0"
         ],
         [
          "('a', 0.85)",
          "7488",
          "1094",
          "7472",
          "1031",
          "41418",
          "41497",
          "0"
         ],
         [
          "('a', 0.9)",
          "4985",
          "580",
          "4988",
          "548",
          "44435",
          "44464",
          "0"
         ],
         [
          "('a', 0.95)",
          "2507",
          "220",
          "2519",
          "193",
          "47273",
          "47288",
          "0"
         ],
         [
          "('a', 0.99)",
          "472",
          "26",
          "503",
          "17",
          "49502",
          "49480",
          "0"
         ],
         [
          "('b', 0.01)",
          "4566",
          "481",
          "4594",
          "477",
          "0",
          "0",
          "89882"
         ],
         [
          "('b', 0.05)",
          "13228",
          "2524",
          "13162",
          "2508",
          "0",
          "0",
          "68578"
         ],
         [
          "('b', 0.1)",
          "19852",
          "4970",
          "19546",
          "5096",
          "0",
          "0",
          "50536"
         ],
         [
          "('b', 0.15)",
          "24566",
          "7380",
          "24156",
          "7607",
          "0",
          "0",
          "36291"
         ],
         [
          "('b', 0.2)",
          "28391",
          "9757",
          "28118",
          "10011",
          "0",
          "0",
          "23723"
         ],
         [
          "('b', 0.25)",
          "31638",
          "12209",
          "31345",
          "12512",
          "0",
          "0",
          "12296"
         ],
         [
          "('b', 0.5)",
          "25322",
          "7932",
          "25091",
          "8069",
          "16746",
          "16840",
          "0"
         ],
         [
          "('b', 0.75)",
          "12897",
          "2322",
          "12553",
          "2399",
          "34781",
          "35048",
          "0"
         ],
         [
          "('b', 0.8)",
          "10284",
          "1622",
          "10112",
          "1667",
          "38094",
          "38221",
          "0"
         ],
         [
          "('b', 0.85)",
          "7704",
          "1007",
          "7555",
          "1060",
          "41289",
          "41385",
          "0"
         ],
         [
          "('b', 0.9)",
          "5104",
          "540",
          "4962",
          "570",
          "44356",
          "44468",
          "0"
         ],
         [
          "('b', 0.95)",
          "2566",
          "191",
          "2560",
          "211",
          "47243",
          "47229",
          "0"
         ],
         [
          "('b', 0.99)",
          "504",
          "14",
          "554",
          "19",
          "49482",
          "49427",
          "0"
         ]
        ]
       }
      }
     },
     "9e8ee852ffa841328b08206163f85193": {
      "model_module": "beakerx",
      "model_module_version": "*",
      "model_name": "TableDisplayModel",
      "state": {
       "layout": "IPY_MODEL_d351f5433362439fa4dfe5f1805a1e39",
       "model": {
        "alignmentForColumn": {},
        "alignmentForType": {},
        "cellHighlighters": [],
        "columnNames": [
         "p-values, epsilon",
         "Active_predicted_Active",
         "Active_predicted_Inactive",
         "Inactive_predicted_Inactive",
         "Inactive_predicted_Active",
         "Empty_preds_Active",
         "Empty_preds_Inactive",
         "Uncertain_preds"
        ],
        "columnOrder": [],
        "columnsFrozen": {},
        "columnsFrozenRight": {},
        "columnsVisible": {},
        "contextMenuItems": [],
        "contextMenuTags": {},
        "fontColor": [],
        "hasDoubleClickAction": false,
        "hasIndex": "true",
        "headersVertical": false,
        "rendererForColumn": {},
        "rendererForType": {},
        "stringFormatForColumn": {},
        "stringFormatForType": {},
        "subtype": "ListOfMaps",
        "tooManyRows": false,
        "tooltips": [],
        "type": "TableDisplay",
        "types": [
         "string",
         "integer",
         "integer",
         "integer",
         "integer",
         "integer",
         "integer",
         "integer"
        ],
        "values": [
         [
          "('a', 0.05)",
          "12998",
          "2591",
          "13059",
          "2455",
          "0",
          "0",
          "68897"
         ],
         [
          "('b', 0.05)",
          "13228",
          "2524",
          "13162",
          "2508",
          "0",
          "0",
          "68578"
         ],
         [
          "('Fisher', 0.05)",
          "19522",
          "2409",
          "19399",
          "2352",
          "82",
          "82",
          "56154"
         ],
         [
          "('NP Comb', 0.05)",
          "20722",
          "2627",
          "20781",
          "2607",
          "0",
          "0",
          "53263"
         ],
         [
          "('NP Comb Spline', 0.05)",
          "20199",
          "2470",
          "20153",
          "2515",
          "0",
          "0",
          "54663"
         ]
        ]
       }
      }
     },
     "9ebd1983f53f4713bb95513192a7678a": {
      "model_module": "beakerx",
      "model_module_version": "*",
      "model_name": "TableDisplayModel",
      "state": {
       "layout": "IPY_MODEL_5ad7615b136e49268ca5f1b89d904ce5",
       "model": {
        "alignmentForColumn": {},
        "alignmentForType": {},
        "cellHighlighters": [],
        "columnNames": [
         "p-values",
         "Active_predicted_Active",
         "Active_predicted_Inactive",
         "Inactive_predicted_Inactive",
         "Inactive_predicted_Active",
         "Empty_preds_Active",
         "Empty_preds_Inactive",
         "Uncertain_preds"
        ],
        "columnOrder": [],
        "columnsFrozen": {},
        "columnsFrozenRight": {},
        "columnsVisible": {},
        "contextMenuItems": [],
        "contextMenuTags": {},
        "fontColor": [],
        "hasDoubleClickAction": false,
        "hasIndex": "true",
        "headersVertical": false,
        "rendererForColumn": {},
        "rendererForType": {},
        "stringFormatForColumn": {},
        "stringFormatForType": {},
        "subtype": "ListOfMaps",
        "tooManyRows": false,
        "tooltips": [],
        "type": "TableDisplay",
        "types": [
         "string",
         "integer",
         "integer",
         "integer",
         "integer",
         "integer",
         "integer",
         "integer"
        ],
        "values": [
         [
          "a",
          "4537",
          "511",
          "4646",
          "470",
          "0",
          "0",
          "89836"
         ],
         [
          "b",
          "4566",
          "481",
          "4594",
          "477",
          "0",
          "0",
          "89882"
         ],
         [
          "Fisher",
          "8399",
          "478",
          "8404",
          "490",
          "4",
          "3",
          "82222"
         ],
         [
          "NP Comb",
          "9512",
          "501",
          "9045",
          "544",
          "0",
          "0",
          "80398"
         ],
         [
          "NP Comb Spline",
          "8966",
          "485",
          "8720",
          "505",
          "0",
          "0",
          "81324"
         ]
        ]
       }
      }
     },
     "9f46c94016dd482ea7aaeed4818e6729": {
      "model_module": "beakerx",
      "model_module_version": "*",
      "model_name": "TableDisplayModel",
      "state": {
       "layout": "IPY_MODEL_637b230eba7e4186b880965a7d4dfee5",
       "model": {
        "alignmentForColumn": {},
        "alignmentForType": {},
        "cellHighlighters": [],
        "columnNames": [
         "$\\epsilon=0.05$",
         "Active_predicted_Active",
         "Active_predicted_Inactive",
         "Inactive_predicted_Inactive",
         "Inactive_predicted_Active",
         "Empty_preds_Active",
         "Empty_preds_Inactive",
         "Uncertain_preds"
        ],
        "columnOrder": [],
        "columnsFrozen": {},
        "columnsFrozenRight": {},
        "columnsVisible": {},
        "contextMenuItems": [],
        "contextMenuTags": {},
        "fontColor": [],
        "hasDoubleClickAction": false,
        "hasIndex": "true",
        "headersVertical": false,
        "rendererForColumn": {},
        "rendererForType": {},
        "stringFormatForColumn": {},
        "stringFormatForType": {},
        "subtype": "ListOfMaps",
        "tooManyRows": false,
        "tooltips": [],
        "type": "TableDisplay",
        "types": [
         "string",
         "integer",
         "integer",
         "integer",
         "integer",
         "integer",
         "integer",
         "integer"
        ],
        "values": [
         [
          "a",
          "12998",
          "2591",
          "13059",
          "2455",
          "0",
          "0",
          "68897"
         ],
         [
          "b",
          "13228",
          "2524",
          "13162",
          "2508",
          "0",
          "0",
          "68578"
         ],
         [
          "Fisher",
          "19522",
          "2409",
          "19399",
          "2352",
          "82",
          "82",
          "56154"
         ],
         [
          "NP Comb",
          "20722",
          "2627",
          "20781",
          "2607",
          "0",
          "0",
          "53263"
         ],
         [
          "NP Comb Spline",
          "20199",
          "2470",
          "20153",
          "2515",
          "0",
          "0",
          "54663"
         ]
        ]
       }
      }
     },
     "a114b6d8e5f54e09b3d1d69c3852b8f8": {
      "model_module": "@jupyter-widgets/base",
      "model_module_version": "*",
      "model_name": "LayoutModel",
      "state": {
       "_model_module_version": "*",
       "_view_module_version": "*"
      }
     },
     "a15de55314834632b038d593b151f497": {
      "model_module": "@jupyter-widgets/base",
      "model_module_version": "*",
      "model_name": "LayoutModel",
      "state": {
       "_model_module_version": "*",
       "_view_module_version": "*"
      }
     },
     "a18dd28e47044259aed06adfd149d146": {
      "model_module": "beakerx",
      "model_module_version": "*",
      "model_name": "TableDisplayModel",
      "state": {
       "layout": "IPY_MODEL_1ba3f2ad23524e148e3bda201d9cffee",
       "model": {
        "alignmentForColumn": {},
        "alignmentForType": {},
        "cellHighlighters": [],
        "columnNames": [
         null,
         "prec_at_k=10",
         "prec_at_k=25",
         "prec_at_k=50",
         "prec_at_k=100",
         "prec_at_k=200",
         "avg_prec"
        ],
        "columnOrder": [],
        "columnsFrozen": {},
        "columnsFrozenRight": {},
        "columnsVisible": {},
        "contextMenuItems": [],
        "contextMenuTags": {},
        "fontColor": [],
        "hasDoubleClickAction": false,
        "hasIndex": "true",
        "headersVertical": false,
        "rendererForColumn": {},
        "rendererForType": {},
        "stringFormatForColumn": {},
        "stringFormatForType": {},
        "subtype": "ListOfMaps",
        "tooManyRows": false,
        "tooltips": [],
        "type": "TableDisplay",
        "types": [
         "string",
         "double",
         "double",
         "double",
         "double",
         "double",
         "double"
        ],
        "values": [
         [
          "Positives lowest p_0",
          "1.0",
          "1.0",
          "0.98",
          "0.99",
          "0.99",
          "0.35413262604634116"
         ],
         [
          "Negatives lowest p_1",
          "1.0",
          "1.0",
          "0.98",
          "0.97",
          "0.97",
          "0.3541563122413709"
         ],
         [
          "Positives highest p_1",
          "1.0",
          "1.0",
          "0.98",
          "0.99",
          "0.99",
          "0.35413264768937935"
         ],
         [
          "Negatives highest p_0",
          "1.0",
          "1.0",
          "0.98",
          "0.97",
          "0.97",
          "0.3541565540551139"
         ]
        ]
       }
      }
     },
     "a19e9ce5b4364ec980e1fa9ec9f77f0d": {
      "model_module": "@jupyter-widgets/base",
      "model_module_version": "*",
      "model_name": "LayoutModel",
      "state": {
       "_model_module_version": "*",
       "_view_module_version": "*"
      }
     },
     "a3549426b6af4b30947425dd498ae47b": {
      "model_module": "beakerx",
      "model_module_version": "*",
      "model_name": "TableDisplayModel",
      "state": {
       "layout": "IPY_MODEL_12b4ab4f0c7b44a88aac2a69a41ca733",
       "model": {
        "alignmentForColumn": {},
        "alignmentForType": {},
        "cellHighlighters": [],
        "columnNames": [
         null,
         "prec_at_k=10",
         "prec_at_k=25",
         "prec_at_k=50",
         "prec_at_k=100",
         "prec_at_k=200",
         "avg_prec"
        ],
        "columnOrder": [],
        "columnsFrozen": {},
        "columnsFrozenRight": {},
        "columnsVisible": {},
        "contextMenuItems": [],
        "contextMenuTags": {},
        "fontColor": [],
        "hasDoubleClickAction": false,
        "hasIndex": "true",
        "headersVertical": false,
        "rendererForColumn": {},
        "rendererForType": {},
        "stringFormatForColumn": {},
        "stringFormatForType": {},
        "subtype": "ListOfMaps",
        "tooManyRows": false,
        "tooltips": [],
        "type": "TableDisplay",
        "types": [
         "string",
         "double",
         "double",
         "double",
         "double",
         "double",
         "double"
        ],
        "values": [
         [
          "Positives lowest p_0",
          "0.9846153846153847",
          "0.9846153846153847",
          "0.9846153846153847",
          "0.99",
          "0.99",
          "0.3313044333747479"
         ],
         [
          "Negatives lowest p_1",
          "1.0",
          "1.0",
          "1.0",
          "1.0",
          "1.0",
          "0.331264846078779"
         ],
         [
          "Positives highest p_1",
          "0.9583333333333334",
          "1.0",
          "0.98",
          "0.99",
          "0.99",
          "0.33125743196536556"
         ],
         [
          "Negatives highest p_0",
          "1.0",
          "1.0",
          "1.0",
          "1.0",
          "1.0",
          "0.33131276775488633"
         ]
        ]
       }
      }
     },
     "a8026b4c41394f9d8029c670f2267cf4": {
      "model_module": "beakerx",
      "model_module_version": "*",
      "model_name": "TableDisplayModel",
      "state": {
       "layout": "IPY_MODEL_bb2564e01f6441dc81c61e6897eae01b",
       "model": {
        "alignmentForColumn": {},
        "alignmentForType": {},
        "cellHighlighters": [],
        "columnNames": [
         "p-values, epsilon",
         "Active_predicted_Active",
         "Active_predicted_Inactive",
         "Inactive_predicted_Inactive",
         "Inactive_predicted_Active",
         "Empty_preds_Active",
         "Empty_preds_Inactive",
         "Uncertain_preds"
        ],
        "columnOrder": [],
        "columnsFrozen": {},
        "columnsFrozenRight": {},
        "columnsVisible": {},
        "contextMenuItems": [],
        "contextMenuTags": {},
        "fontColor": [],
        "hasDoubleClickAction": false,
        "hasIndex": "true",
        "headersVertical": false,
        "rendererForColumn": {},
        "rendererForType": {},
        "stringFormatForColumn": {},
        "stringFormatForType": {},
        "subtype": "ListOfMaps",
        "tooManyRows": false,
        "tooltips": [],
        "type": "TableDisplay",
        "types": [
         "string",
         "integer",
         "integer",
         "integer",
         "integer",
         "integer",
         "integer",
         "integer"
        ],
        "values": [
         [
          "('a', 0.05)",
          "12998",
          "2591",
          "13059",
          "2455",
          "0",
          "0",
          "68897"
         ],
         [
          "('b', 0.05)",
          "13228",
          "2524",
          "13162",
          "2508",
          "0",
          "0",
          "68578"
         ],
         [
          "('Fisher', 0.05)",
          "19522",
          "2409",
          "19399",
          "2352",
          "82",
          "82",
          "56154"
         ],
         [
          "('NP Comb', 0.05)",
          "20722",
          "2627",
          "20781",
          "2607",
          "0",
          "0",
          "53263"
         ],
         [
          "('NP Comb Spline', 0.05)",
          "20199",
          "2470",
          "20153",
          "2515",
          "0",
          "0",
          "54663"
         ]
        ]
       }
      }
     },
     "afa19323a4ce4359a022efecd2db906c": {
      "model_module": "@jupyter-widgets/base",
      "model_module_version": "*",
      "model_name": "LayoutModel",
      "state": {
       "_model_module_version": "*",
       "_view_module_version": "*"
      }
     },
     "b0b79ceb00154237b060ebb25d093a31": {
      "model_module": "beakerx",
      "model_module_version": "*",
      "model_name": "TableDisplayModel",
      "state": {
       "layout": "IPY_MODEL_0f3155e45dac4c019cdf17fd3b66d468",
       "model": {
        "alignmentForColumn": {},
        "alignmentForType": {},
        "cellHighlighters": [],
        "columnNames": [
         "epsilon",
         "Active_predicted_Active",
         "Active_predicted_Inactive",
         "Inactive_predicted_Inactive",
         "Inactive_predicted_Active",
         "Empty_preds_Active",
         "Empty_preds_Inactive",
         "Uncertain_preds"
        ],
        "columnOrder": [],
        "columnsFrozen": {},
        "columnsFrozenRight": {},
        "columnsVisible": {},
        "contextMenuItems": [],
        "contextMenuTags": {},
        "fontColor": [],
        "hasDoubleClickAction": false,
        "hasIndex": "true",
        "headersVertical": false,
        "rendererForColumn": {},
        "rendererForType": {},
        "stringFormatForColumn": {},
        "stringFormatForType": {},
        "subtype": "ListOfMaps",
        "tooManyRows": false,
        "tooltips": [],
        "type": "TableDisplay",
        "types": [
         "double",
         "integer",
         "integer",
         "integer",
         "integer",
         "integer",
         "integer",
         "integer"
        ],
        "values": [
         [
          "0.01",
          "8966",
          "485",
          "8720",
          "505",
          "0",
          "0",
          "81324"
         ],
         [
          "0.05",
          "20199",
          "2470",
          "20153",
          "2515",
          "0",
          "0",
          "54663"
         ],
         [
          "0.1",
          "27671",
          "4967",
          "27521",
          "4941",
          "0",
          "0",
          "34900"
         ],
         [
          "0.15",
          "32542",
          "7363",
          "32267",
          "7522",
          "0",
          "0",
          "20306"
         ],
         [
          "0.2",
          "35954",
          "9822",
          "35761",
          "10008",
          "0",
          "0",
          "8455"
         ],
         [
          "0.25",
          "37497",
          "11133",
          "37206",
          "11366",
          "1150",
          "1193",
          "455"
         ],
         [
          "0.5",
          "25169",
          "3950",
          "24989",
          "3966",
          "20881",
          "21045",
          "0"
         ],
         [
          "0.75",
          "12529",
          "911",
          "12220",
          "939",
          "36560",
          "36841",
          "0"
         ],
         [
          "0.8",
          "10024",
          "572",
          "9771",
          "593",
          "39404",
          "39636",
          "0"
         ],
         [
          "0.85",
          "7443",
          "346",
          "7405",
          "364",
          "42211",
          "42231",
          "0"
         ],
         [
          "0.9",
          "4981",
          "173",
          "5025",
          "193",
          "44846",
          "44782",
          "0"
         ],
         [
          "0.95",
          "2604",
          "58",
          "2577",
          "66",
          "47338",
          "47357",
          "0"
         ],
         [
          "0.99",
          "508",
          "1",
          "478",
          "8",
          "49491",
          "49514",
          "0"
         ]
        ]
       }
      }
     },
     "b121c8b8639742b4b44a8b3282bbc2ce": {
      "model_module": "@jupyter-widgets/base",
      "model_module_version": "*",
      "model_name": "LayoutModel",
      "state": {
       "_model_module_version": "*",
       "_view_module_version": "*"
      }
     },
     "b43c442b291245bd9feb47ec35b958e6": {
      "model_module": "beakerx",
      "model_module_version": "*",
      "model_name": "TableDisplayModel",
      "state": {
       "layout": "IPY_MODEL_d47a71a036dd4ed28afaf6d1b0e97621",
       "model": {
        "alignmentForColumn": {},
        "alignmentForType": {},
        "cellHighlighters": [],
        "columnNames": [
         "epsilon",
         "Active_predicted_Active",
         "Active_predicted_Inactive",
         "Inactive_predicted_Inactive",
         "Inactive_predicted_Active",
         "Empty_preds",
         "Uncertain_preds"
        ],
        "columnOrder": [],
        "columnsFrozen": {},
        "columnsFrozenRight": {},
        "columnsVisible": {},
        "contextMenuItems": [],
        "contextMenuTags": {},
        "fontColor": [],
        "hasDoubleClickAction": false,
        "hasIndex": "true",
        "headersVertical": false,
        "rendererForColumn": {},
        "rendererForType": {},
        "stringFormatForColumn": {},
        "stringFormatForType": {},
        "subtype": "ListOfMaps",
        "tooManyRows": false,
        "tooltips": [],
        "type": "TableDisplay",
        "types": [
         "double",
         "integer",
         "integer",
         "integer",
         "integer",
         "integer",
         "integer"
        ],
        "values": [
         [
          "0.01",
          "34366",
          "500",
          "34483",
          "500",
          "0",
          "30151"
         ],
         [
          "0.05",
          "43958",
          "2497",
          "43998",
          "2497",
          "6",
          "7044"
         ],
         [
          "0.1",
          "44940",
          "3018",
          "44928",
          "3062",
          "3920",
          "132"
         ],
         [
          "0.15",
          "42461",
          "1821",
          "42450",
          "1815",
          "11364",
          "89"
         ],
         [
          "0.2",
          "39964",
          "1159",
          "39954",
          "1151",
          "17690",
          "82"
         ],
         [
          "0.25",
          "37464",
          "782",
          "37455",
          "773",
          "23445",
          "81"
         ],
         [
          "0.5",
          "24971",
          "187",
          "24968",
          "208",
          "49605",
          "61"
         ],
         [
          "0.75",
          "12500",
          "5",
          "12500",
          "6",
          "74989",
          "0"
         ],
         [
          "0.8",
          "10000",
          "3",
          "10000",
          "2",
          "79995",
          "0"
         ],
         [
          "0.85",
          "7500",
          "1",
          "7500",
          "1",
          "84998",
          "0"
         ],
         [
          "0.9",
          "5000",
          "0",
          "5000",
          "0",
          "90000",
          "0"
         ],
         [
          "0.95",
          "2500",
          "0",
          "2500",
          "0",
          "95000",
          "0"
         ],
         [
          "0.99",
          "500",
          "0",
          "500",
          "0",
          "99000",
          "0"
         ]
        ]
       }
      }
     },
     "b4e35f2b3ed64a25bf9d617ccc673823": {
      "model_module": "@jupyter-widgets/base",
      "model_module_version": "*",
      "model_name": "LayoutModel",
      "state": {
       "_model_module_version": "*",
       "_view_module_version": "*"
      }
     },
     "b626695010d14859a62d3882fb9fd34b": {
      "model_module": "beakerx",
      "model_module_version": "*",
      "model_name": "TableDisplayModel",
      "state": {
       "layout": "IPY_MODEL_53e1d915380f462d93972e26cb9c09bf",
       "model": {
        "alignmentForColumn": {},
        "alignmentForType": {},
        "cellHighlighters": [],
        "columnNames": [
         null,
         "prec_at_k=10",
         "prec_at_k=25",
         "prec_at_k=50",
         "prec_at_k=100",
         "prec_at_k=200",
         "avg_prec"
        ],
        "columnOrder": [],
        "columnsFrozen": {},
        "columnsFrozenRight": {},
        "columnsVisible": {},
        "contextMenuItems": [],
        "contextMenuTags": {},
        "fontColor": [],
        "hasDoubleClickAction": false,
        "hasIndex": "true",
        "headersVertical": false,
        "rendererForColumn": {},
        "rendererForType": {},
        "stringFormatForColumn": {},
        "stringFormatForType": {},
        "subtype": "ListOfMaps",
        "tooManyRows": false,
        "tooltips": [],
        "type": "TableDisplay",
        "types": [
         "string",
         "double",
         "double",
         "double",
         "double",
         "double",
         "double"
        ],
        "values": [
         [
          "Positives lowest p_0",
          "0.9846153846153847",
          "0.9846153846153847",
          "0.9846153846153847",
          "0.99",
          "0.99",
          "0.3313044333747479"
         ],
         [
          "Negatives lowest p_1",
          "1.0",
          "1.0",
          "1.0",
          "1.0",
          "1.0",
          "0.331264846078779"
         ],
         [
          "Positives highest p_1",
          "0.9583333333333334",
          "1.0",
          "0.98",
          "0.99",
          "0.99",
          "0.33125743196536556"
         ],
         [
          "Negatives highest p_0",
          "1.0",
          "1.0",
          "1.0",
          "1.0",
          "1.0",
          "0.33131276775488633"
         ]
        ]
       }
      }
     },
     "bb2564e01f6441dc81c61e6897eae01b": {
      "model_module": "@jupyter-widgets/base",
      "model_module_version": "*",
      "model_name": "LayoutModel",
      "state": {
       "_model_module_version": "*",
       "_view_module_version": "*"
      }
     },
     "bd6231485a5f4638a395b41ee96940ca": {
      "model_module": "@jupyter-widgets/base",
      "model_module_version": "*",
      "model_name": "LayoutModel",
      "state": {
       "_model_module_version": "*",
       "_view_module_version": "*"
      }
     },
     "bfb8bbc7181740028c91bbb1a8cd141f": {
      "model_module": "beakerx",
      "model_module_version": "*",
      "model_name": "TableDisplayModel",
      "state": {
       "layout": "IPY_MODEL_4742b7765ed14229bec8a8a30f7faad7",
       "model": {
        "alignmentForColumn": {},
        "alignmentForType": {},
        "cellHighlighters": [],
        "columnNames": [
         "epsilon",
         "Active_predicted_Active",
         "Active_predicted_Inactive",
         "Inactive_predicted_Inactive",
         "Inactive_predicted_Active",
         "Empty_preds_Active",
         "Empty_preds_Inactive",
         "Uncertain_preds"
        ],
        "columnOrder": [],
        "columnsFrozen": {},
        "columnsFrozenRight": {},
        "columnsVisible": {},
        "contextMenuItems": [],
        "contextMenuTags": {},
        "fontColor": [],
        "hasDoubleClickAction": false,
        "hasIndex": "true",
        "headersVertical": false,
        "rendererForColumn": {},
        "rendererForType": {},
        "stringFormatForColumn": {},
        "stringFormatForType": {},
        "subtype": "ListOfMaps",
        "tooManyRows": false,
        "tooltips": [],
        "type": "TableDisplay",
        "types": [
         "double",
         "integer",
         "integer",
         "integer",
         "integer",
         "integer",
         "integer",
         "integer"
        ],
        "values": [
         [
          "0.01",
          "9512",
          "501",
          "9045",
          "544",
          "0",
          "0",
          "80398"
         ],
         [
          "0.05",
          "20722",
          "2627",
          "20781",
          "2607",
          "0",
          "0",
          "53263"
         ],
         [
          "0.1",
          "27905",
          "5162",
          "27831",
          "5213",
          "0",
          "0",
          "33889"
         ],
         [
          "0.15",
          "32629",
          "7596",
          "32348",
          "7799",
          "0",
          "1",
          "19627"
         ],
         [
          "0.2",
          "35944",
          "10058",
          "35674",
          "10262",
          "48",
          "42",
          "7972"
         ],
         [
          "0.25",
          "36872",
          "10905",
          "36621",
          "11215",
          "1833",
          "1779",
          "775"
         ],
         [
          "0.5",
          "24784",
          "3905",
          "24505",
          "3958",
          "21311",
          "21537",
          "0"
         ],
         [
          "0.75",
          "12258",
          "915",
          "11967",
          "947",
          "36827",
          "37086",
          "0"
         ],
         [
          "0.8",
          "9782",
          "593",
          "9547",
          "662",
          "39625",
          "39791",
          "0"
         ],
         [
          "0.85",
          "7368",
          "374",
          "7179",
          "410",
          "42258",
          "42411",
          "0"
         ],
         [
          "0.9",
          "4899",
          "213",
          "4848",
          "228",
          "44888",
          "44924",
          "0"
         ],
         [
          "0.95",
          "2415",
          "88",
          "2433",
          "85",
          "47497",
          "47482",
          "0"
         ],
         [
          "0.99",
          "508",
          "26",
          "489",
          "27",
          "49466",
          "49484",
          "0"
         ]
        ]
       }
      }
     },
     "c0771c0884524d109bbca74ff5b95c70": {
      "model_module": "beakerx",
      "model_module_version": "*",
      "model_name": "TableDisplayModel",
      "state": {
       "layout": "IPY_MODEL_099e6ecb91fb4ab9865844ac534b05dc",
       "model": {
        "alignmentForColumn": {},
        "alignmentForType": {},
        "cellHighlighters": [],
        "columnNames": [
         "epsilon",
         "Active_predicted_Active",
         "Active_predicted_Inactive",
         "Inactive_predicted_Inactive",
         "Inactive_predicted_Active",
         "Empty_preds_Active",
         "Empty_preds_Inactive",
         "Uncertain_preds"
        ],
        "columnOrder": [],
        "columnsFrozen": {},
        "columnsFrozenRight": {},
        "columnsVisible": {},
        "contextMenuItems": [],
        "contextMenuTags": {},
        "fontColor": [],
        "hasDoubleClickAction": false,
        "hasIndex": "true",
        "headersVertical": false,
        "rendererForColumn": {},
        "rendererForType": {},
        "stringFormatForColumn": {},
        "stringFormatForType": {},
        "subtype": "ListOfMaps",
        "tooManyRows": false,
        "tooltips": [],
        "type": "TableDisplay",
        "types": [
         "double",
         "integer",
         "integer",
         "integer",
         "integer",
         "integer",
         "integer",
         "integer"
        ],
        "values": [
         [
          "0.01",
          "4537",
          "511",
          "4646",
          "470",
          "0",
          "0",
          "89836"
         ],
         [
          "0.05",
          "12998",
          "2591",
          "13059",
          "2455",
          "0",
          "0",
          "68897"
         ],
         [
          "0.1",
          "19685",
          "5131",
          "19464",
          "5066",
          "0",
          "0",
          "50654"
         ],
         [
          "0.15",
          "24307",
          "7487",
          "24171",
          "7579",
          "0",
          "0",
          "36456"
         ],
         [
          "0.2",
          "28303",
          "9906",
          "27958",
          "10105",
          "0",
          "0",
          "23728"
         ],
         [
          "0.25",
          "31581",
          "12504",
          "31222",
          "12590",
          "0",
          "0",
          "12103"
         ],
         [
          "0.5",
          "25033",
          "7973",
          "25042",
          "7985",
          "16994",
          "16973",
          "0"
         ],
         [
          "0.75",
          "12598",
          "2415",
          "12550",
          "2318",
          "34987",
          "35132",
          "0"
         ],
         [
          "0.8",
          "10077",
          "1715",
          "10008",
          "1648",
          "38208",
          "38344",
          "0"
         ],
         [
          "0.85",
          "7488",
          "1094",
          "7472",
          "1031",
          "41418",
          "41497",
          "0"
         ],
         [
          "0.9",
          "4985",
          "580",
          "4988",
          "548",
          "44435",
          "44464",
          "0"
         ],
         [
          "0.95",
          "2507",
          "220",
          "2519",
          "193",
          "47273",
          "47288",
          "0"
         ],
         [
          "0.99",
          "472",
          "26",
          "503",
          "17",
          "49502",
          "49480",
          "0"
         ]
        ]
       }
      }
     },
     "c0e7e359736448958af82fedc147dfbc": {
      "model_module": "beakerx",
      "model_module_version": "*",
      "model_name": "TableDisplayModel",
      "state": {
       "layout": "IPY_MODEL_a15de55314834632b038d593b151f497",
       "model": {
        "alignmentForColumn": {},
        "alignmentForType": {},
        "cellHighlighters": [],
        "columnNames": [
         null,
         "prec_at_k=10",
         "prec_at_k=25",
         "prec_at_k=50",
         "prec_at_k=100",
         "prec_at_k=200",
         "avg_prec"
        ],
        "columnOrder": [],
        "columnsFrozen": {},
        "columnsFrozenRight": {},
        "columnsVisible": {},
        "contextMenuItems": [],
        "contextMenuTags": {},
        "fontColor": [],
        "hasDoubleClickAction": false,
        "hasIndex": "true",
        "headersVertical": false,
        "rendererForColumn": {},
        "rendererForType": {},
        "stringFormatForColumn": {},
        "stringFormatForType": {},
        "subtype": "ListOfMaps",
        "tooManyRows": false,
        "tooltips": [],
        "type": "TableDisplay",
        "types": [
         "string",
         "double",
         "double",
         "double",
         "double",
         "double",
         "double"
        ],
        "values": [
         [
          "Positives lowest p_0",
          "1.0",
          "1.0",
          "0.98",
          "0.99",
          "0.99",
          "0.35413262604634116"
         ],
         [
          "Negatives lowest p_1",
          "1.0",
          "1.0",
          "0.98",
          "0.97",
          "0.97",
          "0.3541563122413709"
         ],
         [
          "Positives highest p_1",
          "1.0",
          "1.0",
          "0.98",
          "0.99",
          "0.99",
          "0.35413264768937935"
         ],
         [
          "Negatives highest p_0",
          "1.0",
          "1.0",
          "0.98",
          "0.97",
          "0.97",
          "0.3541565540551139"
         ]
        ]
       }
      }
     },
     "c49c8c5892654506bc5bc48b0c2ff017": {
      "model_module": "beakerx",
      "model_module_version": "*",
      "model_name": "TableDisplayModel",
      "state": {
       "layout": "IPY_MODEL_a19e9ce5b4364ec980e1fa9ec9f77f0d",
       "model": {
        "alignmentForColumn": {},
        "alignmentForType": {},
        "cellHighlighters": [],
        "columnNames": [
         "p-values, epsilon",
         "Active_predicted_Active",
         "Active_predicted_Inactive",
         "Inactive_predicted_Inactive",
         "Inactive_predicted_Active",
         "Empty_preds_Active",
         "Empty_preds_Inactive",
         "Uncertain_preds"
        ],
        "columnOrder": [],
        "columnsFrozen": {},
        "columnsFrozenRight": {},
        "columnsVisible": {},
        "contextMenuItems": [],
        "contextMenuTags": {},
        "fontColor": [],
        "hasDoubleClickAction": false,
        "hasIndex": "true",
        "headersVertical": false,
        "rendererForColumn": {},
        "rendererForType": {},
        "stringFormatForColumn": {},
        "stringFormatForType": {},
        "subtype": "ListOfMaps",
        "tooManyRows": false,
        "tooltips": [],
        "type": "TableDisplay",
        "types": [
         "string",
         "integer",
         "integer",
         "integer",
         "integer",
         "integer",
         "integer",
         "integer"
        ],
        "values": [
         [
          "('a', 0.1)",
          "19685",
          "5131",
          "19464",
          "5066",
          "0",
          "0",
          "50654"
         ],
         [
          "('b', 0.1)",
          "19852",
          "4970",
          "19546",
          "5096",
          "0",
          "0",
          "50536"
         ],
         [
          "('Fisher', 0.1)",
          "26568",
          "4651",
          "26327",
          "4636",
          "370",
          "368",
          "37080"
         ],
         [
          "('NP Comb', 0.1)",
          "27905",
          "5162",
          "27831",
          "5213",
          "0",
          "0",
          "33889"
         ],
         [
          "('NP Comb Spline', 0.1)",
          "27671",
          "4967",
          "27521",
          "4941",
          "0",
          "0",
          "34900"
         ]
        ]
       }
      }
     },
     "c76ed4741f1a4bf09bec598d168b77b1": {
      "model_module": "@jupyter-widgets/base",
      "model_module_version": "*",
      "model_name": "LayoutModel",
      "state": {
       "_model_module_version": "*",
       "_view_module_version": "*"
      }
     },
     "c811c18d0a2c400c935665f24e3d4dd4": {
      "model_module": "beakerx",
      "model_module_version": "*",
      "model_name": "TableDisplayModel",
      "state": {
       "layout": "IPY_MODEL_2e0343a2367b417fac64b7b727081fd9",
       "model": {
        "alignmentForColumn": {},
        "alignmentForType": {},
        "cellHighlighters": [],
        "columnNames": [
         0.01,
         "Active_predicted_Active",
         "Active_predicted_Inactive",
         "Inactive_predicted_Inactive",
         "Inactive_predicted_Active",
         "Empty_preds_Active",
         "Empty_preds_Inactive",
         "Uncertain_preds"
        ],
        "columnOrder": [],
        "columnsFrozen": {},
        "columnsFrozenRight": {},
        "columnsVisible": {},
        "contextMenuItems": [],
        "contextMenuTags": {},
        "fontColor": [],
        "hasDoubleClickAction": false,
        "hasIndex": "true",
        "headersVertical": false,
        "rendererForColumn": {},
        "rendererForType": {},
        "stringFormatForColumn": {},
        "stringFormatForType": {},
        "subtype": "ListOfMaps",
        "tooManyRows": false,
        "tooltips": [],
        "type": "TableDisplay",
        "types": [
         "string",
         "integer",
         "integer",
         "integer",
         "integer",
         "integer",
         "integer",
         "integer"
        ],
        "values": [
         [
          "a",
          "4537",
          "511",
          "4646",
          "470",
          "0",
          "0",
          "89836"
         ],
         [
          "b",
          "4566",
          "481",
          "4594",
          "477",
          "0",
          "0",
          "89882"
         ],
         [
          "Fisher",
          "8399",
          "478",
          "8404",
          "490",
          "4",
          "3",
          "82222"
         ],
         [
          "NP Comb",
          "9512",
          "501",
          "9045",
          "544",
          "0",
          "0",
          "80398"
         ],
         [
          "NP Comb Spline",
          "8966",
          "485",
          "8720",
          "505",
          "0",
          "0",
          "81324"
         ]
        ]
       }
      }
     },
     "c84ff88995c44d7b8475b8bcfd6124b3": {
      "model_module": "beakerx",
      "model_module_version": "*",
      "model_name": "TableDisplayModel",
      "state": {
       "layout": "IPY_MODEL_fc5d1e32b8494253aa521e4096fe3faa",
       "model": {
        "alignmentForColumn": {},
        "alignmentForType": {},
        "cellHighlighters": [],
        "columnNames": [
         null,
         "prec_at_k=10",
         "prec_at_k=25",
         "prec_at_k=50",
         "prec_at_k=100",
         "prec_at_k=200",
         "avg_prec"
        ],
        "columnOrder": [],
        "columnsFrozen": {},
        "columnsFrozenRight": {},
        "columnsVisible": {},
        "contextMenuItems": [],
        "contextMenuTags": {},
        "fontColor": [],
        "hasDoubleClickAction": false,
        "hasIndex": "true",
        "headersVertical": false,
        "rendererForColumn": {},
        "rendererForType": {},
        "stringFormatForColumn": {},
        "stringFormatForType": {},
        "subtype": "ListOfMaps",
        "tooManyRows": false,
        "tooltips": [],
        "type": "TableDisplay",
        "types": [
         "string",
         "double",
         "double",
         "double",
         "double",
         "double",
         "double"
        ],
        "values": [
         [
          "Positives lowest p_0",
          "0.984",
          "0.984",
          "0.984",
          "0.984",
          "0.99",
          "0.3319987108472502"
         ],
         [
          "Negatives lowest p_1",
          "1.0",
          "1.0",
          "1.0",
          "1.0",
          "0.995",
          "0.3320873181635298"
         ],
         [
          "Positives highest p_1",
          "1.0",
          "1.0",
          "1.0",
          "1.0",
          "0.97",
          "0.332043904413557"
         ],
         [
          "Negatives highest p_0",
          "1.0",
          "0.92",
          "0.96",
          "0.98",
          "0.97",
          "0.3319618148037781"
         ]
        ]
       }
      }
     },
     "c8a360827a3244c1a7f4183ec510b17d": {
      "model_module": "beakerx",
      "model_module_version": "*",
      "model_name": "TableDisplayModel",
      "state": {
       "layout": "IPY_MODEL_21b985f16b934b69bcbb95b8009f6d00",
       "model": {
        "alignmentForColumn": {},
        "alignmentForType": {},
        "cellHighlighters": [],
        "columnNames": [
         "epsilon",
         "Active_predicted_Active",
         "Active_predicted_Inactive",
         "Inactive_predicted_Inactive",
         "Inactive_predicted_Active",
         "Empty_preds",
         "Uncertain_preds"
        ],
        "columnOrder": [],
        "columnsFrozen": {},
        "columnsFrozenRight": {},
        "columnsVisible": {},
        "contextMenuItems": [],
        "contextMenuTags": {},
        "fontColor": [],
        "hasDoubleClickAction": false,
        "hasIndex": "true",
        "headersVertical": false,
        "rendererForColumn": {},
        "rendererForType": {},
        "stringFormatForColumn": {},
        "stringFormatForType": {},
        "subtype": "ListOfMaps",
        "tooManyRows": false,
        "tooltips": [],
        "type": "TableDisplay",
        "types": [
         "double",
         "integer",
         "integer",
         "integer",
         "integer",
         "integer",
         "integer"
        ],
        "values": [
         [
          "0.01",
          "33185",
          "477",
          "33082",
          "496",
          "55",
          "32705"
         ],
         [
          "0.05",
          "42658",
          "2087",
          "42632",
          "2109",
          "944",
          "9570"
         ],
         [
          "0.1",
          "44324",
          "3115",
          "44301",
          "3195",
          "4067",
          "998"
         ],
         [
          "0.15",
          "42385",
          "2211",
          "42240",
          "2264",
          "10900",
          "0"
         ],
         [
          "0.2",
          "39775",
          "1441",
          "39697",
          "1507",
          "17580",
          "0"
         ],
         [
          "0.25",
          "37324",
          "961",
          "37297",
          "1003",
          "23415",
          "0"
         ],
         [
          "0.5",
          "24961",
          "154",
          "24819",
          "175",
          "49891",
          "0"
         ],
         [
          "0.75",
          "12527",
          "15",
          "12316",
          "17",
          "75125",
          "0"
         ],
         [
          "0.8",
          "10080",
          "10",
          "9839",
          "9",
          "80062",
          "0"
         ],
         [
          "0.85",
          "7562",
          "5",
          "7369",
          "3",
          "85061",
          "0"
         ],
         [
          "0.9",
          "5068",
          "1",
          "4895",
          "2",
          "90034",
          "0"
         ],
         [
          "0.95",
          "2573",
          "0",
          "2461",
          "0",
          "94966",
          "0"
         ],
         [
          "0.99",
          "531",
          "0",
          "520",
          "0",
          "98949",
          "0"
         ]
        ]
       }
      }
     },
     "c97c332579d84a058b7f022691debafd": {
      "model_module": "beakerx",
      "model_module_version": "*",
      "model_name": "TableDisplayModel",
      "state": {
       "layout": "IPY_MODEL_0bbed8eb0d0c4347946e287c074deca0",
       "model": {
        "alignmentForColumn": {},
        "alignmentForType": {},
        "cellHighlighters": [],
        "columnNames": [
         null,
         "prec_at_k=10",
         "prec_at_k=25",
         "prec_at_k=50",
         "prec_at_k=100",
         "prec_at_k=200",
         "avg_prec"
        ],
        "columnOrder": [],
        "columnsFrozen": {},
        "columnsFrozenRight": {},
        "columnsVisible": {},
        "contextMenuItems": [],
        "contextMenuTags": {},
        "fontColor": [],
        "hasDoubleClickAction": false,
        "hasIndex": "true",
        "headersVertical": false,
        "rendererForColumn": {},
        "rendererForType": {},
        "stringFormatForColumn": {},
        "stringFormatForType": {},
        "subtype": "ListOfMaps",
        "tooManyRows": false,
        "tooltips": [],
        "type": "TableDisplay",
        "types": [
         "string",
         "double",
         "double",
         "double",
         "double",
         "double",
         "double"
        ],
        "values": [
         [
          "Positives lowest p_0",
          "0.9",
          "0.96",
          "0.96",
          "0.98",
          "0.97",
          "0.35530492218046394"
         ],
         [
          "Negatives lowest p_1",
          "1.0",
          "1.0",
          "1.0",
          "0.99",
          "0.98",
          "0.3550647772236817"
         ],
         [
          "Positives highest p_1",
          "1.0",
          "1.0",
          "0.98",
          "0.98",
          "0.975",
          "0.35530521639502505"
         ],
         [
          "Negatives highest p_0",
          "1.0",
          "1.0",
          "1.0",
          "0.99",
          "0.98",
          "0.3550698359027796"
         ]
        ]
       }
      }
     },
     "c9e136ef5e5145d98737d3ab6b99513d": {
      "model_module": "beakerx",
      "model_module_version": "*",
      "model_name": "TableDisplayModel",
      "state": {
       "layout": "IPY_MODEL_50fbd0dc39fe4fa083e5f223e8d8f090",
       "model": {
        "alignmentForColumn": {},
        "alignmentForType": {},
        "cellHighlighters": [],
        "columnNames": [
         null,
         "prec_at_k=10",
         "prec_at_k=25",
         "prec_at_k=50",
         "prec_at_k=100",
         "prec_at_k=200",
         "avg_prec"
        ],
        "columnOrder": [],
        "columnsFrozen": {},
        "columnsFrozenRight": {},
        "columnsVisible": {},
        "contextMenuItems": [],
        "contextMenuTags": {},
        "fontColor": [],
        "hasDoubleClickAction": false,
        "hasIndex": "true",
        "headersVertical": false,
        "rendererForColumn": {},
        "rendererForType": {},
        "stringFormatForColumn": {},
        "stringFormatForType": {},
        "subtype": "ListOfMaps",
        "tooManyRows": false,
        "tooltips": [],
        "type": "TableDisplay",
        "types": [
         "string",
         "double",
         "double",
         "double",
         "double",
         "double",
         "double"
        ],
        "values": [
         [
          "Positives lowest p_0",
          "0.984",
          "0.984",
          "0.984",
          "0.984",
          "0.99",
          "0.3319987108472502"
         ],
         [
          "Negatives lowest p_1",
          "1.0",
          "1.0",
          "1.0",
          "1.0",
          "0.995",
          "0.3320873181635298"
         ],
         [
          "Positives highest p_1",
          "1.0",
          "1.0",
          "1.0",
          "1.0",
          "0.97",
          "0.332043904413557"
         ],
         [
          "Negatives highest p_0",
          "1.0",
          "0.92",
          "0.96",
          "0.98",
          "0.97",
          "0.3319618148037781"
         ]
        ]
       }
      }
     },
     "caea398397dc493fa0e6f0d0e20bea27": {
      "model_module": "beakerx",
      "model_module_version": "*",
      "model_name": "TableDisplayModel",
      "state": {
       "layout": "IPY_MODEL_cbec32750c3f4416b40128fed510cd4c",
       "model": {
        "alignmentForColumn": {},
        "alignmentForType": {},
        "cellHighlighters": [],
        "columnNames": [
         "epsilon",
         "Active_predicted_Active",
         "Active_predicted_Inactive",
         "Inactive_predicted_Inactive",
         "Inactive_predicted_Active",
         "Empty_preds_Active",
         "Empty_preds_Inactive",
         "Uncertain_preds"
        ],
        "columnOrder": [],
        "columnsFrozen": {},
        "columnsFrozenRight": {},
        "columnsVisible": {},
        "contextMenuItems": [],
        "contextMenuTags": {},
        "fontColor": [],
        "hasDoubleClickAction": false,
        "hasIndex": "true",
        "headersVertical": false,
        "rendererForColumn": {},
        "rendererForType": {},
        "stringFormatForColumn": {},
        "stringFormatForType": {},
        "subtype": "ListOfMaps",
        "tooManyRows": false,
        "tooltips": [],
        "type": "TableDisplay",
        "types": [
         "double",
         "integer",
         "integer",
         "integer",
         "integer",
         "integer",
         "integer",
         "integer"
        ],
        "values": [
         [
          "0.01",
          "4566",
          "481",
          "4594",
          "477",
          "0",
          "0",
          "89882"
         ],
         [
          "0.05",
          "13228",
          "2524",
          "13162",
          "2508",
          "0",
          "0",
          "68578"
         ],
         [
          "0.1",
          "19852",
          "4970",
          "19546",
          "5096",
          "0",
          "0",
          "50536"
         ],
         [
          "0.15",
          "24566",
          "7380",
          "24156",
          "7607",
          "0",
          "0",
          "36291"
         ],
         [
          "0.2",
          "28391",
          "9757",
          "28118",
          "10011",
          "0",
          "0",
          "23723"
         ],
         [
          "0.25",
          "31638",
          "12209",
          "31345",
          "12512",
          "0",
          "0",
          "12296"
         ],
         [
          "0.5",
          "25322",
          "7932",
          "25091",
          "8069",
          "16746",
          "16840",
          "0"
         ],
         [
          "0.75",
          "12897",
          "2322",
          "12553",
          "2399",
          "34781",
          "35048",
          "0"
         ],
         [
          "0.8",
          "10284",
          "1622",
          "10112",
          "1667",
          "38094",
          "38221",
          "0"
         ],
         [
          "0.85",
          "7704",
          "1007",
          "7555",
          "1060",
          "41289",
          "41385",
          "0"
         ],
         [
          "0.9",
          "5104",
          "540",
          "4962",
          "570",
          "44356",
          "44468",
          "0"
         ],
         [
          "0.95",
          "2566",
          "191",
          "2560",
          "211",
          "47243",
          "47229",
          "0"
         ],
         [
          "0.99",
          "504",
          "14",
          "554",
          "19",
          "49482",
          "49427",
          "0"
         ]
        ]
       }
      }
     },
     "cb929b2066ec4d5587b8a8110782c494": {
      "model_module": "beakerx",
      "model_module_version": "*",
      "model_name": "TableDisplayModel",
      "state": {
       "layout": "IPY_MODEL_8361e79051f94ff68601ec7f48c88fd4",
       "model": {
        "alignmentForColumn": {},
        "alignmentForType": {},
        "cellHighlighters": [],
        "columnNames": [
         "epsilon",
         "Active_predicted_Active",
         "Active_predicted_Inactive",
         "Inactive_predicted_Inactive",
         "Inactive_predicted_Active",
         "Empty_preds_Active",
         "Empty_preds_Inactive",
         "Uncertain_preds"
        ],
        "columnOrder": [],
        "columnsFrozen": {},
        "columnsFrozenRight": {},
        "columnsVisible": {},
        "contextMenuItems": [],
        "contextMenuTags": {},
        "fontColor": [],
        "hasDoubleClickAction": false,
        "hasIndex": "true",
        "headersVertical": false,
        "rendererForColumn": {},
        "rendererForType": {},
        "stringFormatForColumn": {},
        "stringFormatForType": {},
        "subtype": "ListOfMaps",
        "tooManyRows": false,
        "tooltips": [],
        "type": "TableDisplay",
        "types": [
         "double",
         "integer",
         "integer",
         "integer",
         "integer",
         "integer",
         "integer",
         "integer"
        ],
        "values": [
         [
          "0.01",
          "8399",
          "478",
          "8404",
          "490",
          "4",
          "3",
          "82222"
         ],
         [
          "0.05",
          "19522",
          "2409",
          "19399",
          "2352",
          "82",
          "82",
          "56154"
         ],
         [
          "0.1",
          "26568",
          "4651",
          "26327",
          "4636",
          "370",
          "368",
          "37080"
         ],
         [
          "0.15",
          "30736",
          "6565",
          "30491",
          "6601",
          "918",
          "921",
          "23768"
         ],
         [
          "0.2",
          "33390",
          "8111",
          "33088",
          "8210",
          "1807",
          "1868",
          "13526"
         ],
         [
          "0.25",
          "34654",
          "9118",
          "34471",
          "9295",
          "3265",
          "3263",
          "5934"
         ],
         [
          "0.5",
          "25163",
          "4215",
          "24903",
          "4299",
          "20622",
          "20798",
          "0"
         ],
         [
          "0.75",
          "12633",
          "1025",
          "12529",
          "1027",
          "36342",
          "36444",
          "0"
         ],
         [
          "0.8",
          "10204",
          "676",
          "9952",
          "673",
          "39120",
          "39375",
          "0"
         ],
         [
          "0.85",
          "7704",
          "390",
          "7503",
          "416",
          "41906",
          "42081",
          "0"
         ],
         [
          "0.9",
          "5173",
          "185",
          "4976",
          "211",
          "44642",
          "44813",
          "0"
         ],
         [
          "0.95",
          "2603",
          "62",
          "2565",
          "63",
          "47335",
          "47372",
          "0"
         ],
         [
          "0.99",
          "498",
          "1",
          "491",
          "8",
          "49501",
          "49501",
          "0"
         ]
        ]
       }
      }
     },
     "cbec32750c3f4416b40128fed510cd4c": {
      "model_module": "@jupyter-widgets/base",
      "model_module_version": "*",
      "model_name": "LayoutModel",
      "state": {
       "_model_module_version": "*",
       "_view_module_version": "*"
      }
     },
     "cc5764da2bba4220b166a7f49ca73832": {
      "model_module": "@jupyter-widgets/base",
      "model_module_version": "*",
      "model_name": "LayoutModel",
      "state": {
       "_model_module_version": "*",
       "_view_module_version": "*"
      }
     },
     "cda39252eceb4697975d1c721e88c39c": {
      "model_module": "@jupyter-widgets/base",
      "model_module_version": "*",
      "model_name": "LayoutModel",
      "state": {
       "_model_module_version": "*",
       "_view_module_version": "*"
      }
     },
     "cf8671ae8ebc4ca19d84c93bf46de75b": {
      "model_module": "@jupyter-widgets/base",
      "model_module_version": "*",
      "model_name": "LayoutModel",
      "state": {
       "_model_module_version": "*",
       "_view_module_version": "*"
      }
     },
     "d351f5433362439fa4dfe5f1805a1e39": {
      "model_module": "@jupyter-widgets/base",
      "model_module_version": "*",
      "model_name": "LayoutModel",
      "state": {
       "_model_module_version": "*",
       "_view_module_version": "*"
      }
     },
     "d46b210cc3404e7386c08c6f48e96160": {
      "model_module": "beakerx",
      "model_module_version": "*",
      "model_name": "TableDisplayModel",
      "state": {
       "layout": "IPY_MODEL_1f14c40838344dad809aab3d08ae0257",
       "model": {
        "alignmentForColumn": {},
        "alignmentForType": {},
        "cellHighlighters": [],
        "columnNames": [
         "p-values, epsilon",
         "Active_predicted_Active",
         "Active_predicted_Inactive",
         "Inactive_predicted_Inactive",
         "Inactive_predicted_Active",
         "Empty_preds_Active",
         "Empty_preds_Inactive",
         "Uncertain_preds"
        ],
        "columnOrder": [],
        "columnsFrozen": {},
        "columnsFrozenRight": {},
        "columnsVisible": {},
        "contextMenuItems": [],
        "contextMenuTags": {},
        "fontColor": [],
        "hasDoubleClickAction": false,
        "hasIndex": "true",
        "headersVertical": false,
        "rendererForColumn": {},
        "rendererForType": {},
        "stringFormatForColumn": {},
        "stringFormatForType": {},
        "subtype": "ListOfMaps",
        "tooManyRows": false,
        "tooltips": [],
        "type": "TableDisplay",
        "types": [
         "string",
         "integer",
         "integer",
         "integer",
         "integer",
         "integer",
         "integer",
         "integer"
        ],
        "values": [
         [
          "('a', 0.05)",
          "12998",
          "2591",
          "13059",
          "2455",
          "0",
          "0",
          "68897"
         ],
         [
          "('b', 0.05)",
          "13228",
          "2524",
          "13162",
          "2508",
          "0",
          "0",
          "68578"
         ],
         [
          "('Fisher', 0.05)",
          "19522",
          "2409",
          "19399",
          "2352",
          "82",
          "82",
          "56154"
         ],
         [
          "('NP Comb', 0.05)",
          "20722",
          "2627",
          "20781",
          "2607",
          "0",
          "0",
          "53263"
         ],
         [
          "('NP Comb Spline', 0.05)",
          "20199",
          "2470",
          "20153",
          "2515",
          "0",
          "0",
          "54663"
         ]
        ]
       }
      }
     },
     "d47a71a036dd4ed28afaf6d1b0e97621": {
      "model_module": "@jupyter-widgets/base",
      "model_module_version": "*",
      "model_name": "LayoutModel",
      "state": {
       "_model_module_version": "*",
       "_view_module_version": "*"
      }
     },
     "d79eb0a7c00e4a97a33eff8e64fad98b": {
      "model_module": "beakerx",
      "model_module_version": "*",
      "model_name": "TableDisplayModel",
      "state": {
       "layout": "IPY_MODEL_34505521958e4b6288381dbb32eef21c",
       "model": {
        "alignmentForColumn": {},
        "alignmentForType": {},
        "cellHighlighters": [],
        "columnNames": [
         null,
         "prec_at_k=10",
         "prec_at_k=25",
         "prec_at_k=50",
         "prec_at_k=100",
         "prec_at_k=200",
         "avg_prec"
        ],
        "columnOrder": [],
        "columnsFrozen": {},
        "columnsFrozenRight": {},
        "columnsVisible": {},
        "contextMenuItems": [],
        "contextMenuTags": {},
        "fontColor": [],
        "hasDoubleClickAction": false,
        "hasIndex": "true",
        "headersVertical": false,
        "rendererForColumn": {},
        "rendererForType": {},
        "stringFormatForColumn": {},
        "stringFormatForType": {},
        "subtype": "ListOfMaps",
        "tooManyRows": false,
        "tooltips": [],
        "type": "TableDisplay",
        "types": [
         "string",
         "double",
         "double",
         "double",
         "double",
         "double",
         "double"
        ],
        "values": [
         [
          "Positives lowest p_0",
          "0.9",
          "0.96",
          "0.96",
          "0.98",
          "0.97",
          "0.35530492218046394"
         ],
         [
          "Negatives lowest p_1",
          "1.0",
          "1.0",
          "1.0",
          "0.99",
          "0.98",
          "0.3550647772236817"
         ],
         [
          "Positives highest p_1",
          "1.0",
          "1.0",
          "0.98",
          "0.98",
          "0.975",
          "0.35530521639502505"
         ],
         [
          "Negatives highest p_0",
          "1.0",
          "1.0",
          "1.0",
          "0.99",
          "0.98",
          "0.3550698359027796"
         ]
        ]
       }
      }
     },
     "d8b6bdacbdfd4dc6a3ef1cd1ef59829e": {
      "model_module": "@jupyter-widgets/base",
      "model_module_version": "*",
      "model_name": "LayoutModel",
      "state": {
       "_model_module_version": "*",
       "_view_module_version": "*"
      }
     },
     "d92dee18da3148d58ef2fc9423f2a769": {
      "model_module": "beakerx",
      "model_module_version": "*",
      "model_name": "TableDisplayModel",
      "state": {
       "layout": "IPY_MODEL_719f48315c3d459295ca3d5735156fea",
       "model": {
        "alignmentForColumn": {},
        "alignmentForType": {},
        "cellHighlighters": [],
        "columnNames": [
         "epsilon",
         "Active_predicted_Active",
         "Active_predicted_Inactive",
         "Inactive_predicted_Inactive",
         "Inactive_predicted_Active",
         "Empty_preds_Active",
         "Empty_preds_Inactive",
         "Uncertain_preds"
        ],
        "columnOrder": [],
        "columnsFrozen": {},
        "columnsFrozenRight": {},
        "columnsVisible": {},
        "contextMenuItems": [],
        "contextMenuTags": {},
        "fontColor": [],
        "hasDoubleClickAction": false,
        "hasIndex": "true",
        "headersVertical": false,
        "rendererForColumn": {},
        "rendererForType": {},
        "stringFormatForColumn": {},
        "stringFormatForType": {},
        "subtype": "ListOfMaps",
        "tooManyRows": false,
        "tooltips": [],
        "type": "TableDisplay",
        "types": [
         "double",
         "integer",
         "integer",
         "integer",
         "integer",
         "integer",
         "integer",
         "integer"
        ],
        "values": [
         [
          "0.01",
          "4566",
          "481",
          "4594",
          "477",
          "0",
          "0",
          "89882"
         ],
         [
          "0.05",
          "13228",
          "2524",
          "13162",
          "2508",
          "0",
          "0",
          "68578"
         ],
         [
          "0.1",
          "19852",
          "4970",
          "19546",
          "5096",
          "0",
          "0",
          "50536"
         ],
         [
          "0.15",
          "24566",
          "7380",
          "24156",
          "7607",
          "0",
          "0",
          "36291"
         ],
         [
          "0.2",
          "28391",
          "9757",
          "28118",
          "10011",
          "0",
          "0",
          "23723"
         ],
         [
          "0.25",
          "31638",
          "12209",
          "31345",
          "12512",
          "0",
          "0",
          "12296"
         ],
         [
          "0.5",
          "25322",
          "7932",
          "25091",
          "8069",
          "16746",
          "16840",
          "0"
         ],
         [
          "0.75",
          "12897",
          "2322",
          "12553",
          "2399",
          "34781",
          "35048",
          "0"
         ],
         [
          "0.8",
          "10284",
          "1622",
          "10112",
          "1667",
          "38094",
          "38221",
          "0"
         ],
         [
          "0.85",
          "7704",
          "1007",
          "7555",
          "1060",
          "41289",
          "41385",
          "0"
         ],
         [
          "0.9",
          "5104",
          "540",
          "4962",
          "570",
          "44356",
          "44468",
          "0"
         ],
         [
          "0.95",
          "2566",
          "191",
          "2560",
          "211",
          "47243",
          "47229",
          "0"
         ],
         [
          "0.99",
          "504",
          "14",
          "554",
          "19",
          "49482",
          "49427",
          "0"
         ]
        ]
       }
      }
     },
     "db3a8ba2e329462b831db9d72fe35dc9": {
      "model_module": "beakerx",
      "model_module_version": "*",
      "model_name": "TableDisplayModel",
      "state": {
       "layout": "IPY_MODEL_d8b6bdacbdfd4dc6a3ef1cd1ef59829e",
       "model": {
        "alignmentForColumn": {},
        "alignmentForType": {},
        "cellHighlighters": [],
        "columnNames": [
         "epsilon",
         "Active_predicted_Active",
         "Active_predicted_Inactive",
         "Inactive_predicted_Inactive",
         "Inactive_predicted_Active",
         "Empty_preds_Active",
         "Empty_preds_Inactive",
         "Uncertain_preds"
        ],
        "columnOrder": [],
        "columnsFrozen": {},
        "columnsFrozenRight": {},
        "columnsVisible": {},
        "contextMenuItems": [],
        "contextMenuTags": {},
        "fontColor": [],
        "hasDoubleClickAction": false,
        "hasIndex": "true",
        "headersVertical": false,
        "rendererForColumn": {},
        "rendererForType": {},
        "stringFormatForColumn": {},
        "stringFormatForType": {},
        "subtype": "ListOfMaps",
        "tooManyRows": false,
        "tooltips": [],
        "type": "TableDisplay",
        "types": [
         "double",
         "integer",
         "integer",
         "integer",
         "integer",
         "integer",
         "integer",
         "integer"
        ],
        "values": [
         [
          "0.01",
          "4537",
          "511",
          "4646",
          "470",
          "0",
          "0",
          "89836"
         ],
         [
          "0.05",
          "12998",
          "2591",
          "13059",
          "2455",
          "0",
          "0",
          "68897"
         ],
         [
          "0.1",
          "19685",
          "5131",
          "19464",
          "5066",
          "0",
          "0",
          "50654"
         ],
         [
          "0.15",
          "24307",
          "7487",
          "24171",
          "7579",
          "0",
          "0",
          "36456"
         ],
         [
          "0.2",
          "28303",
          "9906",
          "27958",
          "10105",
          "0",
          "0",
          "23728"
         ],
         [
          "0.25",
          "31581",
          "12504",
          "31222",
          "12590",
          "0",
          "0",
          "12103"
         ],
         [
          "0.5",
          "25033",
          "7973",
          "25042",
          "7985",
          "16994",
          "16973",
          "0"
         ],
         [
          "0.75",
          "12598",
          "2415",
          "12550",
          "2318",
          "34987",
          "35132",
          "0"
         ],
         [
          "0.8",
          "10077",
          "1715",
          "10008",
          "1648",
          "38208",
          "38344",
          "0"
         ],
         [
          "0.85",
          "7488",
          "1094",
          "7472",
          "1031",
          "41418",
          "41497",
          "0"
         ],
         [
          "0.9",
          "4985",
          "580",
          "4988",
          "548",
          "44435",
          "44464",
          "0"
         ],
         [
          "0.95",
          "2507",
          "220",
          "2519",
          "193",
          "47273",
          "47288",
          "0"
         ],
         [
          "0.99",
          "472",
          "26",
          "503",
          "17",
          "49502",
          "49480",
          "0"
         ]
        ]
       }
      }
     },
     "e00e9abed1ce49428d2e9a572cbc3916": {
      "model_module": "@jupyter-widgets/base",
      "model_module_version": "*",
      "model_name": "LayoutModel",
      "state": {
       "_model_module_version": "*",
       "_view_module_version": "*"
      }
     },
     "e01f4e386dac40ddb61c47e91523dbf5": {
      "model_module": "beakerx",
      "model_module_version": "*",
      "model_name": "TableDisplayModel",
      "state": {
       "layout": "IPY_MODEL_e1178e61b4ff4e2d967c3d24137daa32",
       "model": {
        "alignmentForColumn": {},
        "alignmentForType": {},
        "cellHighlighters": [],
        "columnNames": [
         "p-values",
         "Active_predicted_Active",
         "Active_predicted_Inactive",
         "Inactive_predicted_Inactive",
         "Inactive_predicted_Active",
         "Empty_preds_Active",
         "Empty_preds_Inactive",
         "Uncertain_preds"
        ],
        "columnOrder": [],
        "columnsFrozen": {},
        "columnsFrozenRight": {},
        "columnsVisible": {},
        "contextMenuItems": [],
        "contextMenuTags": {},
        "fontColor": [],
        "hasDoubleClickAction": false,
        "hasIndex": "true",
        "headersVertical": false,
        "rendererForColumn": {},
        "rendererForType": {},
        "stringFormatForColumn": {},
        "stringFormatForType": {},
        "subtype": "ListOfMaps",
        "tooManyRows": false,
        "tooltips": [],
        "type": "TableDisplay",
        "types": [
         "string",
         "integer",
         "integer",
         "integer",
         "integer",
         "integer",
         "integer",
         "integer"
        ],
        "values": [
         [
          "a",
          "19685",
          "5131",
          "19464",
          "5066",
          "0",
          "0",
          "50654"
         ],
         [
          "b",
          "19852",
          "4970",
          "19546",
          "5096",
          "0",
          "0",
          "50536"
         ],
         [
          "Fisher",
          "26568",
          "4651",
          "26327",
          "4636",
          "370",
          "368",
          "37080"
         ],
         [
          "NP Comb",
          "27905",
          "5162",
          "27831",
          "5213",
          "0",
          "0",
          "33889"
         ],
         [
          "NP Comb Spline",
          "27671",
          "4967",
          "27521",
          "4941",
          "0",
          "0",
          "34900"
         ]
        ]
       }
      }
     },
     "e1178e61b4ff4e2d967c3d24137daa32": {
      "model_module": "@jupyter-widgets/base",
      "model_module_version": "*",
      "model_name": "LayoutModel",
      "state": {
       "_model_module_version": "*",
       "_view_module_version": "*"
      }
     },
     "e3b9b5e67a6045979fd05c844c88e5b9": {
      "model_module": "beakerx",
      "model_module_version": "*",
      "model_name": "TableDisplayModel",
      "state": {
       "layout": "IPY_MODEL_5ffa6355f98f4db68bd271be0dc8d205",
       "model": {
        "alignmentForColumn": {},
        "alignmentForType": {},
        "cellHighlighters": [],
        "columnNames": [
         "epsilon",
         "Active_predicted_Active",
         "Active_predicted_Inactive",
         "Inactive_predicted_Inactive",
         "Inactive_predicted_Active",
         "Empty_preds_Active",
         "Empty_preds_Inactive",
         "Uncertain_preds"
        ],
        "columnOrder": [],
        "columnsFrozen": {},
        "columnsFrozenRight": {},
        "columnsVisible": {},
        "contextMenuItems": [],
        "contextMenuTags": {},
        "fontColor": [],
        "hasDoubleClickAction": false,
        "hasIndex": "true",
        "headersVertical": false,
        "rendererForColumn": {},
        "rendererForType": {},
        "stringFormatForColumn": {},
        "stringFormatForType": {},
        "subtype": "ListOfMaps",
        "tooManyRows": false,
        "tooltips": [],
        "type": "TableDisplay",
        "types": [
         "double",
         "integer",
         "integer",
         "integer",
         "integer",
         "integer",
         "integer",
         "integer"
        ],
        "values": [
         [
          "0.01",
          "9512",
          "501",
          "9045",
          "544",
          "0",
          "0",
          "80398"
         ],
         [
          "0.05",
          "20722",
          "2627",
          "20781",
          "2607",
          "0",
          "0",
          "53263"
         ],
         [
          "0.1",
          "27905",
          "5162",
          "27831",
          "5213",
          "0",
          "0",
          "33889"
         ],
         [
          "0.15",
          "32629",
          "7596",
          "32348",
          "7799",
          "0",
          "1",
          "19627"
         ],
         [
          "0.2",
          "35944",
          "10058",
          "35674",
          "10262",
          "48",
          "42",
          "7972"
         ],
         [
          "0.25",
          "36872",
          "10905",
          "36621",
          "11215",
          "1833",
          "1779",
          "775"
         ],
         [
          "0.5",
          "24784",
          "3905",
          "24505",
          "3958",
          "21311",
          "21537",
          "0"
         ],
         [
          "0.75",
          "12258",
          "915",
          "11967",
          "947",
          "36827",
          "37086",
          "0"
         ],
         [
          "0.8",
          "9782",
          "593",
          "9547",
          "662",
          "39625",
          "39791",
          "0"
         ],
         [
          "0.85",
          "7368",
          "374",
          "7179",
          "410",
          "42258",
          "42411",
          "0"
         ],
         [
          "0.9",
          "4899",
          "213",
          "4848",
          "228",
          "44888",
          "44924",
          "0"
         ],
         [
          "0.95",
          "2415",
          "88",
          "2433",
          "85",
          "47497",
          "47482",
          "0"
         ],
         [
          "0.99",
          "508",
          "26",
          "489",
          "27",
          "49466",
          "49484",
          "0"
         ]
        ]
       }
      }
     },
     "ec82bc21e34f4b07a28360f63ccbc529": {
      "model_module": "@jupyter-widgets/base",
      "model_module_version": "*",
      "model_name": "LayoutModel",
      "state": {
       "_model_module_version": "*",
       "_view_module_version": "*"
      }
     },
     "f3086fd6c5914911847d4c450ac843b7": {
      "model_module": "beakerx",
      "model_module_version": "*",
      "model_name": "TableDisplayModel",
      "state": {
       "layout": "IPY_MODEL_c76ed4741f1a4bf09bec598d168b77b1",
       "model": {
        "alignmentForColumn": {},
        "alignmentForType": {},
        "cellHighlighters": [],
        "columnNames": [
         "p-values, epsilon",
         "Active_predicted_Active",
         "Active_predicted_Inactive",
         "Inactive_predicted_Inactive",
         "Inactive_predicted_Active",
         "Empty_preds_Active",
         "Empty_preds_Inactive",
         "Uncertain_preds"
        ],
        "columnOrder": [],
        "columnsFrozen": {},
        "columnsFrozenRight": {},
        "columnsVisible": {},
        "contextMenuItems": [],
        "contextMenuTags": {},
        "fontColor": [],
        "hasDoubleClickAction": false,
        "hasIndex": "true",
        "headersVertical": false,
        "rendererForColumn": {},
        "rendererForType": {},
        "stringFormatForColumn": {},
        "stringFormatForType": {},
        "subtype": "ListOfMaps",
        "tooManyRows": false,
        "tooltips": [],
        "type": "TableDisplay",
        "types": [
         "string",
         "integer",
         "integer",
         "integer",
         "integer",
         "integer",
         "integer",
         "integer"
        ],
        "values": [
         [
          "('a', 0.01)",
          "4537",
          "511",
          "4646",
          "470",
          "0",
          "0",
          "89836"
         ],
         [
          "('a', 0.05)",
          "12998",
          "2591",
          "13059",
          "2455",
          "0",
          "0",
          "68897"
         ],
         [
          "('a', 0.1)",
          "19685",
          "5131",
          "19464",
          "5066",
          "0",
          "0",
          "50654"
         ],
         [
          "('a', 0.15)",
          "24307",
          "7487",
          "24171",
          "7579",
          "0",
          "0",
          "36456"
         ],
         [
          "('a', 0.2)",
          "28303",
          "9906",
          "27958",
          "10105",
          "0",
          "0",
          "23728"
         ],
         [
          "('a', 0.25)",
          "31581",
          "12504",
          "31222",
          "12590",
          "0",
          "0",
          "12103"
         ],
         [
          "('a', 0.5)",
          "25033",
          "7973",
          "25042",
          "7985",
          "16994",
          "16973",
          "0"
         ],
         [
          "('a', 0.75)",
          "12598",
          "2415",
          "12550",
          "2318",
          "34987",
          "35132",
          "0"
         ],
         [
          "('a', 0.8)",
          "10077",
          "1715",
          "10008",
          "1648",
          "38208",
          "38344",
          "0"
         ],
         [
          "('a', 0.85)",
          "7488",
          "1094",
          "7472",
          "1031",
          "41418",
          "41497",
          "0"
         ],
         [
          "('a', 0.9)",
          "4985",
          "580",
          "4988",
          "548",
          "44435",
          "44464",
          "0"
         ],
         [
          "('a', 0.95)",
          "2507",
          "220",
          "2519",
          "193",
          "47273",
          "47288",
          "0"
         ],
         [
          "('a', 0.99)",
          "472",
          "26",
          "503",
          "17",
          "49502",
          "49480",
          "0"
         ],
         [
          "('b', 0.01)",
          "4566",
          "481",
          "4594",
          "477",
          "0",
          "0",
          "89882"
         ],
         [
          "('b', 0.05)",
          "13228",
          "2524",
          "13162",
          "2508",
          "0",
          "0",
          "68578"
         ],
         [
          "('b', 0.1)",
          "19852",
          "4970",
          "19546",
          "5096",
          "0",
          "0",
          "50536"
         ],
         [
          "('b', 0.15)",
          "24566",
          "7380",
          "24156",
          "7607",
          "0",
          "0",
          "36291"
         ],
         [
          "('b', 0.2)",
          "28391",
          "9757",
          "28118",
          "10011",
          "0",
          "0",
          "23723"
         ],
         [
          "('b', 0.25)",
          "31638",
          "12209",
          "31345",
          "12512",
          "0",
          "0",
          "12296"
         ],
         [
          "('b', 0.5)",
          "25322",
          "7932",
          "25091",
          "8069",
          "16746",
          "16840",
          "0"
         ],
         [
          "('b', 0.75)",
          "12897",
          "2322",
          "12553",
          "2399",
          "34781",
          "35048",
          "0"
         ],
         [
          "('b', 0.8)",
          "10284",
          "1622",
          "10112",
          "1667",
          "38094",
          "38221",
          "0"
         ],
         [
          "('b', 0.85)",
          "7704",
          "1007",
          "7555",
          "1060",
          "41289",
          "41385",
          "0"
         ],
         [
          "('b', 0.9)",
          "5104",
          "540",
          "4962",
          "570",
          "44356",
          "44468",
          "0"
         ],
         [
          "('b', 0.95)",
          "2566",
          "191",
          "2560",
          "211",
          "47243",
          "47229",
          "0"
         ],
         [
          "('b', 0.99)",
          "504",
          "14",
          "554",
          "19",
          "49482",
          "49427",
          "0"
         ],
         [
          "('Fisher', 0.01)",
          "8399",
          "478",
          "8404",
          "490",
          "4",
          "3",
          "82222"
         ],
         [
          "('Fisher', 0.05)",
          "19522",
          "2409",
          "19399",
          "2352",
          "82",
          "82",
          "56154"
         ],
         [
          "('Fisher', 0.1)",
          "26568",
          "4651",
          "26327",
          "4636",
          "370",
          "368",
          "37080"
         ],
         [
          "('Fisher', 0.15)",
          "30736",
          "6565",
          "30491",
          "6601",
          "918",
          "921",
          "23768"
         ],
         [
          "('Fisher', 0.2)",
          "33390",
          "8111",
          "33088",
          "8210",
          "1807",
          "1868",
          "13526"
         ],
         [
          "('Fisher', 0.25)",
          "34654",
          "9118",
          "34471",
          "9295",
          "3265",
          "3263",
          "5934"
         ],
         [
          "('Fisher', 0.5)",
          "25163",
          "4215",
          "24903",
          "4299",
          "20622",
          "20798",
          "0"
         ],
         [
          "('Fisher', 0.75)",
          "12633",
          "1025",
          "12529",
          "1027",
          "36342",
          "36444",
          "0"
         ],
         [
          "('Fisher', 0.8)",
          "10204",
          "676",
          "9952",
          "673",
          "39120",
          "39375",
          "0"
         ],
         [
          "('Fisher', 0.85)",
          "7704",
          "390",
          "7503",
          "416",
          "41906",
          "42081",
          "0"
         ],
         [
          "('Fisher', 0.9)",
          "5173",
          "185",
          "4976",
          "211",
          "44642",
          "44813",
          "0"
         ],
         [
          "('Fisher', 0.95)",
          "2603",
          "62",
          "2565",
          "63",
          "47335",
          "47372",
          "0"
         ],
         [
          "('Fisher', 0.99)",
          "498",
          "1",
          "491",
          "8",
          "49501",
          "49501",
          "0"
         ],
         [
          "('NP Comb', 0.01)",
          "9512",
          "501",
          "9045",
          "544",
          "0",
          "0",
          "80398"
         ],
         [
          "('NP Comb', 0.05)",
          "20722",
          "2627",
          "20781",
          "2607",
          "0",
          "0",
          "53263"
         ],
         [
          "('NP Comb', 0.1)",
          "27905",
          "5162",
          "27831",
          "5213",
          "0",
          "0",
          "33889"
         ],
         [
          "('NP Comb', 0.15)",
          "32629",
          "7596",
          "32348",
          "7799",
          "0",
          "1",
          "19627"
         ],
         [
          "('NP Comb', 0.2)",
          "35944",
          "10058",
          "35674",
          "10262",
          "48",
          "42",
          "7972"
         ],
         [
          "('NP Comb', 0.25)",
          "36872",
          "10905",
          "36621",
          "11215",
          "1833",
          "1779",
          "775"
         ],
         [
          "('NP Comb', 0.5)",
          "24784",
          "3905",
          "24505",
          "3958",
          "21311",
          "21537",
          "0"
         ],
         [
          "('NP Comb', 0.75)",
          "12258",
          "915",
          "11967",
          "947",
          "36827",
          "37086",
          "0"
         ],
         [
          "('NP Comb', 0.8)",
          "9782",
          "593",
          "9547",
          "662",
          "39625",
          "39791",
          "0"
         ],
         [
          "('NP Comb', 0.85)",
          "7368",
          "374",
          "7179",
          "410",
          "42258",
          "42411",
          "0"
         ],
         [
          "('NP Comb', 0.9)",
          "4899",
          "213",
          "4848",
          "228",
          "44888",
          "44924",
          "0"
         ],
         [
          "('NP Comb', 0.95)",
          "2415",
          "88",
          "2433",
          "85",
          "47497",
          "47482",
          "0"
         ],
         [
          "('NP Comb', 0.99)",
          "508",
          "26",
          "489",
          "27",
          "49466",
          "49484",
          "0"
         ],
         [
          "('NP Comb Spline', 0.01)",
          "8966",
          "485",
          "8720",
          "505",
          "0",
          "0",
          "81324"
         ],
         [
          "('NP Comb Spline', 0.05)",
          "20199",
          "2470",
          "20153",
          "2515",
          "0",
          "0",
          "54663"
         ],
         [
          "('NP Comb Spline', 0.1)",
          "27671",
          "4967",
          "27521",
          "4941",
          "0",
          "0",
          "34900"
         ],
         [
          "('NP Comb Spline', 0.15)",
          "32542",
          "7363",
          "32267",
          "7522",
          "0",
          "0",
          "20306"
         ],
         [
          "('NP Comb Spline', 0.2)",
          "35954",
          "9822",
          "35761",
          "10008",
          "0",
          "0",
          "8455"
         ],
         [
          "('NP Comb Spline', 0.25)",
          "37497",
          "11133",
          "37206",
          "11366",
          "1150",
          "1193",
          "455"
         ],
         [
          "('NP Comb Spline', 0.5)",
          "25169",
          "3950",
          "24989",
          "3966",
          "20881",
          "21045",
          "0"
         ],
         [
          "('NP Comb Spline', 0.75)",
          "12529",
          "911",
          "12220",
          "939",
          "36560",
          "36841",
          "0"
         ],
         [
          "('NP Comb Spline', 0.8)",
          "10024",
          "572",
          "9771",
          "593",
          "39404",
          "39636",
          "0"
         ],
         [
          "('NP Comb Spline', 0.85)",
          "7443",
          "346",
          "7405",
          "364",
          "42211",
          "42231",
          "0"
         ],
         [
          "('NP Comb Spline', 0.9)",
          "4981",
          "173",
          "5025",
          "193",
          "44846",
          "44782",
          "0"
         ],
         [
          "('NP Comb Spline', 0.95)",
          "2604",
          "58",
          "2577",
          "66",
          "47338",
          "47357",
          "0"
         ],
         [
          "('NP Comb Spline', 0.99)",
          "508",
          "1",
          "478",
          "8",
          "49491",
          "49514",
          "0"
         ]
        ]
       }
      }
     },
     "f41e623fb81e4043a36247e74028454e": {
      "model_module": "@jupyter-widgets/base",
      "model_module_version": "*",
      "model_name": "LayoutModel",
      "state": {
       "_model_module_version": "*",
       "_view_module_version": "*"
      }
     },
     "f62e8c5603d14c61893ea20a25785e90": {
      "model_module": "beakerx",
      "model_module_version": "*",
      "model_name": "TableDisplayModel",
      "state": {
       "layout": "IPY_MODEL_41c98dc630b144989cdb82b6f731c464",
       "model": {
        "alignmentForColumn": {},
        "alignmentForType": {},
        "cellHighlighters": [],
        "columnNames": [
         null,
         "prec_at_k=10",
         "prec_at_k=25",
         "prec_at_k=50",
         "prec_at_k=100",
         "prec_at_k=200",
         "avg_prec"
        ],
        "columnOrder": [],
        "columnsFrozen": {},
        "columnsFrozenRight": {},
        "columnsVisible": {},
        "contextMenuItems": [],
        "contextMenuTags": {},
        "fontColor": [],
        "hasDoubleClickAction": false,
        "hasIndex": "true",
        "headersVertical": false,
        "rendererForColumn": {},
        "rendererForType": {},
        "stringFormatForColumn": {},
        "stringFormatForType": {},
        "subtype": "ListOfMaps",
        "tooManyRows": false,
        "tooltips": [],
        "type": "TableDisplay",
        "types": [
         "string",
         "double",
         "double",
         "double",
         "double",
         "double",
         "double"
        ],
        "values": [
         [
          "Positives lowest p_0",
          "0.984",
          "0.984",
          "0.984",
          "0.984",
          "0.99",
          "0.3319987108472502"
         ],
         [
          "Negatives lowest p_1",
          "1.0",
          "1.0",
          "1.0",
          "1.0",
          "0.995",
          "0.3320873181635298"
         ],
         [
          "Positives highest p_1",
          "1.0",
          "1.0",
          "1.0",
          "1.0",
          "0.97",
          "0.332043904413557"
         ],
         [
          "Negatives highest p_0",
          "1.0",
          "0.92",
          "0.96",
          "0.98",
          "0.97",
          "0.3319618148037781"
         ]
        ]
       }
      }
     },
     "f7e6c1bd3de940afbdfb1ab288facfea": {
      "model_module": "@jupyter-widgets/base",
      "model_module_version": "*",
      "model_name": "LayoutModel",
      "state": {
       "_model_module_version": "*",
       "_view_module_version": "*"
      }
     },
     "f953dc50ba07494e94db84d00760d1aa": {
      "model_module": "@jupyter-widgets/base",
      "model_module_version": "*",
      "model_name": "LayoutModel",
      "state": {
       "_model_module_version": "*",
       "_view_module_version": "*"
      }
     },
     "fc5d1e32b8494253aa521e4096fe3faa": {
      "model_module": "@jupyter-widgets/base",
      "model_module_version": "*",
      "model_name": "LayoutModel",
      "state": {
       "_model_module_version": "*",
       "_view_module_version": "*"
      }
     },
     "fc715eea3c8e41c29a9ed264c8eb20e6": {
      "model_module": "@jupyter-widgets/base",
      "model_module_version": "*",
      "model_name": "LayoutModel",
      "state": {
       "_model_module_version": "*",
       "_view_module_version": "*"
      }
     }
    },
    "version_major": 2,
    "version_minor": 0
   }
  }
 },
 "nbformat": 4,
 "nbformat_minor": 4
}